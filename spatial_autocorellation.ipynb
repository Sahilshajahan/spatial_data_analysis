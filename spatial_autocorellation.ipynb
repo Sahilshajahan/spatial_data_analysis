{
  "cells": [
    {
      "cell_type": "code",
      "execution_count": null,
      "id": "3251ea46",
      "metadata": {
        "id": "3251ea46",
        "outputId": "5ba7a742-c366-44b7-9851-5c53d8e83181"
      },
      "outputs": [
        {
          "name": "stdout",
          "output_type": "stream",
          "text": [
            "Requirement already satisfied: splot in c:\\users\\ahammad sahil\\anaconda3\\envs\\demo1\\lib\\site-packages (1.1.5.post1)\n",
            "Requirement already satisfied: esda in c:\\users\\ahammad sahil\\anaconda3\\envs\\demo1\\lib\\site-packages (from splot) (2.4.1)\n",
            "Requirement already satisfied: matplotlib in c:\\users\\ahammad sahil\\anaconda3\\envs\\demo1\\lib\\site-packages (from splot) (3.5.1)\n",
            "Requirement already satisfied: libpysal in c:\\users\\ahammad sahil\\anaconda3\\envs\\demo1\\lib\\site-packages (from splot) (4.6.2)\n",
            "Requirement already satisfied: mapclassify in c:\\users\\ahammad sahil\\anaconda3\\envs\\demo1\\lib\\site-packages (from splot) (2.4.3)\n",
            "Requirement already satisfied: spreg in c:\\users\\ahammad sahil\\anaconda3\\envs\\demo1\\lib\\site-packages (from splot) (1.2.4)\n",
            "Requirement already satisfied: seaborn in c:\\users\\ahammad sahil\\anaconda3\\envs\\demo1\\lib\\site-packages (from splot) (0.11.2)\n",
            "Requirement already satisfied: numpy in c:\\users\\ahammad sahil\\anaconda3\\envs\\demo1\\lib\\site-packages (from splot) (1.21.5)\n",
            "Requirement already satisfied: geopandas>=0.4.0 in c:\\users\\ahammad sahil\\anaconda3\\envs\\demo1\\lib\\site-packages (from splot) (0.9.0)\n",
            "Requirement already satisfied: giddy in c:\\users\\ahammad sahil\\anaconda3\\envs\\demo1\\lib\\site-packages (from splot) (2.3.3)\n",
            "Requirement already satisfied: pandas>=0.24.0 in c:\\users\\ahammad sahil\\anaconda3\\envs\\demo1\\lib\\site-packages (from geopandas>=0.4.0->splot) (1.4.1)\n",
            "Requirement already satisfied: shapely>=1.6 in c:\\users\\ahammad sahil\\anaconda3\\envs\\demo1\\lib\\site-packages (from geopandas>=0.4.0->splot) (1.7.1)\n",
            "Requirement already satisfied: fiona>=1.8 in c:\\users\\ahammad sahil\\anaconda3\\envs\\demo1\\lib\\site-packages (from geopandas>=0.4.0->splot) (1.8.13.post1)\n",
            "Requirement already satisfied: pyproj>=2.2.0 in c:\\users\\ahammad sahil\\anaconda3\\envs\\demo1\\lib\\site-packages (from geopandas>=0.4.0->splot) (2.6.1.post1)\n",
            "Requirement already satisfied: attrs>=17 in c:\\users\\ahammad sahil\\anaconda3\\envs\\demo1\\lib\\site-packages (from fiona>=1.8->geopandas>=0.4.0->splot) (21.4.0)\n",
            "Requirement already satisfied: click<8,>=4.0 in c:\\users\\ahammad sahil\\anaconda3\\envs\\demo1\\lib\\site-packages (from fiona>=1.8->geopandas>=0.4.0->splot) (7.1.2)\n",
            "Requirement already satisfied: cligj>=0.5 in c:\\users\\ahammad sahil\\anaconda3\\envs\\demo1\\lib\\site-packages (from fiona>=1.8->geopandas>=0.4.0->splot) (0.7.2)\n",
            "Requirement already satisfied: click-plugins>=1.0 in c:\\users\\ahammad sahil\\anaconda3\\envs\\demo1\\lib\\site-packages (from fiona>=1.8->geopandas>=0.4.0->splot) (1.1.1)\n",
            "Requirement already satisfied: six>=1.7 in c:\\users\\ahammad sahil\\anaconda3\\envs\\demo1\\lib\\site-packages (from fiona>=1.8->geopandas>=0.4.0->splot) (1.16.0)\n",
            "Requirement already satisfied: munch in c:\\users\\ahammad sahil\\anaconda3\\envs\\demo1\\lib\\site-packages (from fiona>=1.8->geopandas>=0.4.0->splot) (2.5.0)\n",
            "Requirement already satisfied: python-dateutil>=2.8.1 in c:\\users\\ahammad sahil\\anaconda3\\envs\\demo1\\lib\\site-packages (from pandas>=0.24.0->geopandas>=0.4.0->splot) (2.8.2)\n",
            "Requirement already satisfied: pytz>=2020.1 in c:\\users\\ahammad sahil\\anaconda3\\envs\\demo1\\lib\\site-packages (from pandas>=0.24.0->geopandas>=0.4.0->splot) (2021.3)\n",
            "Requirement already satisfied: scikit-learn in c:\\users\\ahammad sahil\\anaconda3\\envs\\demo1\\lib\\site-packages (from esda->splot) (1.0.2)\n",
            "Requirement already satisfied: scipy>=0.11 in c:\\users\\ahammad sahil\\anaconda3\\envs\\demo1\\lib\\site-packages (from esda->splot) (1.7.3)\n",
            "Requirement already satisfied: quantecon>=0.4.7 in c:\\users\\ahammad sahil\\anaconda3\\envs\\demo1\\lib\\site-packages (from giddy->splot) (0.5.3)\n",
            "Requirement already satisfied: jinja2 in c:\\users\\ahammad sahil\\anaconda3\\envs\\demo1\\lib\\site-packages (from libpysal->splot) (3.0.3)\n",
            "Requirement already satisfied: requests in c:\\users\\ahammad sahil\\anaconda3\\envs\\demo1\\lib\\site-packages (from libpysal->splot) (2.27.1)\n",
            "Requirement already satisfied: packaging in c:\\users\\ahammad sahil\\anaconda3\\envs\\demo1\\lib\\site-packages (from libpysal->splot) (21.3)\n",
            "Requirement already satisfied: beautifulsoup4 in c:\\users\\ahammad sahil\\anaconda3\\envs\\demo1\\lib\\site-packages (from libpysal->splot) (4.11.1)\n",
            "Requirement already satisfied: appdirs in c:\\users\\ahammad sahil\\anaconda3\\envs\\demo1\\lib\\site-packages (from libpysal->splot) (1.4.4)\n",
            "Requirement already satisfied: networkx in c:\\users\\ahammad sahil\\anaconda3\\envs\\demo1\\lib\\site-packages (from mapclassify->splot) (2.7.1)\n",
            "Requirement already satisfied: numba in c:\\users\\ahammad sahil\\anaconda3\\envs\\demo1\\lib\\site-packages (from quantecon>=0.4.7->giddy->splot) (0.55.1)\n",
            "Requirement already satisfied: sympy in c:\\users\\ahammad sahil\\anaconda3\\envs\\demo1\\lib\\site-packages (from quantecon>=0.4.7->giddy->splot) (1.10.1)\n",
            "Requirement already satisfied: soupsieve>1.2 in c:\\users\\ahammad sahil\\anaconda3\\envs\\demo1\\lib\\site-packages (from beautifulsoup4->libpysal->splot) (2.3.2.post1)\n",
            "Requirement already satisfied: MarkupSafe>=2.0 in c:\\users\\ahammad sahil\\anaconda3\\envs\\demo1\\lib\\site-packages (from jinja2->libpysal->splot) (2.0.1)\n",
            "Requirement already satisfied: fonttools>=4.22.0 in c:\\users\\ahammad sahil\\anaconda3\\envs\\demo1\\lib\\site-packages (from matplotlib->splot) (4.25.0)\n",
            "Requirement already satisfied: cycler>=0.10 in c:\\users\\ahammad sahil\\anaconda3\\envs\\demo1\\lib\\site-packages (from matplotlib->splot) (0.11.0)\n",
            "Requirement already satisfied: kiwisolver>=1.0.1 in c:\\users\\ahammad sahil\\anaconda3\\envs\\demo1\\lib\\site-packages (from matplotlib->splot) (1.3.2)\n",
            "Requirement already satisfied: pyparsing>=2.2.1 in c:\\users\\ahammad sahil\\anaconda3\\envs\\demo1\\lib\\site-packages (from matplotlib->splot) (3.0.4)\n",
            "Requirement already satisfied: pillow>=6.2.0 in c:\\users\\ahammad sahil\\anaconda3\\envs\\demo1\\lib\\site-packages (from matplotlib->splot) (9.0.1)\n",
            "Requirement already satisfied: setuptools in c:\\users\\ahammad sahil\\anaconda3\\envs\\demo1\\lib\\site-packages (from numba->quantecon>=0.4.7->giddy->splot) (58.0.4)\n",
            "Requirement already satisfied: llvmlite<0.39,>=0.38.0rc1 in c:\\users\\ahammad sahil\\anaconda3\\envs\\demo1\\lib\\site-packages (from numba->quantecon>=0.4.7->giddy->splot) (0.38.1)\n",
            "Requirement already satisfied: charset-normalizer~=2.0.0 in c:\\users\\ahammad sahil\\anaconda3\\envs\\demo1\\lib\\site-packages (from requests->libpysal->splot) (2.0.12)\n",
            "Requirement already satisfied: certifi>=2017.4.17 in c:\\users\\ahammad sahil\\anaconda3\\envs\\demo1\\lib\\site-packages (from requests->libpysal->splot) (2021.10.8)\n",
            "Requirement already satisfied: idna<4,>=2.5 in c:\\users\\ahammad sahil\\anaconda3\\envs\\demo1\\lib\\site-packages (from requests->libpysal->splot) (3.3)\n",
            "Requirement already satisfied: urllib3<1.27,>=1.21.1 in c:\\users\\ahammad sahil\\anaconda3\\envs\\demo1\\lib\\site-packages (from requests->libpysal->splot) (1.26.9)\n",
            "Requirement already satisfied: threadpoolctl>=2.0.0 in c:\\users\\ahammad sahil\\anaconda3\\envs\\demo1\\lib\\site-packages (from scikit-learn->esda->splot) (2.2.0)\n",
            "Requirement already satisfied: joblib>=0.11 in c:\\users\\ahammad sahil\\anaconda3\\envs\\demo1\\lib\\site-packages (from scikit-learn->esda->splot) (1.1.0)\n",
            "Requirement already satisfied: mpmath>=0.19 in c:\\users\\ahammad sahil\\anaconda3\\envs\\demo1\\lib\\site-packages (from sympy->quantecon>=0.4.7->giddy->splot) (1.2.1)\n",
            "Note: you may need to restart the kernel to use updated packages.\n"
          ]
        }
      ],
      "source": [
        "#install splot;The Spot Package allows you to create publish-ready \n",
        "# static plots and interactive visualizations for quick repetition and spatial data exploration.\n",
        "pip install splot"
      ]
    },
    {
      "cell_type": "code",
      "execution_count": null,
      "id": "36d1dc22",
      "metadata": {
        "id": "36d1dc22",
        "outputId": "3340876b-24a1-4ad0-9856-59394b528e2b"
      },
      "outputs": [
        {
          "name": "stdout",
          "output_type": "stream",
          "text": [
            "Collecting contextily\n",
            "  Downloading contextily-1.2.0-py3-none-any.whl (16 kB)\n",
            "Requirement already satisfied: rasterio in c:\\users\\ahammad sahil\\anaconda3\\envs\\demo1\\lib\\site-packages (from contextily) (1.2.10)\n",
            "Requirement already satisfied: requests in c:\\users\\ahammad sahil\\anaconda3\\envs\\demo1\\lib\\site-packages (from contextily) (2.27.1)\n",
            "Requirement already satisfied: joblib in c:\\users\\ahammad sahil\\anaconda3\\envs\\demo1\\lib\\site-packages (from contextily) (1.1.0)\n",
            "Collecting xyzservices\n",
            "  Downloading xyzservices-2022.4.0-py3-none-any.whl (36 kB)\n",
            "Requirement already satisfied: pillow in c:\\users\\ahammad sahil\\anaconda3\\envs\\demo1\\lib\\site-packages (from contextily) (9.0.1)\n",
            "Collecting geopy\n",
            "  Downloading geopy-2.2.0-py3-none-any.whl (118 kB)\n",
            "Requirement already satisfied: matplotlib in c:\\users\\ahammad sahil\\anaconda3\\envs\\demo1\\lib\\site-packages (from contextily) (3.5.1)\n",
            "Collecting mercantile\n",
            "  Downloading mercantile-1.2.1-py3-none-any.whl (14 kB)\n",
            "Collecting geographiclib<2,>=1.49\n",
            "  Downloading geographiclib-1.52-py3-none-any.whl (38 kB)\n",
            "Requirement already satisfied: packaging>=20.0 in c:\\users\\ahammad sahil\\anaconda3\\envs\\demo1\\lib\\site-packages (from matplotlib->contextily) (21.3)\n",
            "Requirement already satisfied: pyparsing>=2.2.1 in c:\\users\\ahammad sahil\\anaconda3\\envs\\demo1\\lib\\site-packages (from matplotlib->contextily) (3.0.4)\n",
            "Requirement already satisfied: python-dateutil>=2.7 in c:\\users\\ahammad sahil\\anaconda3\\envs\\demo1\\lib\\site-packages (from matplotlib->contextily) (2.8.2)\n",
            "Requirement already satisfied: fonttools>=4.22.0 in c:\\users\\ahammad sahil\\anaconda3\\envs\\demo1\\lib\\site-packages (from matplotlib->contextily) (4.25.0)\n",
            "Requirement already satisfied: numpy>=1.17 in c:\\users\\ahammad sahil\\anaconda3\\envs\\demo1\\lib\\site-packages (from matplotlib->contextily) (1.21.5)\n",
            "Requirement already satisfied: cycler>=0.10 in c:\\users\\ahammad sahil\\anaconda3\\envs\\demo1\\lib\\site-packages (from matplotlib->contextily) (0.11.0)\n",
            "Requirement already satisfied: kiwisolver>=1.0.1 in c:\\users\\ahammad sahil\\anaconda3\\envs\\demo1\\lib\\site-packages (from matplotlib->contextily) (1.3.2)\n",
            "Requirement already satisfied: six>=1.5 in c:\\users\\ahammad sahil\\anaconda3\\envs\\demo1\\lib\\site-packages (from python-dateutil>=2.7->matplotlib->contextily) (1.16.0)\n",
            "Requirement already satisfied: click>=3.0 in c:\\users\\ahammad sahil\\anaconda3\\envs\\demo1\\lib\\site-packages (from mercantile->contextily) (7.1.2)\n",
            "Requirement already satisfied: affine in c:\\users\\ahammad sahil\\anaconda3\\envs\\demo1\\lib\\site-packages (from rasterio->contextily) (2.3.0)\n",
            "Requirement already satisfied: attrs in c:\\users\\ahammad sahil\\anaconda3\\envs\\demo1\\lib\\site-packages (from rasterio->contextily) (21.4.0)\n",
            "Requirement already satisfied: certifi in c:\\users\\ahammad sahil\\anaconda3\\envs\\demo1\\lib\\site-packages (from rasterio->contextily) (2021.10.8)\n",
            "Requirement already satisfied: cligj>=0.5 in c:\\users\\ahammad sahil\\anaconda3\\envs\\demo1\\lib\\site-packages (from rasterio->contextily) (0.7.2)\n",
            "Requirement already satisfied: snuggs>=1.4.1 in c:\\users\\ahammad sahil\\anaconda3\\envs\\demo1\\lib\\site-packages (from rasterio->contextily) (1.4.7)\n",
            "Requirement already satisfied: click-plugins in c:\\users\\ahammad sahil\\anaconda3\\envs\\demo1\\lib\\site-packages (from rasterio->contextily) (1.1.1)\n",
            "Requirement already satisfied: setuptools in c:\\users\\ahammad sahil\\anaconda3\\envs\\demo1\\lib\\site-packages (from rasterio->contextily) (58.0.4)\n",
            "Requirement already satisfied: idna<4,>=2.5 in c:\\users\\ahammad sahil\\anaconda3\\envs\\demo1\\lib\\site-packages (from requests->contextily) (3.3)\n",
            "Requirement already satisfied: charset-normalizer~=2.0.0 in c:\\users\\ahammad sahil\\anaconda3\\envs\\demo1\\lib\\site-packages (from requests->contextily) (2.0.12)\n",
            "Requirement already satisfied: urllib3<1.27,>=1.21.1 in c:\\users\\ahammad sahil\\anaconda3\\envs\\demo1\\lib\\site-packages (from requests->contextily) (1.26.9)\n",
            "Installing collected packages: geographiclib, xyzservices, mercantile, geopy, contextily\n",
            "Successfully installed contextily-1.2.0 geographiclib-1.52 geopy-2.2.0 mercantile-1.2.1 xyzservices-2022.4.0\n",
            "Note: you may need to restart the kernel to use updated packages.\n"
          ]
        }
      ],
      "source": [
        "#contextily is a small Python 3 (3.7 and above) package to retrieve tile maps\n",
        "# from the internet. It can add those tiles as basemap to matplotlib figures or \n",
        "# write tile maps to disk into geospatial raster files.\n",
        "pip install contextily"
      ]
    },
    {
      "cell_type": "code",
      "execution_count": null,
      "id": "b472ca3b",
      "metadata": {
        "id": "b472ca3b"
      },
      "outputs": [],
      "source": [
        "%matplotlib inline\n",
        "\n",
        "\n",
        "import seaborn as sns\n",
        "import pandas as pd\n",
        "import pysal as ps \n",
        "import geopandas as gp\n",
        "import numpy as np\n",
        "import matplotlib.pyplot as plt\n",
        "import esda\n",
        "from pysal.lib import weights\n",
        "from splot.esda import moran_scatterplot, lisa_cluster, plot_local_autocorrelation\n",
        "import contextily as ctx\n"
      ]
    },
    {
      "cell_type": "code",
      "execution_count": null,
      "id": "9f5a69a8",
      "metadata": {
        "id": "9f5a69a8",
        "outputId": "6085c400-1cb4-4e21-c954-3a5b9e6a70d3"
      },
      "outputs": [
        {
          "data": {
            "text/html": [
              "<div>\n",
              "<style scoped>\n",
              "    .dataframe tbody tr th:only-of-type {\n",
              "        vertical-align: middle;\n",
              "    }\n",
              "\n",
              "    .dataframe tbody tr th {\n",
              "        vertical-align: top;\n",
              "    }\n",
              "\n",
              "    .dataframe thead th {\n",
              "        text-align: right;\n",
              "    }\n",
              "</style>\n",
              "<table border=\"1\" class=\"dataframe\">\n",
              "  <thead>\n",
              "    <tr style=\"text-align: right;\">\n",
              "      <th></th>\n",
              "      <th>AREA</th>\n",
              "      <th>PERIMETER</th>\n",
              "      <th>GEODIST_ID</th>\n",
              "      <th>Name</th>\n",
              "      <th>District</th>\n",
              "      <th>State</th>\n",
              "      <th>geometry</th>\n",
              "    </tr>\n",
              "  </thead>\n",
              "  <tbody>\n",
              "    <tr>\n",
              "      <th>0</th>\n",
              "      <td>0.168803</td>\n",
              "      <td>3.053012</td>\n",
              "      <td>1</td>\n",
              "      <td>Kasaragod</td>\n",
              "      <td>KSD</td>\n",
              "      <td>Kerala</td>\n",
              "      <td>POLYGON ((74.94578 12.57147, 74.94448 12.57494...</td>\n",
              "    </tr>\n",
              "    <tr>\n",
              "      <th>1</th>\n",
              "      <td>0.248059</td>\n",
              "      <td>2.787290</td>\n",
              "      <td>2</td>\n",
              "      <td>Kannur</td>\n",
              "      <td>KNR</td>\n",
              "      <td>Kerala</td>\n",
              "      <td>POLYGON ((75.42784 12.29307, 75.42810 12.29323...</td>\n",
              "    </tr>\n",
              "    <tr>\n",
              "      <th>2</th>\n",
              "      <td>0.178607</td>\n",
              "      <td>2.495196</td>\n",
              "      <td>3</td>\n",
              "      <td>Wayanad</td>\n",
              "      <td>WYD</td>\n",
              "      <td>Kerala</td>\n",
              "      <td>POLYGON ((75.92936 11.93514, 75.93295 11.93469...</td>\n",
              "    </tr>\n",
              "    <tr>\n",
              "      <th>3</th>\n",
              "      <td>0.193825</td>\n",
              "      <td>2.570209</td>\n",
              "      <td>4</td>\n",
              "      <td>Kozhikode</td>\n",
              "      <td>KKD</td>\n",
              "      <td>Kerala</td>\n",
              "      <td>POLYGON ((75.75937 11.79730, 75.76196 11.79725...</td>\n",
              "    </tr>\n",
              "    <tr>\n",
              "      <th>4</th>\n",
              "      <td>0.296408</td>\n",
              "      <td>3.492978</td>\n",
              "      <td>5</td>\n",
              "      <td>Malappuram</td>\n",
              "      <td>MLP</td>\n",
              "      <td>Kerala</td>\n",
              "      <td>POLYGON ((76.24221 11.52130, 76.24353 11.51994...</td>\n",
              "    </tr>\n",
              "    <tr>\n",
              "      <th>5</th>\n",
              "      <td>0.371717</td>\n",
              "      <td>4.766361</td>\n",
              "      <td>6</td>\n",
              "      <td>Palakkad</td>\n",
              "      <td>PKD</td>\n",
              "      <td>Kerala</td>\n",
              "      <td>POLYGON ((76.44852 11.19700, 76.45201 11.19457...</td>\n",
              "    </tr>\n",
              "    <tr>\n",
              "      <th>6</th>\n",
              "      <td>0.246380</td>\n",
              "      <td>3.443637</td>\n",
              "      <td>7</td>\n",
              "      <td>Thrissur</td>\n",
              "      <td>THR</td>\n",
              "      <td>Kerala</td>\n",
              "      <td>POLYGON ((76.16014 10.70205, 76.16122 10.70243...</td>\n",
              "    </tr>\n",
              "    <tr>\n",
              "      <th>7</th>\n",
              "      <td>0.365632</td>\n",
              "      <td>4.938483</td>\n",
              "      <td>8</td>\n",
              "      <td>Idukki</td>\n",
              "      <td>IDK</td>\n",
              "      <td>Kerala</td>\n",
              "      <td>POLYGON ((76.79847 10.06109, 76.79912 10.06117...</td>\n",
              "    </tr>\n",
              "    <tr>\n",
              "      <th>8</th>\n",
              "      <td>0.248644</td>\n",
              "      <td>3.491411</td>\n",
              "      <td>9</td>\n",
              "      <td>Ernakulam</td>\n",
              "      <td>EKM</td>\n",
              "      <td>Kerala</td>\n",
              "      <td>POLYGON ((76.89947 10.25507, 76.90057 10.25363...</td>\n",
              "    </tr>\n",
              "    <tr>\n",
              "      <th>9</th>\n",
              "      <td>0.116386</td>\n",
              "      <td>2.581779</td>\n",
              "      <td>10</td>\n",
              "      <td>Alapuzha</td>\n",
              "      <td>ALP</td>\n",
              "      <td>Kerala</td>\n",
              "      <td>POLYGON ((76.37882 9.83945, 76.37931 9.83914, ...</td>\n",
              "    </tr>\n",
              "    <tr>\n",
              "      <th>10</th>\n",
              "      <td>0.182656</td>\n",
              "      <td>2.764841</td>\n",
              "      <td>11</td>\n",
              "      <td>Kottayam</td>\n",
              "      <td>KTM</td>\n",
              "      <td>Kerala</td>\n",
              "      <td>POLYGON ((76.63131 9.85615, 76.63165 9.85526, ...</td>\n",
              "    </tr>\n",
              "    <tr>\n",
              "      <th>11</th>\n",
              "      <td>0.222034</td>\n",
              "      <td>3.554904</td>\n",
              "      <td>12</td>\n",
              "      <td>Pathanamthitta</td>\n",
              "      <td>PTA</td>\n",
              "      <td>Kerala</td>\n",
              "      <td>POLYGON ((76.92003 9.41922, 76.91927 9.41807, ...</td>\n",
              "    </tr>\n",
              "    <tr>\n",
              "      <th>12</th>\n",
              "      <td>0.210442</td>\n",
              "      <td>3.067860</td>\n",
              "      <td>13</td>\n",
              "      <td>Kollam</td>\n",
              "      <td>KLM</td>\n",
              "      <td>Kerala</td>\n",
              "      <td>POLYGON ((77.08252 9.11043, 77.08339 9.10981, ...</td>\n",
              "    </tr>\n",
              "    <tr>\n",
              "      <th>13</th>\n",
              "      <td>0.185443</td>\n",
              "      <td>2.574688</td>\n",
              "      <td>14</td>\n",
              "      <td>Thiruvananthapuram</td>\n",
              "      <td>TVM</td>\n",
              "      <td>Kerala</td>\n",
              "      <td>POLYGON ((76.88728 8.80574, 76.88802 8.80580, ...</td>\n",
              "    </tr>\n",
              "  </tbody>\n",
              "</table>\n",
              "</div>"
            ],
            "text/plain": [
              "        AREA  PERIMETER  GEODIST_ID                Name District   State  \\\n",
              "0   0.168803   3.053012           1           Kasaragod      KSD  Kerala   \n",
              "1   0.248059   2.787290           2              Kannur      KNR  Kerala   \n",
              "2   0.178607   2.495196           3             Wayanad      WYD  Kerala   \n",
              "3   0.193825   2.570209           4           Kozhikode      KKD  Kerala   \n",
              "4   0.296408   3.492978           5          Malappuram      MLP  Kerala   \n",
              "5   0.371717   4.766361           6            Palakkad      PKD  Kerala   \n",
              "6   0.246380   3.443637           7            Thrissur      THR  Kerala   \n",
              "7   0.365632   4.938483           8              Idukki      IDK  Kerala   \n",
              "8   0.248644   3.491411           9           Ernakulam      EKM  Kerala   \n",
              "9   0.116386   2.581779          10            Alapuzha      ALP  Kerala   \n",
              "10  0.182656   2.764841          11            Kottayam      KTM  Kerala   \n",
              "11  0.222034   3.554904          12      Pathanamthitta      PTA  Kerala   \n",
              "12  0.210442   3.067860          13              Kollam      KLM  Kerala   \n",
              "13  0.185443   2.574688          14  Thiruvananthapuram      TVM  Kerala   \n",
              "\n",
              "                                             geometry  \n",
              "0   POLYGON ((74.94578 12.57147, 74.94448 12.57494...  \n",
              "1   POLYGON ((75.42784 12.29307, 75.42810 12.29323...  \n",
              "2   POLYGON ((75.92936 11.93514, 75.93295 11.93469...  \n",
              "3   POLYGON ((75.75937 11.79730, 75.76196 11.79725...  \n",
              "4   POLYGON ((76.24221 11.52130, 76.24353 11.51994...  \n",
              "5   POLYGON ((76.44852 11.19700, 76.45201 11.19457...  \n",
              "6   POLYGON ((76.16014 10.70205, 76.16122 10.70243...  \n",
              "7   POLYGON ((76.79847 10.06109, 76.79912 10.06117...  \n",
              "8   POLYGON ((76.89947 10.25507, 76.90057 10.25363...  \n",
              "9   POLYGON ((76.37882 9.83945, 76.37931 9.83914, ...  \n",
              "10  POLYGON ((76.63131 9.85615, 76.63165 9.85526, ...  \n",
              "11  POLYGON ((76.92003 9.41922, 76.91927 9.41807, ...  \n",
              "12  POLYGON ((77.08252 9.11043, 77.08339 9.10981, ...  \n",
              "13  POLYGON ((76.88728 8.80574, 76.88802 8.80580, ...  "
            ]
          },
          "execution_count": 8,
          "metadata": {},
          "output_type": "execute_result"
        }
      ],
      "source": [
        "#read the shp file\n",
        "d_atr=gp.read_file(r\"C:\\Users\\Ahammad Sahil\\Desktop\\SEM 2\\GA LAB\\anju\\pylab1\\Sample_Data_Geopandas_2022\\district.shp\")\n",
        "d_atr"
      ]
    },
    {
      "cell_type": "code",
      "execution_count": null,
      "id": "66e799f6",
      "metadata": {
        "id": "66e799f6",
        "outputId": "81c7c563-55a7-4af4-fd92-146f69cee3c0"
      },
      "outputs": [
        {
          "data": {
            "text/html": [
              "<div>\n",
              "<style scoped>\n",
              "    .dataframe tbody tr th:only-of-type {\n",
              "        vertical-align: middle;\n",
              "    }\n",
              "\n",
              "    .dataframe tbody tr th {\n",
              "        vertical-align: top;\n",
              "    }\n",
              "\n",
              "    .dataframe thead th {\n",
              "        text-align: right;\n",
              "    }\n",
              "</style>\n",
              "<table border=\"1\" class=\"dataframe\">\n",
              "  <thead>\n",
              "    <tr style=\"text-align: right;\">\n",
              "      <th></th>\n",
              "      <th>District</th>\n",
              "      <th>Confirmed</th>\n",
              "      <th>Death</th>\n",
              "      <th>Active</th>\n",
              "    </tr>\n",
              "  </thead>\n",
              "  <tbody>\n",
              "    <tr>\n",
              "      <th>0</th>\n",
              "      <td>EKM</td>\n",
              "      <td>895800</td>\n",
              "      <td>8262</td>\n",
              "      <td>4087</td>\n",
              "    </tr>\n",
              "    <tr>\n",
              "      <th>1</th>\n",
              "      <td>TVM</td>\n",
              "      <td>711679</td>\n",
              "      <td>8414</td>\n",
              "      <td>2371</td>\n",
              "    </tr>\n",
              "    <tr>\n",
              "      <th>2</th>\n",
              "      <td>KTM</td>\n",
              "      <td>453041</td>\n",
              "      <td>4528</td>\n",
              "      <td>1389</td>\n",
              "    </tr>\n",
              "    <tr>\n",
              "      <th>3</th>\n",
              "      <td>KKD</td>\n",
              "      <td>675635</td>\n",
              "      <td>6343</td>\n",
              "      <td>1149</td>\n",
              "    </tr>\n",
              "    <tr>\n",
              "      <th>4</th>\n",
              "      <td>THR</td>\n",
              "      <td>672302</td>\n",
              "      <td>7451</td>\n",
              "      <td>639</td>\n",
              "    </tr>\n",
              "    <tr>\n",
              "      <th>5</th>\n",
              "      <td>PTA</td>\n",
              "      <td>268645</td>\n",
              "      <td>2518</td>\n",
              "      <td>632</td>\n",
              "    </tr>\n",
              "    <tr>\n",
              "      <th>6</th>\n",
              "      <td>ALP</td>\n",
              "      <td>391343</td>\n",
              "      <td>5249</td>\n",
              "      <td>494</td>\n",
              "    </tr>\n",
              "    <tr>\n",
              "      <th>7</th>\n",
              "      <td>PKD</td>\n",
              "      <td>450345</td>\n",
              "      <td>5804</td>\n",
              "      <td>403</td>\n",
              "    </tr>\n",
              "    <tr>\n",
              "      <th>8</th>\n",
              "      <td>IDK</td>\n",
              "      <td>210258</td>\n",
              "      <td>1513</td>\n",
              "      <td>397</td>\n",
              "    </tr>\n",
              "    <tr>\n",
              "      <th>9</th>\n",
              "      <td>KLM</td>\n",
              "      <td>512156</td>\n",
              "      <td>6522</td>\n",
              "      <td>317</td>\n",
              "    </tr>\n",
              "    <tr>\n",
              "      <th>10</th>\n",
              "      <td>MLP</td>\n",
              "      <td>647640</td>\n",
              "      <td>6435</td>\n",
              "      <td>264</td>\n",
              "    </tr>\n",
              "    <tr>\n",
              "      <th>11</th>\n",
              "      <td>KNR</td>\n",
              "      <td>349531</td>\n",
              "      <td>4425</td>\n",
              "      <td>119</td>\n",
              "    </tr>\n",
              "    <tr>\n",
              "      <th>12</th>\n",
              "      <td>KSD</td>\n",
              "      <td>166751</td>\n",
              "      <td>1391</td>\n",
              "      <td>90</td>\n",
              "    </tr>\n",
              "    <tr>\n",
              "      <th>13</th>\n",
              "      <td>WYD</td>\n",
              "      <td>168540</td>\n",
              "      <td>974</td>\n",
              "      <td>87</td>\n",
              "    </tr>\n",
              "    <tr>\n",
              "      <th>14</th>\n",
              "      <td>Total</td>\n",
              "      <td>6573666</td>\n",
              "      <td>69829</td>\n",
              "      <td>12438</td>\n",
              "    </tr>\n",
              "  </tbody>\n",
              "</table>\n",
              "</div>"
            ],
            "text/plain": [
              "   District  Confirmed  Death  Active\n",
              "0       EKM     895800   8262    4087\n",
              "1       TVM     711679   8414    2371\n",
              "2       KTM     453041   4528    1389\n",
              "3       KKD     675635   6343    1149\n",
              "4       THR     672302   7451     639\n",
              "5       PTA     268645   2518     632\n",
              "6       ALP     391343   5249     494\n",
              "7       PKD     450345   5804     403\n",
              "8       IDK     210258   1513     397\n",
              "9       KLM     512156   6522     317\n",
              "10      MLP     647640   6435     264\n",
              "11      KNR     349531   4425     119\n",
              "12      KSD     166751   1391      90\n",
              "13      WYD     168540    974      87\n",
              "14    Total    6573666  69829   12438"
            ]
          },
          "execution_count": 10,
          "metadata": {},
          "output_type": "execute_result"
        }
      ],
      "source": [
        "#read the csv file\n",
        "d_atr2=pd.read_csv(r\"C:\\Users\\Ahammad Sahil\\Desktop\\SEM 2\\.Files\\1. csv\\covid19.csv\")\n",
        "d_atr2"
      ]
    },
    {
      "cell_type": "code",
      "execution_count": null,
      "id": "b8a2d98c",
      "metadata": {
        "id": "b8a2d98c"
      },
      "outputs": [],
      "source": [
        "#join attribute of shp and scv file using .merge function\n",
        "attribute_join=d_atr.merge(d_atr2,on='District') "
      ]
    },
    {
      "cell_type": "code",
      "execution_count": null,
      "id": "e28d7f23",
      "metadata": {
        "id": "e28d7f23",
        "outputId": "9ac9f31d-303c-4b75-e7dd-de1a4626cfbe"
      },
      "outputs": [
        {
          "data": {
            "text/html": [
              "<div>\n",
              "<style scoped>\n",
              "    .dataframe tbody tr th:only-of-type {\n",
              "        vertical-align: middle;\n",
              "    }\n",
              "\n",
              "    .dataframe tbody tr th {\n",
              "        vertical-align: top;\n",
              "    }\n",
              "\n",
              "    .dataframe thead th {\n",
              "        text-align: right;\n",
              "    }\n",
              "</style>\n",
              "<table border=\"1\" class=\"dataframe\">\n",
              "  <thead>\n",
              "    <tr style=\"text-align: right;\">\n",
              "      <th></th>\n",
              "      <th>AREA</th>\n",
              "      <th>PERIMETER</th>\n",
              "      <th>GEODIST_ID</th>\n",
              "      <th>Name</th>\n",
              "      <th>District</th>\n",
              "      <th>State</th>\n",
              "      <th>geometry</th>\n",
              "      <th>Confirmed</th>\n",
              "      <th>Death</th>\n",
              "      <th>Active</th>\n",
              "    </tr>\n",
              "  </thead>\n",
              "  <tbody>\n",
              "    <tr>\n",
              "      <th>0</th>\n",
              "      <td>0.168803</td>\n",
              "      <td>3.053012</td>\n",
              "      <td>1</td>\n",
              "      <td>Kasaragod</td>\n",
              "      <td>KSD</td>\n",
              "      <td>Kerala</td>\n",
              "      <td>POLYGON ((74.94578 12.57147, 74.94448 12.57494...</td>\n",
              "      <td>166751</td>\n",
              "      <td>1391</td>\n",
              "      <td>90</td>\n",
              "    </tr>\n",
              "    <tr>\n",
              "      <th>1</th>\n",
              "      <td>0.248059</td>\n",
              "      <td>2.787290</td>\n",
              "      <td>2</td>\n",
              "      <td>Kannur</td>\n",
              "      <td>KNR</td>\n",
              "      <td>Kerala</td>\n",
              "      <td>POLYGON ((75.42784 12.29307, 75.42810 12.29323...</td>\n",
              "      <td>349531</td>\n",
              "      <td>4425</td>\n",
              "      <td>119</td>\n",
              "    </tr>\n",
              "    <tr>\n",
              "      <th>2</th>\n",
              "      <td>0.178607</td>\n",
              "      <td>2.495196</td>\n",
              "      <td>3</td>\n",
              "      <td>Wayanad</td>\n",
              "      <td>WYD</td>\n",
              "      <td>Kerala</td>\n",
              "      <td>POLYGON ((75.92936 11.93514, 75.93295 11.93469...</td>\n",
              "      <td>168540</td>\n",
              "      <td>974</td>\n",
              "      <td>87</td>\n",
              "    </tr>\n",
              "    <tr>\n",
              "      <th>3</th>\n",
              "      <td>0.193825</td>\n",
              "      <td>2.570209</td>\n",
              "      <td>4</td>\n",
              "      <td>Kozhikode</td>\n",
              "      <td>KKD</td>\n",
              "      <td>Kerala</td>\n",
              "      <td>POLYGON ((75.75937 11.79730, 75.76196 11.79725...</td>\n",
              "      <td>675635</td>\n",
              "      <td>6343</td>\n",
              "      <td>1149</td>\n",
              "    </tr>\n",
              "    <tr>\n",
              "      <th>4</th>\n",
              "      <td>0.296408</td>\n",
              "      <td>3.492978</td>\n",
              "      <td>5</td>\n",
              "      <td>Malappuram</td>\n",
              "      <td>MLP</td>\n",
              "      <td>Kerala</td>\n",
              "      <td>POLYGON ((76.24221 11.52130, 76.24353 11.51994...</td>\n",
              "      <td>647640</td>\n",
              "      <td>6435</td>\n",
              "      <td>264</td>\n",
              "    </tr>\n",
              "    <tr>\n",
              "      <th>5</th>\n",
              "      <td>0.371717</td>\n",
              "      <td>4.766361</td>\n",
              "      <td>6</td>\n",
              "      <td>Palakkad</td>\n",
              "      <td>PKD</td>\n",
              "      <td>Kerala</td>\n",
              "      <td>POLYGON ((76.44852 11.19700, 76.45201 11.19457...</td>\n",
              "      <td>450345</td>\n",
              "      <td>5804</td>\n",
              "      <td>403</td>\n",
              "    </tr>\n",
              "    <tr>\n",
              "      <th>6</th>\n",
              "      <td>0.246380</td>\n",
              "      <td>3.443637</td>\n",
              "      <td>7</td>\n",
              "      <td>Thrissur</td>\n",
              "      <td>THR</td>\n",
              "      <td>Kerala</td>\n",
              "      <td>POLYGON ((76.16014 10.70205, 76.16122 10.70243...</td>\n",
              "      <td>672302</td>\n",
              "      <td>7451</td>\n",
              "      <td>639</td>\n",
              "    </tr>\n",
              "    <tr>\n",
              "      <th>7</th>\n",
              "      <td>0.365632</td>\n",
              "      <td>4.938483</td>\n",
              "      <td>8</td>\n",
              "      <td>Idukki</td>\n",
              "      <td>IDK</td>\n",
              "      <td>Kerala</td>\n",
              "      <td>POLYGON ((76.79847 10.06109, 76.79912 10.06117...</td>\n",
              "      <td>210258</td>\n",
              "      <td>1513</td>\n",
              "      <td>397</td>\n",
              "    </tr>\n",
              "    <tr>\n",
              "      <th>8</th>\n",
              "      <td>0.248644</td>\n",
              "      <td>3.491411</td>\n",
              "      <td>9</td>\n",
              "      <td>Ernakulam</td>\n",
              "      <td>EKM</td>\n",
              "      <td>Kerala</td>\n",
              "      <td>POLYGON ((76.89947 10.25507, 76.90057 10.25363...</td>\n",
              "      <td>895800</td>\n",
              "      <td>8262</td>\n",
              "      <td>4087</td>\n",
              "    </tr>\n",
              "    <tr>\n",
              "      <th>9</th>\n",
              "      <td>0.116386</td>\n",
              "      <td>2.581779</td>\n",
              "      <td>10</td>\n",
              "      <td>Alapuzha</td>\n",
              "      <td>ALP</td>\n",
              "      <td>Kerala</td>\n",
              "      <td>POLYGON ((76.37882 9.83945, 76.37931 9.83914, ...</td>\n",
              "      <td>391343</td>\n",
              "      <td>5249</td>\n",
              "      <td>494</td>\n",
              "    </tr>\n",
              "    <tr>\n",
              "      <th>10</th>\n",
              "      <td>0.182656</td>\n",
              "      <td>2.764841</td>\n",
              "      <td>11</td>\n",
              "      <td>Kottayam</td>\n",
              "      <td>KTM</td>\n",
              "      <td>Kerala</td>\n",
              "      <td>POLYGON ((76.63131 9.85615, 76.63165 9.85526, ...</td>\n",
              "      <td>453041</td>\n",
              "      <td>4528</td>\n",
              "      <td>1389</td>\n",
              "    </tr>\n",
              "    <tr>\n",
              "      <th>11</th>\n",
              "      <td>0.222034</td>\n",
              "      <td>3.554904</td>\n",
              "      <td>12</td>\n",
              "      <td>Pathanamthitta</td>\n",
              "      <td>PTA</td>\n",
              "      <td>Kerala</td>\n",
              "      <td>POLYGON ((76.92003 9.41922, 76.91927 9.41807, ...</td>\n",
              "      <td>268645</td>\n",
              "      <td>2518</td>\n",
              "      <td>632</td>\n",
              "    </tr>\n",
              "    <tr>\n",
              "      <th>12</th>\n",
              "      <td>0.210442</td>\n",
              "      <td>3.067860</td>\n",
              "      <td>13</td>\n",
              "      <td>Kollam</td>\n",
              "      <td>KLM</td>\n",
              "      <td>Kerala</td>\n",
              "      <td>POLYGON ((77.08252 9.11043, 77.08339 9.10981, ...</td>\n",
              "      <td>512156</td>\n",
              "      <td>6522</td>\n",
              "      <td>317</td>\n",
              "    </tr>\n",
              "    <tr>\n",
              "      <th>13</th>\n",
              "      <td>0.185443</td>\n",
              "      <td>2.574688</td>\n",
              "      <td>14</td>\n",
              "      <td>Thiruvananthapuram</td>\n",
              "      <td>TVM</td>\n",
              "      <td>Kerala</td>\n",
              "      <td>POLYGON ((76.88728 8.80574, 76.88802 8.80580, ...</td>\n",
              "      <td>711679</td>\n",
              "      <td>8414</td>\n",
              "      <td>2371</td>\n",
              "    </tr>\n",
              "  </tbody>\n",
              "</table>\n",
              "</div>"
            ],
            "text/plain": [
              "        AREA  PERIMETER  GEODIST_ID                Name District   State  \\\n",
              "0   0.168803   3.053012           1           Kasaragod      KSD  Kerala   \n",
              "1   0.248059   2.787290           2              Kannur      KNR  Kerala   \n",
              "2   0.178607   2.495196           3             Wayanad      WYD  Kerala   \n",
              "3   0.193825   2.570209           4           Kozhikode      KKD  Kerala   \n",
              "4   0.296408   3.492978           5          Malappuram      MLP  Kerala   \n",
              "5   0.371717   4.766361           6            Palakkad      PKD  Kerala   \n",
              "6   0.246380   3.443637           7            Thrissur      THR  Kerala   \n",
              "7   0.365632   4.938483           8              Idukki      IDK  Kerala   \n",
              "8   0.248644   3.491411           9           Ernakulam      EKM  Kerala   \n",
              "9   0.116386   2.581779          10            Alapuzha      ALP  Kerala   \n",
              "10  0.182656   2.764841          11            Kottayam      KTM  Kerala   \n",
              "11  0.222034   3.554904          12      Pathanamthitta      PTA  Kerala   \n",
              "12  0.210442   3.067860          13              Kollam      KLM  Kerala   \n",
              "13  0.185443   2.574688          14  Thiruvananthapuram      TVM  Kerala   \n",
              "\n",
              "                                             geometry  Confirmed  Death  \\\n",
              "0   POLYGON ((74.94578 12.57147, 74.94448 12.57494...     166751   1391   \n",
              "1   POLYGON ((75.42784 12.29307, 75.42810 12.29323...     349531   4425   \n",
              "2   POLYGON ((75.92936 11.93514, 75.93295 11.93469...     168540    974   \n",
              "3   POLYGON ((75.75937 11.79730, 75.76196 11.79725...     675635   6343   \n",
              "4   POLYGON ((76.24221 11.52130, 76.24353 11.51994...     647640   6435   \n",
              "5   POLYGON ((76.44852 11.19700, 76.45201 11.19457...     450345   5804   \n",
              "6   POLYGON ((76.16014 10.70205, 76.16122 10.70243...     672302   7451   \n",
              "7   POLYGON ((76.79847 10.06109, 76.79912 10.06117...     210258   1513   \n",
              "8   POLYGON ((76.89947 10.25507, 76.90057 10.25363...     895800   8262   \n",
              "9   POLYGON ((76.37882 9.83945, 76.37931 9.83914, ...     391343   5249   \n",
              "10  POLYGON ((76.63131 9.85615, 76.63165 9.85526, ...     453041   4528   \n",
              "11  POLYGON ((76.92003 9.41922, 76.91927 9.41807, ...     268645   2518   \n",
              "12  POLYGON ((77.08252 9.11043, 77.08339 9.10981, ...     512156   6522   \n",
              "13  POLYGON ((76.88728 8.80574, 76.88802 8.80580, ...     711679   8414   \n",
              "\n",
              "    Active  \n",
              "0       90  \n",
              "1      119  \n",
              "2       87  \n",
              "3     1149  \n",
              "4      264  \n",
              "5      403  \n",
              "6      639  \n",
              "7      397  \n",
              "8     4087  \n",
              "9      494  \n",
              "10    1389  \n",
              "11     632  \n",
              "12     317  \n",
              "13    2371  "
            ]
          },
          "execution_count": 12,
          "metadata": {},
          "output_type": "execute_result"
        }
      ],
      "source": [
        "attribute_join"
      ]
    },
    {
      "cell_type": "code",
      "execution_count": null,
      "id": "3433980f",
      "metadata": {
        "id": "3433980f"
      },
      "outputs": [],
      "source": [
        "#drop the unwanted coloumn using .drop\n",
        "df=attribute_join.drop(['AREA','PERIMETER','GEODIST_ID'],axis=1)"
      ]
    },
    {
      "cell_type": "code",
      "execution_count": null,
      "id": "384ce984",
      "metadata": {
        "id": "384ce984",
        "outputId": "9bbdf4d3-62b4-449d-beb2-012c5a219fb6"
      },
      "outputs": [
        {
          "data": {
            "text/html": [
              "<div>\n",
              "<style scoped>\n",
              "    .dataframe tbody tr th:only-of-type {\n",
              "        vertical-align: middle;\n",
              "    }\n",
              "\n",
              "    .dataframe tbody tr th {\n",
              "        vertical-align: top;\n",
              "    }\n",
              "\n",
              "    .dataframe thead th {\n",
              "        text-align: right;\n",
              "    }\n",
              "</style>\n",
              "<table border=\"1\" class=\"dataframe\">\n",
              "  <thead>\n",
              "    <tr style=\"text-align: right;\">\n",
              "      <th></th>\n",
              "      <th>Name</th>\n",
              "      <th>District</th>\n",
              "      <th>State</th>\n",
              "      <th>geometry</th>\n",
              "      <th>Confirmed</th>\n",
              "      <th>Death</th>\n",
              "      <th>Active</th>\n",
              "    </tr>\n",
              "  </thead>\n",
              "  <tbody>\n",
              "    <tr>\n",
              "      <th>0</th>\n",
              "      <td>Kasaragod</td>\n",
              "      <td>KSD</td>\n",
              "      <td>Kerala</td>\n",
              "      <td>POLYGON ((74.94578 12.57147, 74.94448 12.57494...</td>\n",
              "      <td>166751</td>\n",
              "      <td>1391</td>\n",
              "      <td>90</td>\n",
              "    </tr>\n",
              "    <tr>\n",
              "      <th>1</th>\n",
              "      <td>Kannur</td>\n",
              "      <td>KNR</td>\n",
              "      <td>Kerala</td>\n",
              "      <td>POLYGON ((75.42784 12.29307, 75.42810 12.29323...</td>\n",
              "      <td>349531</td>\n",
              "      <td>4425</td>\n",
              "      <td>119</td>\n",
              "    </tr>\n",
              "    <tr>\n",
              "      <th>2</th>\n",
              "      <td>Wayanad</td>\n",
              "      <td>WYD</td>\n",
              "      <td>Kerala</td>\n",
              "      <td>POLYGON ((75.92936 11.93514, 75.93295 11.93469...</td>\n",
              "      <td>168540</td>\n",
              "      <td>974</td>\n",
              "      <td>87</td>\n",
              "    </tr>\n",
              "    <tr>\n",
              "      <th>3</th>\n",
              "      <td>Kozhikode</td>\n",
              "      <td>KKD</td>\n",
              "      <td>Kerala</td>\n",
              "      <td>POLYGON ((75.75937 11.79730, 75.76196 11.79725...</td>\n",
              "      <td>675635</td>\n",
              "      <td>6343</td>\n",
              "      <td>1149</td>\n",
              "    </tr>\n",
              "    <tr>\n",
              "      <th>4</th>\n",
              "      <td>Malappuram</td>\n",
              "      <td>MLP</td>\n",
              "      <td>Kerala</td>\n",
              "      <td>POLYGON ((76.24221 11.52130, 76.24353 11.51994...</td>\n",
              "      <td>647640</td>\n",
              "      <td>6435</td>\n",
              "      <td>264</td>\n",
              "    </tr>\n",
              "    <tr>\n",
              "      <th>5</th>\n",
              "      <td>Palakkad</td>\n",
              "      <td>PKD</td>\n",
              "      <td>Kerala</td>\n",
              "      <td>POLYGON ((76.44852 11.19700, 76.45201 11.19457...</td>\n",
              "      <td>450345</td>\n",
              "      <td>5804</td>\n",
              "      <td>403</td>\n",
              "    </tr>\n",
              "    <tr>\n",
              "      <th>6</th>\n",
              "      <td>Thrissur</td>\n",
              "      <td>THR</td>\n",
              "      <td>Kerala</td>\n",
              "      <td>POLYGON ((76.16014 10.70205, 76.16122 10.70243...</td>\n",
              "      <td>672302</td>\n",
              "      <td>7451</td>\n",
              "      <td>639</td>\n",
              "    </tr>\n",
              "    <tr>\n",
              "      <th>7</th>\n",
              "      <td>Idukki</td>\n",
              "      <td>IDK</td>\n",
              "      <td>Kerala</td>\n",
              "      <td>POLYGON ((76.79847 10.06109, 76.79912 10.06117...</td>\n",
              "      <td>210258</td>\n",
              "      <td>1513</td>\n",
              "      <td>397</td>\n",
              "    </tr>\n",
              "    <tr>\n",
              "      <th>8</th>\n",
              "      <td>Ernakulam</td>\n",
              "      <td>EKM</td>\n",
              "      <td>Kerala</td>\n",
              "      <td>POLYGON ((76.89947 10.25507, 76.90057 10.25363...</td>\n",
              "      <td>895800</td>\n",
              "      <td>8262</td>\n",
              "      <td>4087</td>\n",
              "    </tr>\n",
              "    <tr>\n",
              "      <th>9</th>\n",
              "      <td>Alapuzha</td>\n",
              "      <td>ALP</td>\n",
              "      <td>Kerala</td>\n",
              "      <td>POLYGON ((76.37882 9.83945, 76.37931 9.83914, ...</td>\n",
              "      <td>391343</td>\n",
              "      <td>5249</td>\n",
              "      <td>494</td>\n",
              "    </tr>\n",
              "    <tr>\n",
              "      <th>10</th>\n",
              "      <td>Kottayam</td>\n",
              "      <td>KTM</td>\n",
              "      <td>Kerala</td>\n",
              "      <td>POLYGON ((76.63131 9.85615, 76.63165 9.85526, ...</td>\n",
              "      <td>453041</td>\n",
              "      <td>4528</td>\n",
              "      <td>1389</td>\n",
              "    </tr>\n",
              "    <tr>\n",
              "      <th>11</th>\n",
              "      <td>Pathanamthitta</td>\n",
              "      <td>PTA</td>\n",
              "      <td>Kerala</td>\n",
              "      <td>POLYGON ((76.92003 9.41922, 76.91927 9.41807, ...</td>\n",
              "      <td>268645</td>\n",
              "      <td>2518</td>\n",
              "      <td>632</td>\n",
              "    </tr>\n",
              "    <tr>\n",
              "      <th>12</th>\n",
              "      <td>Kollam</td>\n",
              "      <td>KLM</td>\n",
              "      <td>Kerala</td>\n",
              "      <td>POLYGON ((77.08252 9.11043, 77.08339 9.10981, ...</td>\n",
              "      <td>512156</td>\n",
              "      <td>6522</td>\n",
              "      <td>317</td>\n",
              "    </tr>\n",
              "    <tr>\n",
              "      <th>13</th>\n",
              "      <td>Thiruvananthapuram</td>\n",
              "      <td>TVM</td>\n",
              "      <td>Kerala</td>\n",
              "      <td>POLYGON ((76.88728 8.80574, 76.88802 8.80580, ...</td>\n",
              "      <td>711679</td>\n",
              "      <td>8414</td>\n",
              "      <td>2371</td>\n",
              "    </tr>\n",
              "  </tbody>\n",
              "</table>\n",
              "</div>"
            ],
            "text/plain": [
              "                  Name District   State  \\\n",
              "0            Kasaragod      KSD  Kerala   \n",
              "1               Kannur      KNR  Kerala   \n",
              "2              Wayanad      WYD  Kerala   \n",
              "3            Kozhikode      KKD  Kerala   \n",
              "4           Malappuram      MLP  Kerala   \n",
              "5             Palakkad      PKD  Kerala   \n",
              "6             Thrissur      THR  Kerala   \n",
              "7               Idukki      IDK  Kerala   \n",
              "8            Ernakulam      EKM  Kerala   \n",
              "9             Alapuzha      ALP  Kerala   \n",
              "10            Kottayam      KTM  Kerala   \n",
              "11      Pathanamthitta      PTA  Kerala   \n",
              "12              Kollam      KLM  Kerala   \n",
              "13  Thiruvananthapuram      TVM  Kerala   \n",
              "\n",
              "                                             geometry  Confirmed  Death  \\\n",
              "0   POLYGON ((74.94578 12.57147, 74.94448 12.57494...     166751   1391   \n",
              "1   POLYGON ((75.42784 12.29307, 75.42810 12.29323...     349531   4425   \n",
              "2   POLYGON ((75.92936 11.93514, 75.93295 11.93469...     168540    974   \n",
              "3   POLYGON ((75.75937 11.79730, 75.76196 11.79725...     675635   6343   \n",
              "4   POLYGON ((76.24221 11.52130, 76.24353 11.51994...     647640   6435   \n",
              "5   POLYGON ((76.44852 11.19700, 76.45201 11.19457...     450345   5804   \n",
              "6   POLYGON ((76.16014 10.70205, 76.16122 10.70243...     672302   7451   \n",
              "7   POLYGON ((76.79847 10.06109, 76.79912 10.06117...     210258   1513   \n",
              "8   POLYGON ((76.89947 10.25507, 76.90057 10.25363...     895800   8262   \n",
              "9   POLYGON ((76.37882 9.83945, 76.37931 9.83914, ...     391343   5249   \n",
              "10  POLYGON ((76.63131 9.85615, 76.63165 9.85526, ...     453041   4528   \n",
              "11  POLYGON ((76.92003 9.41922, 76.91927 9.41807, ...     268645   2518   \n",
              "12  POLYGON ((77.08252 9.11043, 77.08339 9.10981, ...     512156   6522   \n",
              "13  POLYGON ((76.88728 8.80574, 76.88802 8.80580, ...     711679   8414   \n",
              "\n",
              "    Active  \n",
              "0       90  \n",
              "1      119  \n",
              "2       87  \n",
              "3     1149  \n",
              "4      264  \n",
              "5      403  \n",
              "6      639  \n",
              "7      397  \n",
              "8     4087  \n",
              "9      494  \n",
              "10    1389  \n",
              "11     632  \n",
              "12     317  \n",
              "13    2371  "
            ]
          },
          "execution_count": 14,
          "metadata": {},
          "output_type": "execute_result"
        }
      ],
      "source": [
        "df"
      ]
    },
    {
      "cell_type": "code",
      "execution_count": null,
      "id": "44310d55",
      "metadata": {
        "id": "44310d55",
        "outputId": "65f3e030-1bd0-4f38-cbb1-4b0c15d8492d"
      },
      "outputs": [
        {
          "name": "stdout",
          "output_type": "stream",
          "text": [
            "<class 'geopandas.geodataframe.GeoDataFrame'>\n",
            "Index: 14 entries, Kasaragod to Thiruvananthapuram\n",
            "Data columns (total 7 columns):\n",
            " #   Column     Non-Null Count  Dtype   \n",
            "---  ------     --------------  -----   \n",
            " 0   Name       14 non-null     object  \n",
            " 1   District   14 non-null     object  \n",
            " 2   State      14 non-null     object  \n",
            " 3   geometry   14 non-null     geometry\n",
            " 4   Confirmed  14 non-null     int64   \n",
            " 5   Death      14 non-null     int64   \n",
            " 6   Active     14 non-null     int64   \n",
            "dtypes: geometry(1), int64(3), object(3)\n",
            "memory usage: 896.0+ bytes\n"
          ]
        }
      ],
      "source": [
        "#index table on the OBJECTED\n",
        "db=df.set_index(\"Name\",drop=False)\n",
        "#display summary\n",
        "db.info()"
      ]
    },
    {
      "cell_type": "code",
      "execution_count": null,
      "id": "4873b6c6",
      "metadata": {
        "id": "4873b6c6",
        "outputId": "81baa310-16cf-43c6-d672-c6a2438747b3"
      },
      "outputs": [
        {
          "data": {
            "text/plain": [
              "<Geographic 2D CRS: EPSG:4326>\n",
              "Name: WGS 84\n",
              "Axis Info [ellipsoidal]:\n",
              "- Lat[north]: Geodetic latitude (degree)\n",
              "- Lon[east]: Geodetic longitude (degree)\n",
              "Area of Use:\n",
              "- name: World\n",
              "- bounds: (-180.0, -90.0, 180.0, 90.0)\n",
              "Datum: World Geodetic System 1984\n",
              "- Ellipsoid: WGS 84\n",
              "- Prime Meridian: Greenwich"
            ]
          },
          "execution_count": 16,
          "metadata": {},
          "output_type": "execute_result"
        }
      ],
      "source": [
        "db.crs"
      ]
    },
    {
      "cell_type": "code",
      "execution_count": null,
      "id": "9ea24326",
      "metadata": {
        "id": "9ea24326",
        "outputId": "9b09d00f-271d-4360-b7bb-662292401f42"
      },
      "outputs": [
        {
          "data": {
            "text/plain": [
              "<Projected CRS: EPSG:32643>\n",
              "Name: WGS 84 / UTM zone 43N\n",
              "Axis Info [cartesian]:\n",
              "- E[east]: Easting (metre)\n",
              "- N[north]: Northing (metre)\n",
              "Area of Use:\n",
              "- name: World - N hemisphere - 72°E to 78°E - by country\n",
              "- bounds: (72.0, 0.0, 78.0, 84.0)\n",
              "Coordinate Operation:\n",
              "- name: UTM zone 43N\n",
              "- method: Transverse Mercator\n",
              "Datum: World Geodetic System 1984\n",
              "- Ellipsoid: WGS 84\n",
              "- Prime Meridian: Greenwich"
            ]
          },
          "execution_count": 17,
          "metadata": {},
          "output_type": "execute_result"
        }
      ],
      "source": [
        "db2 = db.to_crs(epsg=32643)\n",
        "db2.crs"
      ]
    },
    {
      "cell_type": "code",
      "execution_count": null,
      "id": "75390724",
      "metadata": {
        "id": "75390724",
        "outputId": "b293ba45-fc95-462d-f523-3e4cf3e0f1cd"
      },
      "outputs": [
        {
          "data": {
            "text/plain": [
              "<AxesSubplot:>"
            ]
          },
          "execution_count": 18,
          "metadata": {},
          "output_type": "execute_result"
        },
        {
          "data": {
            "image/png": "[encoded data removed]",
            "text/plain": [
              "<Figure size 432x288 with 1 Axes>"
            ]
          },
          "metadata": {
            "needs_background": "light"
          },
          "output_type": "display_data"
        }
      ],
      "source": [
        "db2.plot()"
      ]
    },
    {
      "cell_type": "code",
      "execution_count": null,
      "id": "4f328ab6",
      "metadata": {
        "id": "4f328ab6",
        "outputId": "cc5dc2ab-9e5a-4ea1-f71b-a46a53fabdba"
      },
      "outputs": [
        {
          "data": {
            "text/plain": [
              "<pysal.lib.weights.distance.KNN at 0x20172cf37c0>"
            ]
          },
          "execution_count": 19,
          "metadata": {},
          "output_type": "execute_result"
        }
      ],
      "source": [
        "#K-Nearest Neighbor weights, we take k=5\n",
        "w = weights.KNN.from_dataframe(db2, k=5)\n",
        "w"
      ]
    },
    {
      "cell_type": "code",
      "execution_count": null,
      "id": "27a1df89",
      "metadata": {
        "id": "27a1df89"
      },
      "outputs": [],
      "source": [
        "#row standardize the matrix\n",
        "w.transform = 'R'"
      ]
    },
    {
      "cell_type": "code",
      "execution_count": null,
      "id": "c521bfe3",
      "metadata": {
        "id": "c521bfe3",
        "outputId": "892469aa-73e4-4536-90c3-a33a13a6968a"
      },
      "outputs": [
        {
          "data": {
            "text/plain": [
              "Name\n",
              "Kasaragod             4.499810\n",
              "Kannur                4.779123\n",
              "Wayanad               4.465908\n",
              "Kozhikode             7.046647\n",
              "Malappuram            5.575949\n",
              "Palakkad              5.998937\n",
              "Thrissur              6.459904\n",
              "Idukki                5.983936\n",
              "Ernakulam             8.315566\n",
              "Alapuzha              6.202536\n",
              "Kottayam              7.236339\n",
              "Pathanamthitta        6.448889\n",
              "Kollam                5.758902\n",
              "Thiruvananthapuram    7.771067\n",
              "Name: Active, dtype: float64"
            ]
          },
          "execution_count": 21,
          "metadata": {},
          "output_type": "execute_result"
        }
      ],
      "source": [
        "y = np.log(db2['Active'])\n",
        "y"
      ]
    },
    {
      "cell_type": "code",
      "execution_count": null,
      "id": "553b093a",
      "metadata": {
        "id": "553b093a"
      },
      "outputs": [],
      "source": [
        "db2['lag'] = weights.lag_spatial(w,y)"
      ]
    },
    {
      "cell_type": "code",
      "execution_count": null,
      "id": "dd6ac9f9",
      "metadata": {
        "id": "dd6ac9f9",
        "outputId": "dfb31d6e-c73a-46d7-e41f-cf510db7882e"
      },
      "outputs": [
        {
          "data": {
            "text/html": [
              "<div>\n",
              "<style scoped>\n",
              "    .dataframe tbody tr th:only-of-type {\n",
              "        vertical-align: middle;\n",
              "    }\n",
              "\n",
              "    .dataframe tbody tr th {\n",
              "        vertical-align: top;\n",
              "    }\n",
              "\n",
              "    .dataframe thead th {\n",
              "        text-align: right;\n",
              "    }\n",
              "</style>\n",
              "<table border=\"1\" class=\"dataframe\">\n",
              "  <thead>\n",
              "    <tr style=\"text-align: right;\">\n",
              "      <th></th>\n",
              "      <th>Name</th>\n",
              "      <th>District</th>\n",
              "      <th>State</th>\n",
              "      <th>geometry</th>\n",
              "      <th>Confirmed</th>\n",
              "      <th>Death</th>\n",
              "      <th>Active</th>\n",
              "      <th>lag</th>\n",
              "    </tr>\n",
              "    <tr>\n",
              "      <th>Name</th>\n",
              "      <th></th>\n",
              "      <th></th>\n",
              "      <th></th>\n",
              "      <th></th>\n",
              "      <th></th>\n",
              "      <th></th>\n",
              "      <th></th>\n",
              "      <th></th>\n",
              "    </tr>\n",
              "  </thead>\n",
              "  <tbody>\n",
              "    <tr>\n",
              "      <th>Kasaragod</th>\n",
              "      <td>Kasaragod</td>\n",
              "      <td>KSD</td>\n",
              "      <td>Kerala</td>\n",
              "      <td>POLYGON ((494110.214 1389748.048, 493969.205 1...</td>\n",
              "      <td>166751</td>\n",
              "      <td>1391</td>\n",
              "      <td>90</td>\n",
              "      <td>5.573313</td>\n",
              "    </tr>\n",
              "    <tr>\n",
              "      <th>Kannur</th>\n",
              "      <td>Kannur</td>\n",
              "      <td>KNR</td>\n",
              "      <td>Kerala</td>\n",
              "      <td>POLYGON ((546523.469 1358998.515, 546551.526 1...</td>\n",
              "      <td>349531</td>\n",
              "      <td>4425</td>\n",
              "      <td>119</td>\n",
              "      <td>5.517450</td>\n",
              "    </tr>\n",
              "    <tr>\n",
              "      <th>Wayanad</th>\n",
              "      <td>Wayanad</td>\n",
              "      <td>WYD</td>\n",
              "      <td>Kerala</td>\n",
              "      <td>POLYGON ((601197.344 1319551.833, 601588.532 1...</td>\n",
              "      <td>168540</td>\n",
              "      <td>974</td>\n",
              "      <td>87</td>\n",
              "      <td>5.580093</td>\n",
              "    </tr>\n",
              "    <tr>\n",
              "      <th>Kozhikode</th>\n",
              "      <td>Kozhikode</td>\n",
              "      <td>KKD</td>\n",
              "      <td>Kerala</td>\n",
              "      <td>POLYGON ((582728.131 1304251.321, 583010.371 1...</td>\n",
              "      <td>675635</td>\n",
              "      <td>6343</td>\n",
              "      <td>1149</td>\n",
              "      <td>5.455964</td>\n",
              "    </tr>\n",
              "    <tr>\n",
              "      <th>Malappuram</th>\n",
              "      <td>Malappuram</td>\n",
              "      <td>MLP</td>\n",
              "      <td>Kerala</td>\n",
              "      <td>POLYGON ((635469.763 1273913.740, 635614.110 1...</td>\n",
              "      <td>647640</td>\n",
              "      <td>6435</td>\n",
              "      <td>264</td>\n",
              "      <td>5.750104</td>\n",
              "    </tr>\n",
              "  </tbody>\n",
              "</table>\n",
              "</div>"
            ],
            "text/plain": [
              "                  Name District   State  \\\n",
              "Name                                      \n",
              "Kasaragod    Kasaragod      KSD  Kerala   \n",
              "Kannur          Kannur      KNR  Kerala   \n",
              "Wayanad        Wayanad      WYD  Kerala   \n",
              "Kozhikode    Kozhikode      KKD  Kerala   \n",
              "Malappuram  Malappuram      MLP  Kerala   \n",
              "\n",
              "                                                     geometry  Confirmed  \\\n",
              "Name                                                                       \n",
              "Kasaragod   POLYGON ((494110.214 1389748.048, 493969.205 1...     166751   \n",
              "Kannur      POLYGON ((546523.469 1358998.515, 546551.526 1...     349531   \n",
              "Wayanad     POLYGON ((601197.344 1319551.833, 601588.532 1...     168540   \n",
              "Kozhikode   POLYGON ((582728.131 1304251.321, 583010.371 1...     675635   \n",
              "Malappuram  POLYGON ((635469.763 1273913.740, 635614.110 1...     647640   \n",
              "\n",
              "            Death  Active       lag  \n",
              "Name                                 \n",
              "Kasaragod    1391      90  5.573313  \n",
              "Kannur       4425     119  5.517450  \n",
              "Wayanad       974      87  5.580093  \n",
              "Kozhikode    6343    1149  5.455964  \n",
              "Malappuram   6435     264  5.750104  "
            ]
          },
          "execution_count": 23,
          "metadata": {},
          "output_type": "execute_result"
        }
      ],
      "source": [
        "db2.head()"
      ]
    },
    {
      "cell_type": "code",
      "execution_count": null,
      "id": "74f0be3b",
      "metadata": {
        "id": "74f0be3b",
        "outputId": "ff0d0842-7b02-4a07-d2ca-aa1c440aa248"
      },
      "outputs": [
        {
          "data": {
            "text/plain": [
              "<esda.moran.Moran at 0x20172cf7970>"
            ]
          },
          "execution_count": 24,
          "metadata": {},
          "output_type": "execute_result"
        }
      ],
      "source": [
        "#calculate moral I\n",
        "mi = esda.Moran(db2['lag'],w)    #\n",
        "mi"
      ]
    },
    {
      "cell_type": "code",
      "execution_count": null,
      "id": "be573925",
      "metadata": {
        "id": "be573925",
        "outputId": "789476ff-555f-489b-eb64-30e679a1d30e"
      },
      "outputs": [
        {
          "data": {
            "text/plain": [
              "0.6753567650029266"
            ]
          },
          "execution_count": 25,
          "metadata": {},
          "output_type": "execute_result"
        }
      ],
      "source": [
        "mi.I  "
      ]
    },
    {
      "cell_type": "code",
      "execution_count": null,
      "id": "e213bef7",
      "metadata": {
        "id": "e213bef7"
      },
      "outputs": [],
      "source": [
        " #positive value spatial autocorellation with respect to covid-19 cases \n",
        "#in india it means that we have high and concentrated in a particular place"
      ]
    },
    {
      "cell_type": "code",
      "execution_count": null,
      "id": "adb2f89c",
      "metadata": {
        "id": "adb2f89c",
        "outputId": "8e1b3a2a-7f77-490c-8c58-ab61f734ab68"
      },
      "outputs": [
        {
          "data": {
            "text/plain": [
              "0.001"
            ]
          },
          "execution_count": 27,
          "metadata": {},
          "output_type": "execute_result"
        }
      ],
      "source": [
        "#check the p vlue\n",
        "mi.p_sim"
      ]
    },
    {
      "cell_type": "code",
      "execution_count": null,
      "id": "fa64d75d",
      "metadata": {
        "id": "fa64d75d",
        "outputId": "5191338e-e3f1-486e-cd07-c1b365b1a520"
      },
      "outputs": [
        {
          "data": {
            "image/png": "[encoded data removed]",
            "text/plain": [
              "<Figure size 504x504 with 1 Axes>"
            ]
          },
          "metadata": {
            "needs_background": "light"
          },
          "output_type": "display_data"
        }
      ],
      "source": [
        "#local spatial autocorellation\n",
        "moran_scatterplot(mi);"
      ]
    },
    {
      "cell_type": "code",
      "execution_count": null,
      "id": "39e41aae",
      "metadata": {
        "id": "39e41aae"
      },
      "outputs": [],
      "source": [
        "kl= esda.Moran_Local(db2['lag'], w)"
      ]
    },
    {
      "cell_type": "code",
      "execution_count": null,
      "id": "ef37cdd0",
      "metadata": {
        "id": "ef37cdd0"
      },
      "outputs": [],
      "source": [
        "db2['significant'] = kl.p_sim <0.05  #p value less than 5\n",
        "db2['quadrant'] = kl.q"
      ]
    },
    {
      "cell_type": "code",
      "execution_count": null,
      "id": "a54cdb4f",
      "metadata": {
        "id": "a54cdb4f",
        "outputId": "4b4f15ec-8f26-419e-cbcd-d3ae291cac34"
      },
      "outputs": [
        {
          "data": {
            "text/plain": [
              "array([0.002, 0.002, 0.002, 0.051, 0.04 , 0.101, 0.163, 0.009, 0.016,\n",
              "       0.006, 0.003, 0.005, 0.006, 0.002])"
            ]
          },
          "execution_count": 39,
          "metadata": {},
          "output_type": "execute_result"
        }
      ],
      "source": [
        "#p values\n",
        "kl.p_sim"
      ]
    },
    {
      "cell_type": "code",
      "execution_count": null,
      "id": "88fea7d8",
      "metadata": {
        "scrolled": true,
        "id": "88fea7d8",
        "outputId": "c1f6067e-9c5b-4772-e430-5c67b3fa2d7f"
      },
      "outputs": [
        {
          "data": {
            "text/plain": [
              "Name\n",
              "Kasaragod              True\n",
              "Kannur                 True\n",
              "Wayanad                True\n",
              "Kozhikode             False\n",
              "Malappuram             True\n",
              "Palakkad              False\n",
              "Thrissur              False\n",
              "Idukki                 True\n",
              "Ernakulam              True\n",
              "Alapuzha               True\n",
              "Kottayam               True\n",
              "Pathanamthitta         True\n",
              "Kollam                 True\n",
              "Thiruvananthapuram     True\n",
              "Name: significant, dtype: bool"
            ]
          },
          "execution_count": 33,
          "metadata": {},
          "output_type": "execute_result"
        }
      ],
      "source": [
        "db2['significant']"
      ]
    },
    {
      "cell_type": "code",
      "execution_count": null,
      "id": "9fcdce74",
      "metadata": {
        "id": "9fcdce74",
        "outputId": "f7ab281c-ea1c-47ef-a39c-6e9c6ae72514"
      },
      "outputs": [
        {
          "data": {
            "text/plain": [
              "Name\n",
              "Kasaragod             3\n",
              "Kannur                3\n",
              "Wayanad               3\n",
              "Kozhikode             3\n",
              "Malappuram            3\n",
              "Palakkad              4\n",
              "Thrissur              1\n",
              "Idukki                1\n",
              "Ernakulam             1\n",
              "Alapuzha              1\n",
              "Kottayam              1\n",
              "Pathanamthitta        1\n",
              "Kollam                1\n",
              "Thiruvananthapuram    1\n",
              "Name: quadrant, dtype: int32"
            ]
          },
          "execution_count": 34,
          "metadata": {},
          "output_type": "execute_result"
        }
      ],
      "source": [
        "db2['quadrant']"
      ]
    },
    {
      "cell_type": "code",
      "execution_count": null,
      "id": "2b973669",
      "metadata": {
        "id": "2b973669"
      },
      "outputs": [],
      "source": [
        "#with these 2 element\"significant and quadrant\",we can build a typical LISA cluster map combining the mapping skills."
      ]
    },
    {
      "cell_type": "code",
      "execution_count": null,
      "id": "68944abb",
      "metadata": {
        "id": "68944abb",
        "outputId": "5f0b8a46-7c83-44b0-b0bf-4252bc385be4"
      },
      "outputs": [
        {
          "data": {
            "image/png": "[encoded data removed]",
            "text/plain": [
              "<Figure size 432x288 with 1 Axes>"
            ]
          },
          "metadata": {
            "needs_background": "light"
          },
          "output_type": "display_data"
        }
      ],
      "source": [
        "#The LISA cluster will look at the value of the given area and \n",
        "#the values of its neighbors and decides if it corresponds to a bright blue, \n",
        "#pale blue, pale red, bright red or grey colour.\n",
        "lisa_cluster(kl, db2);"
      ]
    },
    {
      "cell_type": "code",
      "execution_count": null,
      "id": "84f87da9",
      "metadata": {
        "id": "84f87da9"
      },
      "outputs": [],
      "source": []
    },
    {
      "cell_type": "code",
      "execution_count": null,
      "id": "6f6d0ffe",
      "metadata": {
        "id": "6f6d0ffe"
      },
      "outputs": [],
      "source": []
    }
  ],
  "metadata": {
    "kernelspec": {
      "display_name": "Python 3 (ipykernel)",
      "language": "python",
      "name": "python3"
    },
    "language_info": {
      "codemirror_mode": {
        "name": "ipython",
        "version": 3
      },
      "file_extension": ".py",
      "mimetype": "text/x-python",
      "name": "python",
      "nbconvert_exporter": "python",
      "pygments_lexer": "ipython3",
      "version": "3.9.7"
    },
    "colab": {
      "provenance": []
    }
  },
  "nbformat": 4,
  "nbformat_minor": 5
}