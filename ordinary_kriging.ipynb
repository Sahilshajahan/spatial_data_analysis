{
  "cells": [
    {
      "cell_type": "markdown",
      "metadata": {
        "id": "view-in-github",
        "colab_type": "text"
      },
      "source": [
        "<a href=\"https://colab.research.google.com/github/Sahilshajahan/spatial_data_analysis/blob/main/ordinary_kriging.ipynb\" target=\"_parent\"><img src=\"https://colab.research.google.com/assets/colab-badge.svg\" alt=\"Open In Colab\"/></a>"
      ]
    },
    {
      "cell_type": "code",
      "execution_count": null,
      "id": "d56df44e",
      "metadata": {
        "colab": {
          "base_uri": "https://localhost:8080/"
        },
        "id": "d56df44e",
        "outputId": "c9224ce9-de52-4d0a-a58c-01ff6f944245"
      },
      "outputs": [
        {
          "output_type": "stream",
          "name": "stdout",
          "text": [
            "Looking in indexes: https://pypi.org/simple, https://us-python.pkg.dev/colab-wheels/public/simple/\n",
            "Collecting pykrige\n",
            "  Downloading PyKrige-1.7.0-cp38-cp38-manylinux_2_17_x86_64.manylinux2014_x86_64.whl (869 kB)\n",
            "\u001b[K     |████████████████████████████████| 869 kB 40.1 MB/s \n",
            "\u001b[?25hRequirement already satisfied: scipy<2,>=1.1.0 in /usr/local/lib/python3.8/dist-packages (from pykrige) (1.7.3)\n",
            "Requirement already satisfied: numpy<2,>=1.14.5 in /usr/local/lib/python3.8/dist-packages (from pykrige) (1.21.6)\n",
            "Installing collected packages: pykrige\n",
            "Successfully installed pykrige-1.7.0\n"
          ]
        }
      ],
      "source": [
        "!pip install pykrige"
      ]
    },
    {
      "cell_type": "code",
      "execution_count": null,
      "id": "34123fe4",
      "metadata": {
        "id": "34123fe4"
      },
      "outputs": [],
      "source": [
        "import numpy as np\n",
        "import matplotlib.pyplot as plt\n",
        "import pykrige.kriging_tools as kt\n",
        "from pykrige.ok import OrdinaryKriging\n",
        "import geopandas as gpd"
      ]
    },
    {
      "cell_type": "code",
      "execution_count": null,
      "id": "14682fc9",
      "metadata": {
        "id": "14682fc9"
      },
      "outputs": [],
      "source": [
        "data=gpd.read_file(r\"D:\\Desktop\\.Files\\Temp\\Temp_43N.shp\")"
      ]
    },
    {
      "cell_type": "code",
      "execution_count": null,
      "id": "7280f88b",
      "metadata": {
        "id": "7280f88b",
        "outputId": "948b5a54-e19c-4008-ffc8-3742b78296e6"
      },
      "outputs": [
        {
          "data": {
            "text/html": [
              "<div>\n",
              "<style scoped>\n",
              "    .dataframe tbody tr th:only-of-type {\n",
              "        vertical-align: middle;\n",
              "    }\n",
              "\n",
              "    .dataframe tbody tr th {\n",
              "        vertical-align: top;\n",
              "    }\n",
              "\n",
              "    .dataframe thead th {\n",
              "        text-align: right;\n",
              "    }\n",
              "</style>\n",
              "<table border=\"1\" class=\"dataframe\">\n",
              "  <thead>\n",
              "    <tr style=\"text-align: right;\">\n",
              "      <th></th>\n",
              "      <th>Id</th>\n",
              "      <th>Temp_DC</th>\n",
              "      <th>geometry</th>\n",
              "    </tr>\n",
              "  </thead>\n",
              "  <tbody>\n",
              "    <tr>\n",
              "      <th>0</th>\n",
              "      <td>1</td>\n",
              "      <td>32.20</td>\n",
              "      <td>POINT (687133.984 968795.752)</td>\n",
              "    </tr>\n",
              "    <tr>\n",
              "      <th>1</th>\n",
              "      <td>2</td>\n",
              "      <td>32.22</td>\n",
              "      <td>POINT (690207.021 969533.523)</td>\n",
              "    </tr>\n",
              "    <tr>\n",
              "      <th>2</th>\n",
              "      <td>3</td>\n",
              "      <td>32.34</td>\n",
              "      <td>POINT (693417.980 968758.858)</td>\n",
              "    </tr>\n",
              "    <tr>\n",
              "      <th>3</th>\n",
              "      <td>4</td>\n",
              "      <td>32.78</td>\n",
              "      <td>POINT (696605.298 972984.960)</td>\n",
              "    </tr>\n",
              "    <tr>\n",
              "      <th>4</th>\n",
              "      <td>5</td>\n",
              "      <td>32.96</td>\n",
              "      <td>POINT (699076.821 976220.983)</td>\n",
              "    </tr>\n",
              "    <tr>\n",
              "      <th>...</th>\n",
              "      <td>...</td>\n",
              "      <td>...</td>\n",
              "      <td>...</td>\n",
              "    </tr>\n",
              "    <tr>\n",
              "      <th>76</th>\n",
              "      <td>83</td>\n",
              "      <td>35.23</td>\n",
              "      <td>POINT (724719.386 952795.954)</td>\n",
              "    </tr>\n",
              "    <tr>\n",
              "      <th>77</th>\n",
              "      <td>85</td>\n",
              "      <td>30.53</td>\n",
              "      <td>POINT (722984.682 940287.824)</td>\n",
              "    </tr>\n",
              "    <tr>\n",
              "      <th>78</th>\n",
              "      <td>86</td>\n",
              "      <td>30.85</td>\n",
              "      <td>POINT (721523.878 942296.429)</td>\n",
              "    </tr>\n",
              "    <tr>\n",
              "      <th>79</th>\n",
              "      <td>86</td>\n",
              "      <td>32.54</td>\n",
              "      <td>POINT (730288.700 947044.040)</td>\n",
              "    </tr>\n",
              "    <tr>\n",
              "      <th>80</th>\n",
              "      <td>87</td>\n",
              "      <td>37.95</td>\n",
              "      <td>POINT (736040.614 941292.126)</td>\n",
              "    </tr>\n",
              "  </tbody>\n",
              "</table>\n",
              "<p>81 rows × 3 columns</p>\n",
              "</div>"
            ],
            "text/plain": [
              "    Id  Temp_DC                       geometry\n",
              "0    1    32.20  POINT (687133.984 968795.752)\n",
              "1    2    32.22  POINT (690207.021 969533.523)\n",
              "2    3    32.34  POINT (693417.980 968758.858)\n",
              "3    4    32.78  POINT (696605.298 972984.960)\n",
              "4    5    32.96  POINT (699076.821 976220.983)\n",
              "..  ..      ...                            ...\n",
              "76  83    35.23  POINT (724719.386 952795.954)\n",
              "77  85    30.53  POINT (722984.682 940287.824)\n",
              "78  86    30.85  POINT (721523.878 942296.429)\n",
              "79  86    32.54  POINT (730288.700 947044.040)\n",
              "80  87    37.95  POINT (736040.614 941292.126)\n",
              "\n",
              "[81 rows x 3 columns]"
            ]
          },
          "execution_count": 5,
          "metadata": {},
          "output_type": "execute_result"
        }
      ],
      "source": [
        "data"
      ]
    },
    {
      "cell_type": "code",
      "execution_count": null,
      "id": "dbcc11dc",
      "metadata": {
        "id": "dbcc11dc"
      },
      "outputs": [],
      "source": [
        "x=data.geometry.x\n",
        "y=data.geometry.y"
      ]
    },
    {
      "cell_type": "code",
      "execution_count": null,
      "id": "c03943ad",
      "metadata": {
        "id": "c03943ad",
        "outputId": "c219f0a1-0ac9-43ef-84f0-677d87c4e178"
      },
      "outputs": [
        {
          "data": {
            "text/plain": [
              "0     687133.983726\n",
              "1     690207.021264\n",
              "2     693417.979807\n",
              "3     696605.298323\n",
              "4     699076.820576\n",
              "          ...      \n",
              "76    724719.386286\n",
              "77    722984.682033\n",
              "78    721523.878452\n",
              "79    730288.699941\n",
              "80    736040.614044\n",
              "Length: 81, dtype: float64"
            ]
          },
          "execution_count": 7,
          "metadata": {},
          "output_type": "execute_result"
        }
      ],
      "source": [
        "x"
      ]
    },
    {
      "cell_type": "code",
      "execution_count": null,
      "id": "0be3c8d0",
      "metadata": {
        "id": "0be3c8d0",
        "outputId": "9fc00e9a-b48e-49b4-de66-25aff9446ed1"
      },
      "outputs": [
        {
          "data": {
            "text/plain": [
              "0     968795.752255\n",
              "1     969533.523005\n",
              "2     968758.858469\n",
              "3     972984.959925\n",
              "4     976220.983306\n",
              "          ...      \n",
              "76    952795.954443\n",
              "77    940287.823775\n",
              "78    942296.428700\n",
              "79    947044.040340\n",
              "80    941292.126237\n",
              "Length: 81, dtype: float64"
            ]
          },
          "execution_count": 8,
          "metadata": {},
          "output_type": "execute_result"
        }
      ],
      "source": [
        "y"
      ]
    },
    {
      "cell_type": "code",
      "execution_count": null,
      "id": "aeb59c0e",
      "metadata": {
        "id": "aeb59c0e",
        "outputId": "5ab7af08-937e-429f-b998-aad3a92e6be8"
      },
      "outputs": [
        {
          "data": {
            "text/plain": [
              "0     32.20\n",
              "1     32.22\n",
              "2     32.34\n",
              "3     32.78\n",
              "4     32.96\n",
              "      ...  \n",
              "76    35.23\n",
              "77    30.53\n",
              "78    30.85\n",
              "79    32.54\n",
              "80    37.95\n",
              "Name: Temp_DC, Length: 81, dtype: float64"
            ]
          },
          "execution_count": 9,
          "metadata": {},
          "output_type": "execute_result"
        }
      ],
      "source": [
        "z=data.Temp_DC\n",
        "z"
      ]
    },
    {
      "cell_type": "code",
      "execution_count": null,
      "id": "99a2b402",
      "metadata": {
        "id": "99a2b402",
        "outputId": "3f09b031-a64d-4c45-9c86-54e6f2fb5cf2"
      },
      "outputs": [
        {
          "data": {
            "text/plain": [
              "<AxesSubplot:>"
            ]
          },
          "execution_count": 10,
          "metadata": {},
          "output_type": "execute_result"
        },
        {
          "data": {
            "image/png": "[encoded data removed]",
            "text/plain": [
              "<Figure size 432x288 with 1 Axes>"
            ]
          },
          "metadata": {
            "needs_background": "light"
          },
          "output_type": "display_data"
        }
      ],
      "source": [
        "data.plot()"
      ]
    },
    {
      "cell_type": "code",
      "execution_count": null,
      "id": "80141333",
      "metadata": {
        "id": "80141333",
        "outputId": "2dfdde69-b183-497b-d852-089399655b12"
      },
      "outputs": [
        {
          "data": {
            "text/plain": [
              "Text(0.5, 1.0, '')"
            ]
          },
          "execution_count": 11,
          "metadata": {},
          "output_type": "execute_result"
        },
        {
          "data": {
            "image/png": "[encoded data removed]",
            "text/plain": [
              "<Figure size 432x288 with 2 Axes>"
            ]
          },
          "metadata": {
            "needs_background": "light"
          },
          "output_type": "display_data"
        }
      ],
      "source": [
        "cax = plt.scatter(x,y,z)\n",
        "cbar = plt.colorbar(cax, fraction=0.03)\n",
        "plt.title('')"
      ]
    },
    {
      "cell_type": "code",
      "execution_count": null,
      "id": "b22db2ee",
      "metadata": {
        "id": "b22db2ee"
      },
      "outputs": [],
      "source": [
        "import pandas as pd"
      ]
    },
    {
      "cell_type": "code",
      "execution_count": null,
      "id": "74cc6595",
      "metadata": {
        "id": "74cc6595",
        "outputId": "714b4387-b17d-4a5c-969a-e83fcf8232f0"
      },
      "outputs": [
        {
          "data": {
            "text/html": [
              "<div>\n",
              "<style scoped>\n",
              "    .dataframe tbody tr th:only-of-type {\n",
              "        vertical-align: middle;\n",
              "    }\n",
              "\n",
              "    .dataframe tbody tr th {\n",
              "        vertical-align: top;\n",
              "    }\n",
              "\n",
              "    .dataframe thead th {\n",
              "        text-align: right;\n",
              "    }\n",
              "</style>\n",
              "<table border=\"1\" class=\"dataframe\">\n",
              "  <thead>\n",
              "    <tr style=\"text-align: right;\">\n",
              "      <th></th>\n",
              "      <th>long</th>\n",
              "    </tr>\n",
              "  </thead>\n",
              "  <tbody>\n",
              "    <tr>\n",
              "      <th>0</th>\n",
              "      <td>687133.983726</td>\n",
              "    </tr>\n",
              "    <tr>\n",
              "      <th>1</th>\n",
              "      <td>690207.021264</td>\n",
              "    </tr>\n",
              "    <tr>\n",
              "      <th>2</th>\n",
              "      <td>693417.979807</td>\n",
              "    </tr>\n",
              "    <tr>\n",
              "      <th>3</th>\n",
              "      <td>696605.298323</td>\n",
              "    </tr>\n",
              "    <tr>\n",
              "      <th>4</th>\n",
              "      <td>699076.820576</td>\n",
              "    </tr>\n",
              "    <tr>\n",
              "      <th>...</th>\n",
              "      <td>...</td>\n",
              "    </tr>\n",
              "    <tr>\n",
              "      <th>76</th>\n",
              "      <td>724719.386286</td>\n",
              "    </tr>\n",
              "    <tr>\n",
              "      <th>77</th>\n",
              "      <td>722984.682033</td>\n",
              "    </tr>\n",
              "    <tr>\n",
              "      <th>78</th>\n",
              "      <td>721523.878452</td>\n",
              "    </tr>\n",
              "    <tr>\n",
              "      <th>79</th>\n",
              "      <td>730288.699941</td>\n",
              "    </tr>\n",
              "    <tr>\n",
              "      <th>80</th>\n",
              "      <td>736040.614044</td>\n",
              "    </tr>\n",
              "  </tbody>\n",
              "</table>\n",
              "<p>81 rows × 1 columns</p>\n",
              "</div>"
            ],
            "text/plain": [
              "             long\n",
              "0   687133.983726\n",
              "1   690207.021264\n",
              "2   693417.979807\n",
              "3   696605.298323\n",
              "4   699076.820576\n",
              "..            ...\n",
              "76  724719.386286\n",
              "77  722984.682033\n",
              "78  721523.878452\n",
              "79  730288.699941\n",
              "80  736040.614044\n",
              "\n",
              "[81 rows x 1 columns]"
            ]
          },
          "execution_count": 13,
          "metadata": {},
          "output_type": "execute_result"
        }
      ],
      "source": [
        "df=pd.DataFrame(x,columns=['long']) \n",
        "df"
      ]
    },
    {
      "cell_type": "code",
      "execution_count": null,
      "id": "ee85821d",
      "metadata": {
        "id": "ee85821d",
        "outputId": "4e8064d1-1213-4c08-92a4-961c636e553b"
      },
      "outputs": [
        {
          "data": {
            "text/html": [
              "<div>\n",
              "<style scoped>\n",
              "    .dataframe tbody tr th:only-of-type {\n",
              "        vertical-align: middle;\n",
              "    }\n",
              "\n",
              "    .dataframe tbody tr th {\n",
              "        vertical-align: top;\n",
              "    }\n",
              "\n",
              "    .dataframe thead th {\n",
              "        text-align: right;\n",
              "    }\n",
              "</style>\n",
              "<table border=\"1\" class=\"dataframe\">\n",
              "  <thead>\n",
              "    <tr style=\"text-align: right;\">\n",
              "      <th></th>\n",
              "      <th>long</th>\n",
              "      <th>lat</th>\n",
              "    </tr>\n",
              "  </thead>\n",
              "  <tbody>\n",
              "    <tr>\n",
              "      <th>0</th>\n",
              "      <td>687133.983726</td>\n",
              "      <td>968795.752255</td>\n",
              "    </tr>\n",
              "    <tr>\n",
              "      <th>1</th>\n",
              "      <td>690207.021264</td>\n",
              "      <td>969533.523005</td>\n",
              "    </tr>\n",
              "    <tr>\n",
              "      <th>2</th>\n",
              "      <td>693417.979807</td>\n",
              "      <td>968758.858469</td>\n",
              "    </tr>\n",
              "    <tr>\n",
              "      <th>3</th>\n",
              "      <td>696605.298323</td>\n",
              "      <td>972984.959925</td>\n",
              "    </tr>\n",
              "    <tr>\n",
              "      <th>4</th>\n",
              "      <td>699076.820576</td>\n",
              "      <td>976220.983306</td>\n",
              "    </tr>\n",
              "    <tr>\n",
              "      <th>...</th>\n",
              "      <td>...</td>\n",
              "      <td>...</td>\n",
              "    </tr>\n",
              "    <tr>\n",
              "      <th>76</th>\n",
              "      <td>724719.386286</td>\n",
              "      <td>952795.954443</td>\n",
              "    </tr>\n",
              "    <tr>\n",
              "      <th>77</th>\n",
              "      <td>722984.682033</td>\n",
              "      <td>940287.823775</td>\n",
              "    </tr>\n",
              "    <tr>\n",
              "      <th>78</th>\n",
              "      <td>721523.878452</td>\n",
              "      <td>942296.428700</td>\n",
              "    </tr>\n",
              "    <tr>\n",
              "      <th>79</th>\n",
              "      <td>730288.699941</td>\n",
              "      <td>947044.040340</td>\n",
              "    </tr>\n",
              "    <tr>\n",
              "      <th>80</th>\n",
              "      <td>736040.614044</td>\n",
              "      <td>941292.126237</td>\n",
              "    </tr>\n",
              "  </tbody>\n",
              "</table>\n",
              "<p>81 rows × 2 columns</p>\n",
              "</div>"
            ],
            "text/plain": [
              "             long            lat\n",
              "0   687133.983726  968795.752255\n",
              "1   690207.021264  969533.523005\n",
              "2   693417.979807  968758.858469\n",
              "3   696605.298323  972984.959925\n",
              "4   699076.820576  976220.983306\n",
              "..            ...            ...\n",
              "76  724719.386286  952795.954443\n",
              "77  722984.682033  940287.823775\n",
              "78  721523.878452  942296.428700\n",
              "79  730288.699941  947044.040340\n",
              "80  736040.614044  941292.126237\n",
              "\n",
              "[81 rows x 2 columns]"
            ]
          },
          "execution_count": 14,
          "metadata": {},
          "output_type": "execute_result"
        }
      ],
      "source": [
        "df['lat']=y\n",
        "df"
      ]
    },
    {
      "cell_type": "code",
      "execution_count": null,
      "id": "a605dadc",
      "metadata": {
        "id": "a605dadc",
        "outputId": "9642adc1-7f8e-4086-a429-9612337af310"
      },
      "outputs": [
        {
          "data": {
            "text/html": [
              "<div>\n",
              "<style scoped>\n",
              "    .dataframe tbody tr th:only-of-type {\n",
              "        vertical-align: middle;\n",
              "    }\n",
              "\n",
              "    .dataframe tbody tr th {\n",
              "        vertical-align: top;\n",
              "    }\n",
              "\n",
              "    .dataframe thead th {\n",
              "        text-align: right;\n",
              "    }\n",
              "</style>\n",
              "<table border=\"1\" class=\"dataframe\">\n",
              "  <thead>\n",
              "    <tr style=\"text-align: right;\">\n",
              "      <th></th>\n",
              "      <th>long</th>\n",
              "      <th>lat</th>\n",
              "      <th>Temp_DC</th>\n",
              "    </tr>\n",
              "  </thead>\n",
              "  <tbody>\n",
              "    <tr>\n",
              "      <th>0</th>\n",
              "      <td>687133.983726</td>\n",
              "      <td>968795.752255</td>\n",
              "      <td>32.20</td>\n",
              "    </tr>\n",
              "    <tr>\n",
              "      <th>1</th>\n",
              "      <td>690207.021264</td>\n",
              "      <td>969533.523005</td>\n",
              "      <td>32.22</td>\n",
              "    </tr>\n",
              "    <tr>\n",
              "      <th>2</th>\n",
              "      <td>693417.979807</td>\n",
              "      <td>968758.858469</td>\n",
              "      <td>32.34</td>\n",
              "    </tr>\n",
              "    <tr>\n",
              "      <th>3</th>\n",
              "      <td>696605.298323</td>\n",
              "      <td>972984.959925</td>\n",
              "      <td>32.78</td>\n",
              "    </tr>\n",
              "    <tr>\n",
              "      <th>4</th>\n",
              "      <td>699076.820576</td>\n",
              "      <td>976220.983306</td>\n",
              "      <td>32.96</td>\n",
              "    </tr>\n",
              "    <tr>\n",
              "      <th>...</th>\n",
              "      <td>...</td>\n",
              "      <td>...</td>\n",
              "      <td>...</td>\n",
              "    </tr>\n",
              "    <tr>\n",
              "      <th>76</th>\n",
              "      <td>724719.386286</td>\n",
              "      <td>952795.954443</td>\n",
              "      <td>35.23</td>\n",
              "    </tr>\n",
              "    <tr>\n",
              "      <th>77</th>\n",
              "      <td>722984.682033</td>\n",
              "      <td>940287.823775</td>\n",
              "      <td>30.53</td>\n",
              "    </tr>\n",
              "    <tr>\n",
              "      <th>78</th>\n",
              "      <td>721523.878452</td>\n",
              "      <td>942296.428700</td>\n",
              "      <td>30.85</td>\n",
              "    </tr>\n",
              "    <tr>\n",
              "      <th>79</th>\n",
              "      <td>730288.699941</td>\n",
              "      <td>947044.040340</td>\n",
              "      <td>32.54</td>\n",
              "    </tr>\n",
              "    <tr>\n",
              "      <th>80</th>\n",
              "      <td>736040.614044</td>\n",
              "      <td>941292.126237</td>\n",
              "      <td>37.95</td>\n",
              "    </tr>\n",
              "  </tbody>\n",
              "</table>\n",
              "<p>81 rows × 3 columns</p>\n",
              "</div>"
            ],
            "text/plain": [
              "             long            lat  Temp_DC\n",
              "0   687133.983726  968795.752255    32.20\n",
              "1   690207.021264  969533.523005    32.22\n",
              "2   693417.979807  968758.858469    32.34\n",
              "3   696605.298323  972984.959925    32.78\n",
              "4   699076.820576  976220.983306    32.96\n",
              "..            ...            ...      ...\n",
              "76  724719.386286  952795.954443    35.23\n",
              "77  722984.682033  940287.823775    30.53\n",
              "78  721523.878452  942296.428700    30.85\n",
              "79  730288.699941  947044.040340    32.54\n",
              "80  736040.614044  941292.126237    37.95\n",
              "\n",
              "[81 rows x 3 columns]"
            ]
          },
          "execution_count": 15,
          "metadata": {},
          "output_type": "execute_result"
        }
      ],
      "source": [
        "df[\"Temp_DC\"]=z\n",
        "df"
      ]
    },
    {
      "cell_type": "code",
      "execution_count": null,
      "id": "99857e0d",
      "metadata": {
        "id": "99857e0d",
        "outputId": "bb9f626a-e1d0-44f4-9cd9-6024d95067ff"
      },
      "outputs": [
        {
          "name": "stdout",
          "output_type": "stream",
          "text": [
            "Plotting Enabled\n",
            "\n",
            "Adjusting data for anisotropy...\n",
            "Initializing variogram model...\n",
            "Coordinates type: 'euclidean' \n",
            "\n",
            "Using 'exponential' Variogram Model\n",
            "Partial Sill: 3.7312818045557217\n",
            "Full Sill: 4.642916824424536\n",
            "Range: 56341.78451446078\n",
            "Nugget: 0.9116350198688148 \n",
            "\n"
          ]
        },
        {
          "data": {
            "image/png": "[encoded data removed]",
            "text/plain": [
              "<Figure size 432x288 with 1 Axes>"
            ]
          },
          "metadata": {
            "needs_background": "light"
          },
          "output_type": "display_data"
        },
        {
          "name": "stdout",
          "output_type": "stream",
          "text": [
            "Calculating statistics on variogram model fit...\n"
          ]
        }
      ],
      "source": [
        "OK = OrdinaryKriging(x,y,z,variogram_model='exponential',\n",
        "                    verbose=True,enable_plotting=True)"
      ]
    },
    {
      "cell_type": "code",
      "execution_count": null,
      "id": "0b69b369",
      "metadata": {
        "id": "0b69b369",
        "outputId": "7bdfd1c2-221c-4ca2-bcde-42cb5d65f534"
      },
      "outputs": [
        {
          "name": "stdout",
          "output_type": "stream",
          "text": [
            "Executing Ordinary Kriging...\n",
            "\n"
          ]
        }
      ],
      "source": [
        "#determine xmin,xmax,ymin,ymax from our dataset\n",
        "xv=df['long'].values\n",
        "yv=df['lat'].values\n",
        "\n",
        "xmin,xmax=min(xv),max(xv)\n",
        "ymin,ymax=min(yv),max(yv)\n",
        "\n",
        "gridx=np.arange(xmin,xmax,30,dtype='float64')\n",
        "gridy=np.arange(ymin,ymax,30,dtype='float64')\n",
        "\n",
        "# we build the grid\n",
        "xx,yy = OK.execute(\"grid\",gridx,gridy)"
      ]
    },
    {
      "cell_type": "code",
      "execution_count": null,
      "id": "ea5a7751",
      "metadata": {
        "id": "ea5a7751",
        "outputId": "6ed96b26-9dc8-42f7-9534-c3f3ca62dade"
      },
      "outputs": [
        {
          "data": {
            "text/plain": [
              "(1757,)"
            ]
          },
          "execution_count": 21,
          "metadata": {},
          "output_type": "execute_result"
        }
      ],
      "source": [
        "gridy.shape"
      ]
    },
    {
      "cell_type": "raw",
      "id": "cff9bc50",
      "metadata": {
        "id": "cff9bc50"
      },
      "source": []
    },
    {
      "cell_type": "code",
      "execution_count": null,
      "id": "dfef9d86",
      "metadata": {
        "id": "dfef9d86",
        "outputId": "79933ab6-e131-4755-d522-d6bca61bbe1e"
      },
      "outputs": [
        {
          "name": "stdout",
          "output_type": "stream",
          "text": [
            "(1757, 1925)\n",
            "(1757, 1925)\n"
          ]
        }
      ],
      "source": [
        "print(xx.shape)\n",
        "print(yy.shape)"
      ]
    },
    {
      "cell_type": "code",
      "execution_count": null,
      "id": "26f21055",
      "metadata": {
        "id": "26f21055",
        "outputId": "fb7da975-932d-4904-8be5-8475dd681b52"
      },
      "outputs": [
        {
          "data": {
            "text/plain": [
              "Text(0.5, 1.0, 'porosity estimate')"
            ]
          },
          "execution_count": 29,
          "metadata": {},
          "output_type": "execute_result"
        },
        {
          "data": {
            "image/png": "[encoded data removed]",
            "text/plain": [
              "<Figure size 432x288 with 2 Axes>"
            ]
          },
          "metadata": {
            "needs_background": "light"
          },
          "output_type": "display_data"
        }
      ],
      "source": [
        "cax = plt.imshow(xx, extent=(xmin,xmax,ymin,ymax),origin=\"lower\")\n",
        "plt.scatter(x,y,c='k',marker='.')\n",
        "cbar=plt.colorbar(cax)\n",
        "plt.title(\"porosity estimate\")"
      ]
    },
    {
      "cell_type": "code",
      "execution_count": null,
      "id": "e4adf9c5",
      "metadata": {
        "id": "e4adf9c5",
        "outputId": "a5297cc7-40f0-4ae4-efff-7452e385d8ff"
      },
      "outputs": [
        {
          "data": {
            "text/plain": [
              "Text(0.5, 1.0, 'porosity standard devarion ')"
            ]
          },
          "execution_count": 42,
          "metadata": {},
          "output_type": "execute_result"
        },
        {
          "data": {
            "image/png": "[encoded data removed]",
            "text/plain": [
              "<Figure size 432x288 with 2 Axes>"
            ]
          },
          "metadata": {
            "needs_background": "light"
          },
          "output_type": "display_data"
        }
      ],
      "source": [
        "cax = plt.imshow(np.sqrt(yy),extent=(xmin,xmax,ymin,ymax),origin=\"lower\",vmin = 0)\n",
        "plt.scatter(x,y,c='k',marker='.')\n",
        "cbar=plt.colorbar(cax)\n",
        "plt.title(\"porosity standard devarion \")"
      ]
    },
    {
      "cell_type": "code",
      "execution_count": null,
      "id": "2201d1f2",
      "metadata": {
        "id": "2201d1f2",
        "outputId": "989d2800-bd30-4d5f-bc1e-6d3c48daa9c8"
      },
      "outputs": [
        {
          "data": {
            "text/plain": [
              "array([3.73128180e+00, 5.63417845e+04, 9.11635020e-01])"
            ]
          },
          "execution_count": 43,
          "metadata": {},
          "output_type": "execute_result"
        }
      ],
      "source": [
        "OK.variogram_model_parameters"
      ]
    },
    {
      "cell_type": "code",
      "execution_count": null,
      "id": "90c31055",
      "metadata": {
        "id": "90c31055"
      },
      "outputs": [],
      "source": []
    }
  ],
  "metadata": {
    "kernelspec": {
      "display_name": "Python 3 (ipykernel)",
      "language": "python",
      "name": "python3"
    },
    "language_info": {
      "codemirror_mode": {
        "name": "ipython",
        "version": 3
      },
      "file_extension": ".py",
      "mimetype": "text/x-python",
      "name": "python",
      "nbconvert_exporter": "python",
      "pygments_lexer": "ipython3",
      "version": "3.9.7"
    },
    "colab": {
      "provenance": [],
      "include_colab_link": true
    }
  },
  "nbformat": 4,
  "nbformat_minor": 5
}