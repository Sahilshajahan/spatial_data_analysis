{
  "cells": [
    {
      "cell_type": "markdown",
      "metadata": {
        "id": "view-in-github",
        "colab_type": "text"
      },
      "source": [
        "<a href=\"https://colab.research.google.com/github/Sahilshajahan/spatial_data_analysis/blob/main/semi_veriogram.ipynb\" target=\"_parent\"><img src=\"https://colab.research.google.com/assets/colab-badge.svg\" alt=\"Open In Colab\"/></a>"
      ]
    },
    {
      "cell_type": "code",
      "source": [
        "'''\n",
        "\n",
        "Different Types of Kriging\n",
        "-ordinary kriging\n",
        "-simple    \"\n",
        "-universal \"\n",
        "-regression,etc\n",
        "\n",
        "Different Types of Semi-Variogram/Covariance models\n",
        "-exponential\n",
        "-spherical\n",
        "-gaussian\n",
        "-theoritical, etc\n",
        "\n",
        "'''\n",
        "\n",
        "# For kriging the data should be in PCS "
      ],
      "metadata": {
        "colab": {
          "base_uri": "https://localhost:8080/",
          "height": 70
        },
        "id": "IBL3JZHkgpKu",
        "outputId": "28bf2e0f-ebb8-41a5-d9a2-5ec0c00cbcd6"
      },
      "id": "IBL3JZHkgpKu",
      "execution_count": null,
      "outputs": [
        {
          "output_type": "execute_result",
          "data": {
            "text/plain": [
              "'\\n\\nDifferent Types of Kriging\\n-ordinary kriging\\n-simple    \"\\n-universal \"\\n-regression,etc\\n\\nDifferent Types of Semi-Variogram/Covariance models\\n-exponential\\n-spherical\\n-gaussian\\n-theoritical, etc\\n\\n'"
            ],
            "application/vnd.google.colaboratory.intrinsic+json": {
              "type": "string"
            }
          },
          "metadata": {},
          "execution_count": 1
        }
      ]
    },
    {
      "cell_type": "code",
      "source": [
        "pip install geopandas"
      ],
      "metadata": {
        "colab": {
          "base_uri": "https://localhost:8080/"
        },
        "id": "gBXKA9xuhB23",
        "outputId": "e26b1d00-e08a-44a9-e715-000983ccce93"
      },
      "id": "gBXKA9xuhB23",
      "execution_count": null,
      "outputs": [
        {
          "output_type": "stream",
          "name": "stdout",
          "text": [
            "Looking in indexes: https://pypi.org/simple, https://us-python.pkg.dev/colab-wheels/public/simple/\n",
            "Collecting geopandas\n",
            "  Downloading geopandas-0.12.2-py3-none-any.whl (1.1 MB)\n",
            "\u001b[K     |████████████████████████████████| 1.1 MB 29.5 MB/s \n",
            "\u001b[?25hCollecting pyproj>=2.6.1.post1\n",
            "  Downloading pyproj-3.4.1-cp38-cp38-manylinux_2_17_x86_64.manylinux2014_x86_64.whl (7.8 MB)\n",
            "\u001b[K     |████████████████████████████████| 7.8 MB 75.0 MB/s \n",
            "\u001b[?25hRequirement already satisfied: shapely>=1.7 in /usr/local/lib/python3.8/dist-packages (from geopandas) (2.0.0)\n",
            "Collecting fiona>=1.8\n",
            "  Downloading Fiona-1.8.22-cp38-cp38-manylinux_2_17_x86_64.manylinux2014_x86_64.whl (16.6 MB)\n",
            "\u001b[K     |████████████████████████████████| 16.6 MB 54.4 MB/s \n",
            "\u001b[?25hRequirement already satisfied: packaging in /usr/local/lib/python3.8/dist-packages (from geopandas) (21.3)\n",
            "Requirement already satisfied: pandas>=1.0.0 in /usr/local/lib/python3.8/dist-packages (from geopandas) (1.3.5)\n",
            "Requirement already satisfied: six>=1.7 in /usr/local/lib/python3.8/dist-packages (from fiona>=1.8->geopandas) (1.15.0)\n",
            "Collecting click-plugins>=1.0\n",
            "  Downloading click_plugins-1.1.1-py2.py3-none-any.whl (7.5 kB)\n",
            "Requirement already satisfied: setuptools in /usr/local/lib/python3.8/dist-packages (from fiona>=1.8->geopandas) (57.4.0)\n",
            "Requirement already satisfied: click>=4.0 in /usr/local/lib/python3.8/dist-packages (from fiona>=1.8->geopandas) (7.1.2)\n",
            "Requirement already satisfied: certifi in /usr/local/lib/python3.8/dist-packages (from fiona>=1.8->geopandas) (2022.12.7)\n",
            "Collecting munch\n",
            "  Downloading munch-2.5.0-py2.py3-none-any.whl (10 kB)\n",
            "Requirement already satisfied: attrs>=17 in /usr/local/lib/python3.8/dist-packages (from fiona>=1.8->geopandas) (22.1.0)\n",
            "Collecting cligj>=0.5\n",
            "  Downloading cligj-0.7.2-py3-none-any.whl (7.1 kB)\n",
            "Requirement already satisfied: pytz>=2017.3 in /usr/local/lib/python3.8/dist-packages (from pandas>=1.0.0->geopandas) (2022.6)\n",
            "Requirement already satisfied: python-dateutil>=2.7.3 in /usr/local/lib/python3.8/dist-packages (from pandas>=1.0.0->geopandas) (2.8.2)\n",
            "Requirement already satisfied: numpy>=1.17.3 in /usr/local/lib/python3.8/dist-packages (from pandas>=1.0.0->geopandas) (1.21.6)\n",
            "Requirement already satisfied: pyparsing!=3.0.5,>=2.0.2 in /usr/local/lib/python3.8/dist-packages (from packaging->geopandas) (3.0.9)\n",
            "Installing collected packages: munch, cligj, click-plugins, pyproj, fiona, geopandas\n",
            "Successfully installed click-plugins-1.1.1 cligj-0.7.2 fiona-1.8.22 geopandas-0.12.2 munch-2.5.0 pyproj-3.4.1\n"
          ]
        }
      ]
    },
    {
      "cell_type": "code",
      "execution_count": null,
      "id": "3cc4dac4",
      "metadata": {
        "colab": {
          "base_uri": "https://localhost:8080/"
        },
        "id": "3cc4dac4",
        "outputId": "5e20bec5-9e4a-4084-ef3f-fd3360f3af5a"
      },
      "outputs": [
        {
          "output_type": "stream",
          "name": "stdout",
          "text": [
            "Looking in indexes: https://pypi.org/simple, https://us-python.pkg.dev/colab-wheels/public/simple/\n",
            "Collecting scikit-gstat\n",
            "  Downloading scikit-gstat-1.0.8.tar.gz (686 kB)\n",
            "\u001b[K     |████████████████████████████████| 686 kB 27.5 MB/s \n",
            "\u001b[?25hRequirement already satisfied: scipy in /usr/local/lib/python3.8/dist-packages (from scikit-gstat) (1.7.3)\n",
            "Requirement already satisfied: numpy in /usr/local/lib/python3.8/dist-packages (from scikit-gstat) (1.21.6)\n",
            "Requirement already satisfied: pandas in /usr/local/lib/python3.8/dist-packages (from scikit-gstat) (1.3.5)\n",
            "Requirement already satisfied: matplotlib in /usr/local/lib/python3.8/dist-packages (from scikit-gstat) (3.2.2)\n",
            "Requirement already satisfied: numba in /usr/local/lib/python3.8/dist-packages (from scikit-gstat) (0.56.4)\n",
            "Requirement already satisfied: scikit-learn in /usr/local/lib/python3.8/dist-packages (from scikit-gstat) (1.0.2)\n",
            "Requirement already satisfied: imageio in /usr/local/lib/python3.8/dist-packages (from scikit-gstat) (2.9.0)\n",
            "Requirement already satisfied: tqdm in /usr/local/lib/python3.8/dist-packages (from scikit-gstat) (4.64.1)\n",
            "Requirement already satisfied: pillow in /usr/local/lib/python3.8/dist-packages (from imageio->scikit-gstat) (7.1.2)\n",
            "Requirement already satisfied: kiwisolver>=1.0.1 in /usr/local/lib/python3.8/dist-packages (from matplotlib->scikit-gstat) (1.4.4)\n",
            "Requirement already satisfied: cycler>=0.10 in /usr/local/lib/python3.8/dist-packages (from matplotlib->scikit-gstat) (0.11.0)\n",
            "Requirement already satisfied: pyparsing!=2.0.4,!=2.1.2,!=2.1.6,>=2.0.1 in /usr/local/lib/python3.8/dist-packages (from matplotlib->scikit-gstat) (3.0.9)\n",
            "Requirement already satisfied: python-dateutil>=2.1 in /usr/local/lib/python3.8/dist-packages (from matplotlib->scikit-gstat) (2.8.2)\n",
            "Requirement already satisfied: six>=1.5 in /usr/local/lib/python3.8/dist-packages (from python-dateutil>=2.1->matplotlib->scikit-gstat) (1.15.0)\n",
            "Requirement already satisfied: importlib-metadata in /usr/local/lib/python3.8/dist-packages (from numba->scikit-gstat) (5.1.0)\n",
            "Requirement already satisfied: llvmlite<0.40,>=0.39.0dev0 in /usr/local/lib/python3.8/dist-packages (from numba->scikit-gstat) (0.39.1)\n",
            "Requirement already satisfied: setuptools in /usr/local/lib/python3.8/dist-packages (from numba->scikit-gstat) (57.4.0)\n",
            "Requirement already satisfied: zipp>=0.5 in /usr/local/lib/python3.8/dist-packages (from importlib-metadata->numba->scikit-gstat) (3.11.0)\n",
            "Requirement already satisfied: pytz>=2017.3 in /usr/local/lib/python3.8/dist-packages (from pandas->scikit-gstat) (2022.6)\n",
            "Requirement already satisfied: joblib>=0.11 in /usr/local/lib/python3.8/dist-packages (from scikit-learn->scikit-gstat) (1.2.0)\n",
            "Requirement already satisfied: threadpoolctl>=2.0.0 in /usr/local/lib/python3.8/dist-packages (from scikit-learn->scikit-gstat) (3.1.0)\n",
            "Building wheels for collected packages: scikit-gstat\n",
            "  Building wheel for scikit-gstat (setup.py) ... \u001b[?25l\u001b[?25hdone\n",
            "  Created wheel for scikit-gstat: filename=scikit_gstat-1.0.8-py3-none-any.whl size=701323 sha256=f32148d6b35f83306312b8b69d39fcd62b732e1f76414755cbf0642abfad777a\n",
            "  Stored in directory: /root/.cache/pip/wheels/10/fb/76/7f48b50e9a92bfeaba8e2d20ee24596ba02fb657d0d3d8ea0e\n",
            "Successfully built scikit-gstat\n",
            "Installing collected packages: scikit-gstat\n",
            "Successfully installed scikit-gstat-1.0.8\n"
          ]
        }
      ],
      "source": [
        "!pip install scikit-gstat"
      ]
    },
    {
      "cell_type": "code",
      "execution_count": null,
      "id": "bc2ded17",
      "metadata": {
        "id": "bc2ded17"
      },
      "outputs": [],
      "source": [
        "import numpy as np\n",
        "import pandas as pd\n",
        "import geopandas as gpd\n",
        "\n",
        "#skgstat = scikit-gstat\n",
        "import skgstat as skg\n",
        "from skgstat import Variogram \n",
        "\n",
        "import matplotlib.pyplot as plt\n"
      ]
    },
    {
      "cell_type": "code",
      "execution_count": null,
      "id": "6db25abc",
      "metadata": {
        "id": "6db25abc"
      },
      "outputs": [],
      "source": [
        "data=gpd.read_file(r\"/content/Temp_43N.shp\")"
      ]
    },
    {
      "cell_type": "code",
      "execution_count": null,
      "id": "ab40a202",
      "metadata": {
        "colab": {
          "base_uri": "https://localhost:8080/",
          "height": 424
        },
        "id": "ab40a202",
        "outputId": "816b1b4f-4d42-4888-af97-614405559cbe"
      },
      "outputs": [
        {
          "output_type": "execute_result",
          "data": {
            "text/plain": [
              "    Id  Temp_DC                       geometry\n",
              "0    1    32.20  POINT (687133.984 968795.752)\n",
              "1    2    32.22  POINT (690207.021 969533.523)\n",
              "2    3    32.34  POINT (693417.980 968758.858)\n",
              "3    4    32.78  POINT (696605.298 972984.960)\n",
              "4    5    32.96  POINT (699076.821 976220.983)\n",
              "..  ..      ...                            ...\n",
              "76  83    35.23  POINT (724719.386 952795.954)\n",
              "77  85    30.53  POINT (722984.682 940287.824)\n",
              "78  86    30.85  POINT (721523.878 942296.429)\n",
              "79  86    32.54  POINT (730288.700 947044.040)\n",
              "80  87    37.95  POINT (736040.614 941292.126)\n",
              "\n",
              "[81 rows x 3 columns]"
            ],
            "text/html": [
              "\n",
              "  <div id=\"df-85a1525f-9d42-45fc-bb87-f0fd8564fe01\">\n",
              "    <div class=\"colab-df-container\">\n",
              "      <div>\n",
              "<style scoped>\n",
              "    .dataframe tbody tr th:only-of-type {\n",
              "        vertical-align: middle;\n",
              "    }\n",
              "\n",
              "    .dataframe tbody tr th {\n",
              "        vertical-align: top;\n",
              "    }\n",
              "\n",
              "    .dataframe thead th {\n",
              "        text-align: right;\n",
              "    }\n",
              "</style>\n",
              "<table border=\"1\" class=\"dataframe\">\n",
              "  <thead>\n",
              "    <tr style=\"text-align: right;\">\n",
              "      <th></th>\n",
              "      <th>Id</th>\n",
              "      <th>Temp_DC</th>\n",
              "      <th>geometry</th>\n",
              "    </tr>\n",
              "  </thead>\n",
              "  <tbody>\n",
              "    <tr>\n",
              "      <th>0</th>\n",
              "      <td>1</td>\n",
              "      <td>32.20</td>\n",
              "      <td>POINT (687133.984 968795.752)</td>\n",
              "    </tr>\n",
              "    <tr>\n",
              "      <th>1</th>\n",
              "      <td>2</td>\n",
              "      <td>32.22</td>\n",
              "      <td>POINT (690207.021 969533.523)</td>\n",
              "    </tr>\n",
              "    <tr>\n",
              "      <th>2</th>\n",
              "      <td>3</td>\n",
              "      <td>32.34</td>\n",
              "      <td>POINT (693417.980 968758.858)</td>\n",
              "    </tr>\n",
              "    <tr>\n",
              "      <th>3</th>\n",
              "      <td>4</td>\n",
              "      <td>32.78</td>\n",
              "      <td>POINT (696605.298 972984.960)</td>\n",
              "    </tr>\n",
              "    <tr>\n",
              "      <th>4</th>\n",
              "      <td>5</td>\n",
              "      <td>32.96</td>\n",
              "      <td>POINT (699076.821 976220.983)</td>\n",
              "    </tr>\n",
              "    <tr>\n",
              "      <th>...</th>\n",
              "      <td>...</td>\n",
              "      <td>...</td>\n",
              "      <td>...</td>\n",
              "    </tr>\n",
              "    <tr>\n",
              "      <th>76</th>\n",
              "      <td>83</td>\n",
              "      <td>35.23</td>\n",
              "      <td>POINT (724719.386 952795.954)</td>\n",
              "    </tr>\n",
              "    <tr>\n",
              "      <th>77</th>\n",
              "      <td>85</td>\n",
              "      <td>30.53</td>\n",
              "      <td>POINT (722984.682 940287.824)</td>\n",
              "    </tr>\n",
              "    <tr>\n",
              "      <th>78</th>\n",
              "      <td>86</td>\n",
              "      <td>30.85</td>\n",
              "      <td>POINT (721523.878 942296.429)</td>\n",
              "    </tr>\n",
              "    <tr>\n",
              "      <th>79</th>\n",
              "      <td>86</td>\n",
              "      <td>32.54</td>\n",
              "      <td>POINT (730288.700 947044.040)</td>\n",
              "    </tr>\n",
              "    <tr>\n",
              "      <th>80</th>\n",
              "      <td>87</td>\n",
              "      <td>37.95</td>\n",
              "      <td>POINT (736040.614 941292.126)</td>\n",
              "    </tr>\n",
              "  </tbody>\n",
              "</table>\n",
              "<p>81 rows × 3 columns</p>\n",
              "</div>\n",
              "      <button class=\"colab-df-convert\" onclick=\"convertToInteractive('df-85a1525f-9d42-45fc-bb87-f0fd8564fe01')\"\n",
              "              title=\"Convert this dataframe to an interactive table.\"\n",
              "              style=\"display:none;\">\n",
              "        \n",
              "  <svg xmlns=\"http://www.w3.org/2000/svg\" height=\"24px\"viewBox=\"0 0 24 24\"\n",
              "       width=\"24px\">\n",
              "    <path d=\"M0 0h24v24H0V0z\" fill=\"none\"/>\n",
              "    <path d=\"M18.56 5.44l.94 2.06.94-2.06 2.06-.94-2.06-.94-.94-2.06-.94 2.06-2.06.94zm-11 1L8.5 8.5l.94-2.06 2.06-.94-2.06-.94L8.5 2.5l-.94 2.06-2.06.94zm10 10l.94 2.06.94-2.06 2.06-.94-2.06-.94-.94-2.06-.94 2.06-2.06.94z\"/><path d=\"M17.41 7.96l-1.37-1.37c-.4-.4-.92-.59-1.43-.59-.52 0-1.04.2-1.43.59L10.3 9.45l-7.72 7.72c-.78.78-.78 2.05 0 2.83L4 21.41c.39.39.9.59 1.41.59.51 0 1.02-.2 1.41-.59l7.78-7.78 2.81-2.81c.8-.78.8-2.07 0-2.86zM5.41 20L4 18.59l7.72-7.72 1.47 1.35L5.41 20z\"/>\n",
              "  </svg>\n",
              "      </button>\n",
              "      \n",
              "  <style>\n",
              "    .colab-df-container {\n",
              "      display:flex;\n",
              "      flex-wrap:wrap;\n",
              "      gap: 12px;\n",
              "    }\n",
              "\n",
              "    .colab-df-convert {\n",
              "      background-color: #E8F0FE;\n",
              "      border: none;\n",
              "      border-radius: 50%;\n",
              "      cursor: pointer;\n",
              "      display: none;\n",
              "      fill: #1967D2;\n",
              "      height: 32px;\n",
              "      padding: 0 0 0 0;\n",
              "      width: 32px;\n",
              "    }\n",
              "\n",
              "    .colab-df-convert:hover {\n",
              "      background-color: #E2EBFA;\n",
              "      box-shadow: 0px 1px 2px rgba(60, 64, 67, 0.3), 0px 1px 3px 1px rgba(60, 64, 67, 0.15);\n",
              "      fill: #174EA6;\n",
              "    }\n",
              "\n",
              "    [theme=dark] .colab-df-convert {\n",
              "      background-color: #3B4455;\n",
              "      fill: #D2E3FC;\n",
              "    }\n",
              "\n",
              "    [theme=dark] .colab-df-convert:hover {\n",
              "      background-color: #434B5C;\n",
              "      box-shadow: 0px 1px 3px 1px rgba(0, 0, 0, 0.15);\n",
              "      filter: drop-shadow(0px 1px 2px rgba(0, 0, 0, 0.3));\n",
              "      fill: #FFFFFF;\n",
              "    }\n",
              "  </style>\n",
              "\n",
              "      <script>\n",
              "        const buttonEl =\n",
              "          document.querySelector('#df-85a1525f-9d42-45fc-bb87-f0fd8564fe01 button.colab-df-convert');\n",
              "        buttonEl.style.display =\n",
              "          google.colab.kernel.accessAllowed ? 'block' : 'none';\n",
              "\n",
              "        async function convertToInteractive(key) {\n",
              "          const element = document.querySelector('#df-85a1525f-9d42-45fc-bb87-f0fd8564fe01');\n",
              "          const dataTable =\n",
              "            await google.colab.kernel.invokeFunction('convertToInteractive',\n",
              "                                                     [key], {});\n",
              "          if (!dataTable) return;\n",
              "\n",
              "          const docLinkHtml = 'Like what you see? Visit the ' +\n",
              "            '<a target=\"_blank\" href=https://colab.research.google.com/notebooks/data_table.ipynb>data table notebook</a>'\n",
              "            + ' to learn more about interactive tables.';\n",
              "          element.innerHTML = '';\n",
              "          dataTable['output_type'] = 'display_data';\n",
              "          await google.colab.output.renderOutput(dataTable, element);\n",
              "          const docLink = document.createElement('div');\n",
              "          docLink.innerHTML = docLinkHtml;\n",
              "          element.appendChild(docLink);\n",
              "        }\n",
              "      </script>\n",
              "    </div>\n",
              "  </div>\n",
              "  "
            ]
          },
          "metadata": {},
          "execution_count": 8
        }
      ],
      "source": [
        "data"
      ]
    },
    {
      "cell_type": "code",
      "execution_count": null,
      "id": "7559cd43",
      "metadata": {
        "id": "7559cd43"
      },
      "outputs": [],
      "source": [
        "#Extracting x,y coordinates\n",
        "x=data.geometry.x\n",
        "y=data.geometry.y"
      ]
    },
    {
      "cell_type": "code",
      "execution_count": null,
      "id": "3a6d9863",
      "metadata": {
        "colab": {
          "base_uri": "https://localhost:8080/"
        },
        "id": "3a6d9863",
        "outputId": "d3e0e685-5683-44db-94fd-b921e88b467b"
      },
      "outputs": [
        {
          "output_type": "execute_result",
          "data": {
            "text/plain": [
              "0     687133.983726\n",
              "1     690207.021264\n",
              "2     693417.979807\n",
              "3     696605.298323\n",
              "4     699076.820576\n",
              "          ...      \n",
              "76    724719.386286\n",
              "77    722984.682033\n",
              "78    721523.878452\n",
              "79    730288.699941\n",
              "80    736040.614044\n",
              "Length: 81, dtype: float64"
            ]
          },
          "metadata": {},
          "execution_count": 10
        }
      ],
      "source": [
        "x"
      ]
    },
    {
      "cell_type": "code",
      "execution_count": null,
      "id": "35201442",
      "metadata": {
        "colab": {
          "base_uri": "https://localhost:8080/"
        },
        "id": "35201442",
        "outputId": "9c736e24-6d73-4fe0-fbfc-7017e75f7e54"
      },
      "outputs": [
        {
          "output_type": "execute_result",
          "data": {
            "text/plain": [
              "0     968795.752255\n",
              "1     969533.523005\n",
              "2     968758.858469\n",
              "3     972984.959925\n",
              "4     976220.983306\n",
              "          ...      \n",
              "76    952795.954443\n",
              "77    940287.823775\n",
              "78    942296.428700\n",
              "79    947044.040340\n",
              "80    941292.126237\n",
              "Length: 81, dtype: float64"
            ]
          },
          "metadata": {},
          "execution_count": 11
        }
      ],
      "source": [
        "y"
      ]
    },
    {
      "cell_type": "code",
      "execution_count": null,
      "id": "8f7a9f21",
      "metadata": {
        "colab": {
          "base_uri": "https://localhost:8080/"
        },
        "id": "8f7a9f21",
        "outputId": "0e128bf1-56ba-4e7d-88b0-04317c4160b8"
      },
      "outputs": [
        {
          "output_type": "execute_result",
          "data": {
            "text/plain": [
              "0     32.20\n",
              "1     32.22\n",
              "2     32.34\n",
              "3     32.78\n",
              "4     32.96\n",
              "      ...  \n",
              "76    35.23\n",
              "77    30.53\n",
              "78    30.85\n",
              "79    32.54\n",
              "80    37.95\n",
              "Name: Temp_DC, Length: 81, dtype: float64"
            ]
          },
          "metadata": {},
          "execution_count": 12
        }
      ],
      "source": [
        "z=data.Temp_DC\n",
        "z"
      ]
    },
    {
      "cell_type": "code",
      "execution_count": null,
      "id": "7ec2a331",
      "metadata": {
        "id": "7ec2a331"
      },
      "outputs": [],
      "source": [
        "data.crs"
      ]
    },
    {
      "cell_type": "code",
      "execution_count": null,
      "id": "dac51072",
      "metadata": {
        "colab": {
          "base_uri": "https://localhost:8080/",
          "height": 282
        },
        "id": "dac51072",
        "outputId": "dd893293-4495-4fec-bc16-ccab1a657612"
      },
      "outputs": [
        {
          "output_type": "execute_result",
          "data": {
            "text/plain": [
              "<matplotlib.axes._subplots.AxesSubplot at 0x7ff48f6d2280>"
            ]
          },
          "metadata": {},
          "execution_count": 14
        },
        {
          "output_type": "display_data",
          "data": {
            "text/plain": [
              "<Figure size 432x288 with 1 Axes>"
            ],
            "image/png": "[encoded data removed]"
          },
          "metadata": {
            "needs_background": "light"
          }
        }
      ],
      "source": [
        "data.plot()"
      ]
    },
    {
      "cell_type": "code",
      "execution_count": null,
      "id": "3e43cbb4",
      "metadata": {
        "colab": {
          "base_uri": "https://localhost:8080/",
          "height": 424
        },
        "id": "3e43cbb4",
        "outputId": "d40f18c4-6b70-4fbf-9fa1-bfd789760597"
      },
      "outputs": [
        {
          "output_type": "execute_result",
          "data": {
            "text/plain": [
              "             long\n",
              "0   687133.983726\n",
              "1   690207.021264\n",
              "2   693417.979807\n",
              "3   696605.298323\n",
              "4   699076.820576\n",
              "..            ...\n",
              "76  724719.386286\n",
              "77  722984.682033\n",
              "78  721523.878452\n",
              "79  730288.699941\n",
              "80  736040.614044\n",
              "\n",
              "[81 rows x 1 columns]"
            ],
            "text/html": [
              "\n",
              "  <div id=\"df-7c46f46f-e5b8-4d68-93ef-bba6690d9132\">\n",
              "    <div class=\"colab-df-container\">\n",
              "      <div>\n",
              "<style scoped>\n",
              "    .dataframe tbody tr th:only-of-type {\n",
              "        vertical-align: middle;\n",
              "    }\n",
              "\n",
              "    .dataframe tbody tr th {\n",
              "        vertical-align: top;\n",
              "    }\n",
              "\n",
              "    .dataframe thead th {\n",
              "        text-align: right;\n",
              "    }\n",
              "</style>\n",
              "<table border=\"1\" class=\"dataframe\">\n",
              "  <thead>\n",
              "    <tr style=\"text-align: right;\">\n",
              "      <th></th>\n",
              "      <th>long</th>\n",
              "    </tr>\n",
              "  </thead>\n",
              "  <tbody>\n",
              "    <tr>\n",
              "      <th>0</th>\n",
              "      <td>687133.983726</td>\n",
              "    </tr>\n",
              "    <tr>\n",
              "      <th>1</th>\n",
              "      <td>690207.021264</td>\n",
              "    </tr>\n",
              "    <tr>\n",
              "      <th>2</th>\n",
              "      <td>693417.979807</td>\n",
              "    </tr>\n",
              "    <tr>\n",
              "      <th>3</th>\n",
              "      <td>696605.298323</td>\n",
              "    </tr>\n",
              "    <tr>\n",
              "      <th>4</th>\n",
              "      <td>699076.820576</td>\n",
              "    </tr>\n",
              "    <tr>\n",
              "      <th>...</th>\n",
              "      <td>...</td>\n",
              "    </tr>\n",
              "    <tr>\n",
              "      <th>76</th>\n",
              "      <td>724719.386286</td>\n",
              "    </tr>\n",
              "    <tr>\n",
              "      <th>77</th>\n",
              "      <td>722984.682033</td>\n",
              "    </tr>\n",
              "    <tr>\n",
              "      <th>78</th>\n",
              "      <td>721523.878452</td>\n",
              "    </tr>\n",
              "    <tr>\n",
              "      <th>79</th>\n",
              "      <td>730288.699941</td>\n",
              "    </tr>\n",
              "    <tr>\n",
              "      <th>80</th>\n",
              "      <td>736040.614044</td>\n",
              "    </tr>\n",
              "  </tbody>\n",
              "</table>\n",
              "<p>81 rows × 1 columns</p>\n",
              "</div>\n",
              "      <button class=\"colab-df-convert\" onclick=\"convertToInteractive('df-7c46f46f-e5b8-4d68-93ef-bba6690d9132')\"\n",
              "              title=\"Convert this dataframe to an interactive table.\"\n",
              "              style=\"display:none;\">\n",
              "        \n",
              "  <svg xmlns=\"http://www.w3.org/2000/svg\" height=\"24px\"viewBox=\"0 0 24 24\"\n",
              "       width=\"24px\">\n",
              "    <path d=\"M0 0h24v24H0V0z\" fill=\"none\"/>\n",
              "    <path d=\"M18.56 5.44l.94 2.06.94-2.06 2.06-.94-2.06-.94-.94-2.06-.94 2.06-2.06.94zm-11 1L8.5 8.5l.94-2.06 2.06-.94-2.06-.94L8.5 2.5l-.94 2.06-2.06.94zm10 10l.94 2.06.94-2.06 2.06-.94-2.06-.94-.94-2.06-.94 2.06-2.06.94z\"/><path d=\"M17.41 7.96l-1.37-1.37c-.4-.4-.92-.59-1.43-.59-.52 0-1.04.2-1.43.59L10.3 9.45l-7.72 7.72c-.78.78-.78 2.05 0 2.83L4 21.41c.39.39.9.59 1.41.59.51 0 1.02-.2 1.41-.59l7.78-7.78 2.81-2.81c.8-.78.8-2.07 0-2.86zM5.41 20L4 18.59l7.72-7.72 1.47 1.35L5.41 20z\"/>\n",
              "  </svg>\n",
              "      </button>\n",
              "      \n",
              "  <style>\n",
              "    .colab-df-container {\n",
              "      display:flex;\n",
              "      flex-wrap:wrap;\n",
              "      gap: 12px;\n",
              "    }\n",
              "\n",
              "    .colab-df-convert {\n",
              "      background-color: #E8F0FE;\n",
              "      border: none;\n",
              "      border-radius: 50%;\n",
              "      cursor: pointer;\n",
              "      display: none;\n",
              "      fill: #1967D2;\n",
              "      height: 32px;\n",
              "      padding: 0 0 0 0;\n",
              "      width: 32px;\n",
              "    }\n",
              "\n",
              "    .colab-df-convert:hover {\n",
              "      background-color: #E2EBFA;\n",
              "      box-shadow: 0px 1px 2px rgba(60, 64, 67, 0.3), 0px 1px 3px 1px rgba(60, 64, 67, 0.15);\n",
              "      fill: #174EA6;\n",
              "    }\n",
              "\n",
              "    [theme=dark] .colab-df-convert {\n",
              "      background-color: #3B4455;\n",
              "      fill: #D2E3FC;\n",
              "    }\n",
              "\n",
              "    [theme=dark] .colab-df-convert:hover {\n",
              "      background-color: #434B5C;\n",
              "      box-shadow: 0px 1px 3px 1px rgba(0, 0, 0, 0.15);\n",
              "      filter: drop-shadow(0px 1px 2px rgba(0, 0, 0, 0.3));\n",
              "      fill: #FFFFFF;\n",
              "    }\n",
              "  </style>\n",
              "\n",
              "      <script>\n",
              "        const buttonEl =\n",
              "          document.querySelector('#df-7c46f46f-e5b8-4d68-93ef-bba6690d9132 button.colab-df-convert');\n",
              "        buttonEl.style.display =\n",
              "          google.colab.kernel.accessAllowed ? 'block' : 'none';\n",
              "\n",
              "        async function convertToInteractive(key) {\n",
              "          const element = document.querySelector('#df-7c46f46f-e5b8-4d68-93ef-bba6690d9132');\n",
              "          const dataTable =\n",
              "            await google.colab.kernel.invokeFunction('convertToInteractive',\n",
              "                                                     [key], {});\n",
              "          if (!dataTable) return;\n",
              "\n",
              "          const docLinkHtml = 'Like what you see? Visit the ' +\n",
              "            '<a target=\"_blank\" href=https://colab.research.google.com/notebooks/data_table.ipynb>data table notebook</a>'\n",
              "            + ' to learn more about interactive tables.';\n",
              "          element.innerHTML = '';\n",
              "          dataTable['output_type'] = 'display_data';\n",
              "          await google.colab.output.renderOutput(dataTable, element);\n",
              "          const docLink = document.createElement('div');\n",
              "          docLink.innerHTML = docLinkHtml;\n",
              "          element.appendChild(docLink);\n",
              "        }\n",
              "      </script>\n",
              "    </div>\n",
              "  </div>\n",
              "  "
            ]
          },
          "metadata": {},
          "execution_count": 15
        }
      ],
      "source": [
        "df=pd.DataFrame(x,columns=['long']) \n",
        "df"
      ]
    },
    {
      "cell_type": "code",
      "execution_count": null,
      "id": "33c7b952",
      "metadata": {
        "colab": {
          "base_uri": "https://localhost:8080/",
          "height": 424
        },
        "id": "33c7b952",
        "outputId": "940f462e-b433-49fc-a76a-a79b20c2b210"
      },
      "outputs": [
        {
          "output_type": "execute_result",
          "data": {
            "text/plain": [
              "             long            lat\n",
              "0   687133.983726  968795.752255\n",
              "1   690207.021264  969533.523005\n",
              "2   693417.979807  968758.858469\n",
              "3   696605.298323  972984.959925\n",
              "4   699076.820576  976220.983306\n",
              "..            ...            ...\n",
              "76  724719.386286  952795.954443\n",
              "77  722984.682033  940287.823775\n",
              "78  721523.878452  942296.428700\n",
              "79  730288.699941  947044.040340\n",
              "80  736040.614044  941292.126237\n",
              "\n",
              "[81 rows x 2 columns]"
            ],
            "text/html": [
              "\n",
              "  <div id=\"df-fd88bfc6-8b97-4aa0-959f-da90945407b6\">\n",
              "    <div class=\"colab-df-container\">\n",
              "      <div>\n",
              "<style scoped>\n",
              "    .dataframe tbody tr th:only-of-type {\n",
              "        vertical-align: middle;\n",
              "    }\n",
              "\n",
              "    .dataframe tbody tr th {\n",
              "        vertical-align: top;\n",
              "    }\n",
              "\n",
              "    .dataframe thead th {\n",
              "        text-align: right;\n",
              "    }\n",
              "</style>\n",
              "<table border=\"1\" class=\"dataframe\">\n",
              "  <thead>\n",
              "    <tr style=\"text-align: right;\">\n",
              "      <th></th>\n",
              "      <th>long</th>\n",
              "      <th>lat</th>\n",
              "    </tr>\n",
              "  </thead>\n",
              "  <tbody>\n",
              "    <tr>\n",
              "      <th>0</th>\n",
              "      <td>687133.983726</td>\n",
              "      <td>968795.752255</td>\n",
              "    </tr>\n",
              "    <tr>\n",
              "      <th>1</th>\n",
              "      <td>690207.021264</td>\n",
              "      <td>969533.523005</td>\n",
              "    </tr>\n",
              "    <tr>\n",
              "      <th>2</th>\n",
              "      <td>693417.979807</td>\n",
              "      <td>968758.858469</td>\n",
              "    </tr>\n",
              "    <tr>\n",
              "      <th>3</th>\n",
              "      <td>696605.298323</td>\n",
              "      <td>972984.959925</td>\n",
              "    </tr>\n",
              "    <tr>\n",
              "      <th>4</th>\n",
              "      <td>699076.820576</td>\n",
              "      <td>976220.983306</td>\n",
              "    </tr>\n",
              "    <tr>\n",
              "      <th>...</th>\n",
              "      <td>...</td>\n",
              "      <td>...</td>\n",
              "    </tr>\n",
              "    <tr>\n",
              "      <th>76</th>\n",
              "      <td>724719.386286</td>\n",
              "      <td>952795.954443</td>\n",
              "    </tr>\n",
              "    <tr>\n",
              "      <th>77</th>\n",
              "      <td>722984.682033</td>\n",
              "      <td>940287.823775</td>\n",
              "    </tr>\n",
              "    <tr>\n",
              "      <th>78</th>\n",
              "      <td>721523.878452</td>\n",
              "      <td>942296.428700</td>\n",
              "    </tr>\n",
              "    <tr>\n",
              "      <th>79</th>\n",
              "      <td>730288.699941</td>\n",
              "      <td>947044.040340</td>\n",
              "    </tr>\n",
              "    <tr>\n",
              "      <th>80</th>\n",
              "      <td>736040.614044</td>\n",
              "      <td>941292.126237</td>\n",
              "    </tr>\n",
              "  </tbody>\n",
              "</table>\n",
              "<p>81 rows × 2 columns</p>\n",
              "</div>\n",
              "      <button class=\"colab-df-convert\" onclick=\"convertToInteractive('df-fd88bfc6-8b97-4aa0-959f-da90945407b6')\"\n",
              "              title=\"Convert this dataframe to an interactive table.\"\n",
              "              style=\"display:none;\">\n",
              "        \n",
              "  <svg xmlns=\"http://www.w3.org/2000/svg\" height=\"24px\"viewBox=\"0 0 24 24\"\n",
              "       width=\"24px\">\n",
              "    <path d=\"M0 0h24v24H0V0z\" fill=\"none\"/>\n",
              "    <path d=\"M18.56 5.44l.94 2.06.94-2.06 2.06-.94-2.06-.94-.94-2.06-.94 2.06-2.06.94zm-11 1L8.5 8.5l.94-2.06 2.06-.94-2.06-.94L8.5 2.5l-.94 2.06-2.06.94zm10 10l.94 2.06.94-2.06 2.06-.94-2.06-.94-.94-2.06-.94 2.06-2.06.94z\"/><path d=\"M17.41 7.96l-1.37-1.37c-.4-.4-.92-.59-1.43-.59-.52 0-1.04.2-1.43.59L10.3 9.45l-7.72 7.72c-.78.78-.78 2.05 0 2.83L4 21.41c.39.39.9.59 1.41.59.51 0 1.02-.2 1.41-.59l7.78-7.78 2.81-2.81c.8-.78.8-2.07 0-2.86zM5.41 20L4 18.59l7.72-7.72 1.47 1.35L5.41 20z\"/>\n",
              "  </svg>\n",
              "      </button>\n",
              "      \n",
              "  <style>\n",
              "    .colab-df-container {\n",
              "      display:flex;\n",
              "      flex-wrap:wrap;\n",
              "      gap: 12px;\n",
              "    }\n",
              "\n",
              "    .colab-df-convert {\n",
              "      background-color: #E8F0FE;\n",
              "      border: none;\n",
              "      border-radius: 50%;\n",
              "      cursor: pointer;\n",
              "      display: none;\n",
              "      fill: #1967D2;\n",
              "      height: 32px;\n",
              "      padding: 0 0 0 0;\n",
              "      width: 32px;\n",
              "    }\n",
              "\n",
              "    .colab-df-convert:hover {\n",
              "      background-color: #E2EBFA;\n",
              "      box-shadow: 0px 1px 2px rgba(60, 64, 67, 0.3), 0px 1px 3px 1px rgba(60, 64, 67, 0.15);\n",
              "      fill: #174EA6;\n",
              "    }\n",
              "\n",
              "    [theme=dark] .colab-df-convert {\n",
              "      background-color: #3B4455;\n",
              "      fill: #D2E3FC;\n",
              "    }\n",
              "\n",
              "    [theme=dark] .colab-df-convert:hover {\n",
              "      background-color: #434B5C;\n",
              "      box-shadow: 0px 1px 3px 1px rgba(0, 0, 0, 0.15);\n",
              "      filter: drop-shadow(0px 1px 2px rgba(0, 0, 0, 0.3));\n",
              "      fill: #FFFFFF;\n",
              "    }\n",
              "  </style>\n",
              "\n",
              "      <script>\n",
              "        const buttonEl =\n",
              "          document.querySelector('#df-fd88bfc6-8b97-4aa0-959f-da90945407b6 button.colab-df-convert');\n",
              "        buttonEl.style.display =\n",
              "          google.colab.kernel.accessAllowed ? 'block' : 'none';\n",
              "\n",
              "        async function convertToInteractive(key) {\n",
              "          const element = document.querySelector('#df-fd88bfc6-8b97-4aa0-959f-da90945407b6');\n",
              "          const dataTable =\n",
              "            await google.colab.kernel.invokeFunction('convertToInteractive',\n",
              "                                                     [key], {});\n",
              "          if (!dataTable) return;\n",
              "\n",
              "          const docLinkHtml = 'Like what you see? Visit the ' +\n",
              "            '<a target=\"_blank\" href=https://colab.research.google.com/notebooks/data_table.ipynb>data table notebook</a>'\n",
              "            + ' to learn more about interactive tables.';\n",
              "          element.innerHTML = '';\n",
              "          dataTable['output_type'] = 'display_data';\n",
              "          await google.colab.output.renderOutput(dataTable, element);\n",
              "          const docLink = document.createElement('div');\n",
              "          docLink.innerHTML = docLinkHtml;\n",
              "          element.appendChild(docLink);\n",
              "        }\n",
              "      </script>\n",
              "    </div>\n",
              "  </div>\n",
              "  "
            ]
          },
          "metadata": {},
          "execution_count": 16
        }
      ],
      "source": [
        "df['lat']=y\n",
        "df"
      ]
    },
    {
      "cell_type": "code",
      "execution_count": null,
      "id": "a4a7ea98",
      "metadata": {
        "colab": {
          "base_uri": "https://localhost:8080/"
        },
        "id": "a4a7ea98",
        "outputId": "996e6ddc-5619-4131-f9d0-daa073ac7f1f"
      },
      "outputs": [
        {
          "output_type": "execute_result",
          "data": {
            "text/plain": [
              "0     32.20\n",
              "1     32.22\n",
              "2     32.34\n",
              "3     32.78\n",
              "4     32.96\n",
              "      ...  \n",
              "76    35.23\n",
              "77    30.53\n",
              "78    30.85\n",
              "79    32.54\n",
              "80    37.95\n",
              "Name: Temp_DC, Length: 81, dtype: float64"
            ]
          },
          "metadata": {},
          "execution_count": 17
        }
      ],
      "source": [
        "df[\"Temp_DC\"]=z\n",
        "z"
      ]
    },
    {
      "cell_type": "code",
      "source": [
        "'''if we have long-lat separately in the table we can add to the data frame like this as well'''\n",
        "\n",
        "# df['lat'] = data.Latitude\n",
        "# df"
      ],
      "metadata": {
        "colab": {
          "base_uri": "https://localhost:8080/",
          "height": 53
        },
        "id": "3ijvde4DhyHd",
        "outputId": "63d46e70-f2ce-4c63-ab3b-9f054c6d1831"
      },
      "id": "3ijvde4DhyHd",
      "execution_count": null,
      "outputs": [
        {
          "output_type": "execute_result",
          "data": {
            "text/plain": [
              "'if we have long-lat separately in the table we can add to the data frame like this as well'"
            ],
            "application/vnd.google.colaboratory.intrinsic+json": {
              "type": "string"
            }
          },
          "metadata": {},
          "execution_count": 18
        }
      ]
    },
    {
      "cell_type": "code",
      "execution_count": null,
      "id": "2049b2d8",
      "metadata": {
        "colab": {
          "base_uri": "https://localhost:8080/",
          "height": 500
        },
        "id": "2049b2d8",
        "outputId": "cf163273-3f81-4acf-c095-0e2566a4815e"
      },
      "outputs": [
        {
          "output_type": "execute_result",
          "data": {
            "text/plain": [
              "<matplotlib.collections.PathCollection at 0x7ff48f178c40>"
            ]
          },
          "metadata": {},
          "execution_count": 19
        },
        {
          "output_type": "display_data",
          "data": {
            "text/plain": [
              "<Figure size 576x576 with 1 Axes>"
            ],
            "image/png": "[encoded data removed]"
          },
          "metadata": {
            "needs_background": "light"
          }
        }
      ],
      "source": [
        "fig=plt.figure(figsize=(8,8))\n",
        "plt.scatter(df.long,df.lat,55,cmap='plasma')"
      ]
    },
    {
      "cell_type": "code",
      "execution_count": null,
      "id": "b7183942",
      "metadata": {
        "colab": {
          "base_uri": "https://localhost:8080/"
        },
        "id": "b7183942",
        "outputId": "ac245db3-a495-4f40-9abb-0dc916150ac9"
      },
      "outputs": [
        {
          "output_type": "stream",
          "name": "stdout",
          "text": [
            "spherical Variogram\n",
            "-------------------\n",
            "Estimator:         matheron\n",
            "        \rEffective Range:   62571.63\n",
            "        \rSill:              5.40\n",
            "        \rNugget:            0.00\n",
            "        \n"
          ]
        }
      ],
      "source": [
        "'''Estimator used here is Matheron which is a default estimator'''\n",
        "v=skg.Variogram(df[['long','lat']].values, df['Temp_DC'].values)\n",
        "print(v)"
      ]
    },
    {
      "cell_type": "code",
      "execution_count": null,
      "id": "a5b8277b",
      "metadata": {
        "colab": {
          "base_uri": "https://localhost:8080/",
          "height": 352
        },
        "id": "a5b8277b",
        "outputId": "c4d69266-4a2a-4823-adb0-15e81a8d46ef"
      },
      "outputs": [
        {
          "output_type": "execute_result",
          "data": {
            "text/plain": [
              "<function matplotlib.pyplot.close(fig=None)>"
            ]
          },
          "metadata": {},
          "execution_count": 21
        },
        {
          "output_type": "display_data",
          "data": {
            "text/plain": [
              "<Figure size 576x360 with 2 Axes>"
            ],
            "image/png": "[encoded data removed]"
          },
          "metadata": {
            "needs_background": "light"
          }
        }
      ],
      "source": [
        "v.plot()\n",
        "plt.close"
      ]
    },
    {
      "cell_type": "code",
      "source": [
        "#ORDINARY KRIGING\n",
        "from skgstat import OrdinaryKriging"
      ],
      "metadata": {
        "id": "w2xn_RzRiH4j"
      },
      "id": "w2xn_RzRiH4j",
      "execution_count": null,
      "outputs": []
    },
    {
      "cell_type": "code",
      "execution_count": null,
      "id": "a9484003",
      "metadata": {
        "id": "a9484003"
      },
      "outputs": [],
      "source": [
        "ok=OrdinaryKriging(v,min_points=5,max_points=20,mode='exact')"
      ]
    },
    {
      "cell_type": "code",
      "execution_count": null,
      "id": "1e945df4",
      "metadata": {
        "id": "1e945df4"
      },
      "outputs": [],
      "source": [
        "#determine xmin,xmax,ymin,ymax from our dataset\n",
        "xv=df['long'].values\n",
        "yv=df['lat'].values\n",
        "\n",
        "xmin,xmax=min(xv),max(xv)\n",
        "ymin,ymax=min(yv),max(yv)\n",
        "\n",
        "#determine the resolution in x direction\n",
        "res_x=30\n",
        "#determine the resolution in y direction\n",
        "#based in the res_x to make regular grid\n",
        "res_y=30\n",
        "\n",
        "# we build the grid\n",
        "xx,yy=np.mgrid[xmin:xmax:complex(res_x),ymin:ymax:complex(res_y)]"
      ]
    },
    {
      "cell_type": "code",
      "execution_count": null,
      "id": "794defc4",
      "metadata": {
        "id": "794defc4"
      },
      "outputs": [],
      "source": [
        "kriging_result =ok.transform(xx.flatten(),yy.flatten()).reshape(xx.shape)\n",
        "#We also calculate the kriging error on our grid\n",
        "kriging_error = ok.sigma.reshape(xx.shape)"
      ]
    },
    {
      "cell_type": "code",
      "execution_count": null,
      "id": "51a883a9",
      "metadata": {
        "colab": {
          "base_uri": "https://localhost:8080/"
        },
        "id": "51a883a9",
        "outputId": "47df3ef5-e1f5-42df-b391-b305abee9f4f"
      },
      "outputs": [
        {
          "output_type": "execute_result",
          "data": {
            "text/plain": [
              "array([[34.84470326, 34.86987513, 34.78993034, 34.77036674, 35.02478037,\n",
              "        34.99683941, 35.00342081, 35.00211011, 34.46513152, 34.31792418,\n",
              "        34.23865732, 34.18895168, 34.13853316, 34.07964295, 34.02620471,\n",
              "        33.97643491, 33.81601403, 33.7986166 , 33.78179412, 33.76072563,\n",
              "        33.74348755, 33.71176502, 33.66687949, 33.50109687, 33.10989312,\n",
              "        32.23273457, 32.49190876, 32.7241785 , 32.77997876, 32.78576987],\n",
              "       [34.90006042, 34.96806536, 34.94121838, 34.88854096, 35.0858986 ,\n",
              "        35.14087188, 35.00439856, 34.99969747, 34.8574598 , 34.48367153,\n",
              "        34.32328932, 34.24431991, 34.19043544, 34.13871874, 34.06964954,\n",
              "        34.02149675, 33.86933089, 33.86417331, 33.85752706, 33.85813307,\n",
              "        33.8734129 , 33.89429546, 33.92741398, 33.92129289, 33.83786938,\n",
              "        33.03621981, 32.57919656, 32.95991025, 32.84504472, 32.8094869 ],\n",
              "       [35.31198378, 35.06589766, 35.08781536, 35.05766634, 35.04295306,\n",
              "        35.17445051, 35.17427683, 35.00325534, 34.98236413, 34.87459072,\n",
              "        34.6867001 , 34.37237729, 34.23984962, 34.18355825, 34.10945566,\n",
              "        34.06150965, 34.02041851, 33.92327046, 33.91082434, 33.91345841,\n",
              "        33.94269574, 33.99000811, 34.0518674 , 34.02765699, 33.77738592,\n",
              "        32.67389044, 32.36693542, 32.62266013, 32.73942064, 32.779156  ],\n",
              "       [35.38304312, 35.17790304, 35.20305311, 35.204092  , 35.16848551,\n",
              "        35.14010773, 35.20996484, 35.19285468, 35.0294917 , 34.9311353 ,\n",
              "        34.81591552, 34.51919068, 34.55906691, 34.27700266, 34.16852928,\n",
              "        34.11058615, 34.08650437, 33.96617684, 33.94273101, 33.92493353,\n",
              "        33.92789598, 33.97235277, 34.01664099, 33.86763999, 33.20156292,\n",
              "        32.38334869, 32.36514551, 32.52306393, 32.66538915, 32.7537417 ],\n",
              "       [35.45477857, 35.45997399, 35.29785424, 35.31653743, 35.31686287,\n",
              "        35.2728295 , 35.38517418, 35.25010016, 35.14315543, 34.99420573,\n",
              "        34.86703996, 34.72895745, 34.43915883, 34.46413298, 34.37517853,\n",
              "        34.14087226, 34.10888038, 34.07734105, 33.98308162, 33.91610851,\n",
              "        33.85661226, 33.8408624 , 33.85353406, 33.59974212, 33.08091207,\n",
              "        32.61221912, 32.51806619, 32.61383859, 32.70902504, 32.77648436],\n",
              "       [35.53439807, 35.66214976, 35.39308559, 35.41999938, 35.43042822,\n",
              "        35.37023586, 35.36938442, 35.42262097, 35.25936032, 35.1253902 ,\n",
              "        34.86731705, 34.77999187, 34.61443246, 34.34135773, 34.34779979,\n",
              "        34.28563101, 34.22543739, 34.17480782, 34.06755948, 33.93828572,\n",
              "        33.85200644, 33.80236364, 33.77165711, 33.49246462, 33.13943026,\n",
              "        32.84631198, 32.73011642, 32.77750806, 32.81373688, 32.8520004 ],\n",
              "       [35.39811588, 35.61056437, 35.75081884, 35.50881553, 35.54569322,\n",
              "        35.47493134, 35.47082685, 35.51686375, 35.47419782, 35.32393171,\n",
              "        35.08353773, 34.81698086, 34.650348  , 34.45209492, 34.22082484,\n",
              "        34.26079487, 34.27718026, 34.26334313, 34.13074343, 33.97732814,\n",
              "        33.89530098, 33.80596676, 33.6741367 , 33.44179435, 33.23523714,\n",
              "        33.01936675, 32.88389088, 32.89024324, 32.93889302, 32.96020542],\n",
              "       [35.4342443 , 35.43695853, 35.59945537, 35.58410318, 35.60847834,\n",
              "        35.58977463, 35.57326414, 35.59630068, 35.50000176, 35.48280105,\n",
              "        35.29305545, 35.12524574, 34.69029149, 34.42813139, 34.19479403,\n",
              "        34.1497223 , 34.32127243, 34.44566858, 34.27468776, 34.11973858,\n",
              "        34.00657472, 33.89038589, 33.76982248, 33.62651697, 33.45236268,\n",
              "        33.25521918, 33.0465721 , 33.11656327, 33.18006717, 33.21459377],\n",
              "       [35.47078276, 35.48777069, 35.50441425, 35.67666883, 35.70489638,\n",
              "        35.72858987, 35.71372902, 35.68466973, 35.66009508, 35.53665622,\n",
              "        35.48706429, 35.34923384, 34.85708694, 34.51472815, 34.08443476,\n",
              "        34.04308797, 34.2754762 , 34.40275299, 34.33539983, 34.29173893,\n",
              "        34.21557154, 34.0879121 , 34.01978579, 33.92952948, 33.7990457 ,\n",
              "        33.66210113, 33.56485508, 33.54484758, 33.54025014, 33.52280328],\n",
              "       [35.47713814, 35.66322227, 35.71769146, 35.76876407, 35.76890772,\n",
              "        35.84910622, 35.86847675, 35.87398745, 35.82115253, 35.7390637 ,\n",
              "        35.63678745, 35.56503879, 35.15342875, 34.88075861, 34.49588266,\n",
              "        34.32476339, 34.28033994, 34.24101804, 34.32029482, 34.45808544,\n",
              "        34.51565235, 34.49353362, 34.43731567, 34.33699322, 34.19486329,\n",
              "        34.10380327, 34.09847691, 34.08869443, 34.02005366, 34.05280966],\n",
              "       [35.50240985, 35.55337178, 35.7729352 , 35.84748812, 35.91483399,\n",
              "        35.91207118, 35.95791159, 36.03579309, 36.00637351, 35.94464899,\n",
              "        35.88137763, 35.77654182, 35.67604597, 35.43413875, 35.29482924,\n",
              "        34.95327485, 34.42191933, 34.05192921, 34.34398974, 34.71062717,\n",
              "        34.90527625, 34.95562482, 34.93764842, 34.77684991, 34.54845518,\n",
              "        34.4500387 , 34.5491235 , 34.57695587, 34.50667497, 34.48504067],\n",
              "       [35.87236533, 35.58268931, 35.69225543, 35.91210471, 36.00817894,\n",
              "        36.02998351, 36.11616584, 36.1431184 , 36.1630583 , 36.11948062,\n",
              "        36.06316445, 36.08133662, 36.02344323, 35.79384641, 35.52010127,\n",
              "        35.09414257, 34.60142108, 34.34993819, 34.56108165, 34.94837135,\n",
              "        35.25808055, 35.44926829, 35.49925877, 35.23824855, 34.89570187,\n",
              "        34.73868297, 34.77840229, 34.8268915 , 34.83159221, 34.80942207],\n",
              "       [35.79794839, 35.87565683, 35.97695693, 35.84939729, 36.08360802,\n",
              "        36.19409422, 36.23786022, 36.29509857, 36.26339916, 36.17830725,\n",
              "        36.09898123, 36.10289853, 36.1626796 , 35.85268793, 35.35119188,\n",
              "        34.89939623, 34.59019201, 34.56212973, 34.80047284, 35.20126345,\n",
              "        35.54886292, 35.78980474, 35.96991953, 35.53498631, 35.12474667,\n",
              "        34.92577307, 34.91041687, 34.98699638, 35.05382567, 35.11630848],\n",
              "       [35.79342444, 35.86786546, 35.98218308, 36.12354183, 36.20991568,\n",
              "        36.42269201, 36.35127175, 36.40212701, 36.3748429 , 36.17270137,\n",
              "        35.94352549, 35.82717012, 35.74960885, 35.5908857 , 35.07283293,\n",
              "        34.51523032, 34.22336347, 34.40223474, 34.83776371, 35.39755018,\n",
              "        35.72398294, 35.88811665, 35.77675029, 35.39999474, 35.10336767,\n",
              "        34.93721902, 34.9808556 , 35.17600334, 35.34682173, 35.46293844],\n",
              "       [35.63969116, 35.71694569, 35.84689316, 36.03001273, 36.22344003,\n",
              "        36.35299151, 36.4420866 , 36.51071965, 36.49453193, 36.2932481 ,\n",
              "        35.69650061, 35.25555071, 35.2939438 , 35.367723  , 34.9750674 ,\n",
              "        34.1123362 , 33.74221174, 34.1631646 , 34.64476165, 35.25981166,\n",
              "        35.85598014, 35.9939756 , 35.69476808, 35.28838969, 35.00979348,\n",
              "        34.88798274, 35.10236319, 35.46311405, 35.71123587, 35.85306837],\n",
              "       [35.48149403, 35.5387553 , 35.66548895, 35.90336568, 36.16920141,\n",
              "        36.36692908, 36.41783468, 36.30355319, 36.15732556, 36.29153361,\n",
              "        34.78606092, 34.03760948, 34.65788243, 35.61541828, 35.26991921,\n",
              "        34.43746857, 34.08071261, 34.1031031 , 34.33079139, 34.85802895,\n",
              "        35.77039499, 35.9820638 , 35.61039205, 35.18990613, 34.93965475,\n",
              "        35.09949059, 35.57135053, 35.99886621, 36.20238918, 36.30485969],\n",
              "       [35.22476732, 35.23515289, 35.38854983, 35.71852217, 36.10487361,\n",
              "        36.3946772 , 36.39498977, 35.86395412, 34.96392034, 33.96537484,\n",
              "        32.90757404, 32.54662547, 33.98244192, 35.34464149, 35.42271797,\n",
              "        34.9405801 , 34.49053311, 34.17389131, 34.10932363, 34.07289556,\n",
              "        35.01690564, 35.59675128, 35.50980079, 35.10398378, 34.72384796,\n",
              "        35.33606376, 36.33989963, 36.72414167, 36.81967285, 36.78325591],\n",
              "       [35.03770324, 34.91853245, 34.98817996, 35.41728802, 36.00858758,\n",
              "        36.45609693, 36.58691382, 35.4509273 , 33.70115832, 32.02506418,\n",
              "        31.16315243, 32.40219812, 34.08622364, 35.15722896, 35.48303837,\n",
              "        35.34813356, 34.88118181, 34.50588994, 34.38423055, 34.50076334,\n",
              "        35.21879754, 35.74641468, 35.72405784, 35.46080452, 35.21952169,\n",
              "        36.00829499, 37.20650296, 37.39732574, 37.37908508, 37.27287758],\n",
              "       [34.98352739, 34.68810401, 34.4407851 , 35.12451831, 35.976299  ,\n",
              "        36.50645736, 36.23556358, 35.02705866, 33.15905539, 31.01659939,\n",
              "        32.31604253, 34.55633743, 35.15381703, 35.52234103, 35.7258231 ,\n",
              "        35.61603782, 35.26740504, 34.90120583, 34.88986369, 35.30418655,\n",
              "        36.08963832, 36.20697272, 36.11641941, 36.18236866, 36.46999693,\n",
              "        36.99421896, 37.51998274, 37.78111765, 37.84866823, 37.85475098],\n",
              "       [35.20326855, 34.95386758, 34.81986469, 35.38103422, 36.11670262,\n",
              "        36.58095733, 36.26519512, 35.13422641, 33.87790053, 33.32809679,\n",
              "        34.6878181 , 36.24129026, 35.92010579, 35.60723673, 35.58885592,\n",
              "        35.14986992, 35.0412734 , 34.69652946, 34.84374756, 35.3825051 ,\n",
              "        36.07014542, 36.1766345 , 36.22140881, 36.69630624, 37.39575431,\n",
              "        37.7823064 , 37.95633975, 38.08981536, 38.14802739, 38.15386598],\n",
              "       [35.67308864, 35.59860935, 35.68069045, 36.03155445, 36.42933758,\n",
              "        36.54166603, 36.17377716, 35.4945209 , 34.86409598, 34.86940999,\n",
              "        35.74493078, 36.34440688, 35.74512484, 34.80406037, 34.1331808 ,\n",
              "        33.48050842, 33.14297543, 33.50529891, 34.24525882, 34.87511543,\n",
              "        35.38911412, 35.70720273, 36.01855535, 36.80591834, 37.58685512,\n",
              "        38.03373669, 38.21002895, 38.31879199, 38.35115984, 38.36058922],\n",
              "       [36.12598666, 36.17836522, 36.32967238, 36.60317852, 36.79006737,\n",
              "        36.54339073, 36.16115197, 35.83161114, 35.72926002, 35.87895721,\n",
              "        36.4084747 , 36.75817265, 35.19402734, 33.52590612, 32.89405601,\n",
              "        31.98103032, 30.97563414, 32.34143881, 33.38251721, 34.149464  ,\n",
              "        34.8018402 , 35.41648379, 36.04063511, 36.8021207 , 37.5219553 ,\n",
              "        38.02182642, 38.31234042, 38.48266755, 38.52796325, 38.55455458],\n",
              "       [36.42441228, 36.58541451, 36.77624614, 36.91906918, 36.83991979,\n",
              "        36.51359325, 36.12664842, 35.90861834, 36.07591109, 36.43013481,\n",
              "        36.66392258, 36.31442318, 34.92102102, 33.2393952 , 33.26111385,\n",
              "        32.64725884, 32.00811368, 32.36411909, 33.01196764, 33.73266287,\n",
              "        34.44805535, 35.14063287, 35.93712868, 36.75171983, 37.52534689,\n",
              "        38.02345248, 38.36961464, 38.53747477, 38.62554066, 38.63346453],\n",
              "       [36.61437149, 36.80820884, 37.03690029, 37.19461206, 36.8849826 ,\n",
              "        36.4317024 , 36.07526521, 36.01537645, 36.42521261, 36.87539471,\n",
              "        37.05410104, 36.68482293, 35.6923589 , 35.23418655, 35.48540011,\n",
              "        34.49729179, 33.47442745, 32.98029682, 33.11497975, 33.64566665,\n",
              "        34.26341642, 34.9786896 , 35.82722216, 36.73619115, 37.51791591,\n",
              "        38.06497081, 38.38985736, 38.57417813, 38.63011318, 38.64967392],\n",
              "       [36.71283124, 36.86164033, 37.04635207, 37.10263929, 36.68963486,\n",
              "        36.20250867, 35.98187574, 36.21610122, 36.75867741, 37.35984481,\n",
              "        37.50917101, 36.79844829, 35.9116941 , 35.85023286, 36.50439121,\n",
              "        35.6394966 , 34.46570215, 33.65125705, 33.22949662, 33.78325852,\n",
              "        34.24012417, 34.75945684, 35.72330278, 36.82293873, 37.67102144,\n",
              "        38.18635724, 38.49286277, 38.63051769, 38.69331155, 38.67139576],\n",
              "       [36.74754403, 36.81839467, 36.8299972 , 36.69049646, 36.32416965,\n",
              "        35.84555764, 35.79402487, 36.29166239, 36.92770672, 37.52656938,\n",
              "        37.63890031, 36.6777644 , 35.34962108, 35.23484751, 35.83047928,\n",
              "        35.6446789 , 35.05790776, 34.47056089, 34.28312727, 34.7908185 ,\n",
              "        34.51780218, 34.28857857, 35.70909267, 37.24600401, 38.04975455,\n",
              "        38.40435153, 38.62254199, 38.72366423, 38.77915789, 38.6793741 ],\n",
              "       [36.71112629, 36.72194967, 36.6608244 , 36.48379043, 36.18522831,\n",
              "        35.79568925, 35.85889788, 36.39796602, 36.97901149, 37.42105134,\n",
              "        37.51196258, 36.84177916, 35.98379976, 35.74749213, 35.92121728,\n",
              "        35.8259332 , 35.53808104, 35.17060623, 35.13438268, 35.63977558,\n",
              "        34.89651592, 34.509174  , 36.19900601, 38.28015629, 38.46739644,\n",
              "        38.54855377, 38.62622709, 38.69025764, 38.73689164, 38.74821142],\n",
              "       [36.68155963, 36.66862196, 36.60121419, 36.4900613 , 36.28309647,\n",
              "        36.1826943 , 36.28536441, 36.64063638, 37.08188313, 37.41413302,\n",
              "        37.49597738, 37.24952575, 36.85949981, 36.61072622, 36.54611091,\n",
              "        36.26982955, 35.87021509, 35.26765056, 34.81292609, 34.71963809,\n",
              "        34.76032798, 35.21086334, 36.42376845, 37.73712419, 38.24580259,\n",
              "        38.40152089, 38.50125763, 38.5795685 , 38.59322799, 38.64541521],\n",
              "       [36.6746536 , 36.66473629, 36.61521548, 36.54649091, 36.50887438,\n",
              "        36.50869613, 36.64323077, 36.89776654, 37.18567775, 37.48989696,\n",
              "        37.66378801, 37.71468914, 37.50157039, 37.28861365, 37.15675207,\n",
              "        36.96655522, 36.27192677, 35.0967035 , 33.97186372, 33.7467416 ,\n",
              "        34.31652696, 35.14185262, 36.14055616, 37.07629667, 37.69696734,\n",
              "        38.03639664, 38.23137115, 38.37995916, 38.4808519 , 38.47806681],\n",
              "       [36.6875537 , 36.69740122, 36.72312333, 36.70570748, 36.7086481 ,\n",
              "        36.80770012, 36.90740975, 37.01393941, 37.31302345, 37.54099957,\n",
              "        37.75318895, 37.8772529 , 37.78436682, 37.64406053, 37.57665743,\n",
              "        37.56570795, 36.81882772, 35.10304378, 33.38094935, 33.17727407,\n",
              "        34.08838019, 34.99149599, 35.86107715, 36.64462234, 37.25313754,\n",
              "        37.64219689, 37.91634618, 38.1002287 , 38.22566497, 38.30046357]])"
            ]
          },
          "metadata": {},
          "execution_count": 27
        }
      ],
      "source": [
        "kriging_result"
      ]
    },
    {
      "cell_type": "code",
      "execution_count": null,
      "id": "83274786",
      "metadata": {
        "colab": {
          "base_uri": "https://localhost:8080/"
        },
        "id": "83274786",
        "outputId": "c56a72f1-ff06-4d76-926d-c92e5043e16a"
      },
      "outputs": [
        {
          "output_type": "execute_result",
          "data": {
            "text/plain": [
              "array([[5.58620825e+00, 5.39318025e+00, 5.19534342e+00, 4.95599293e+00,\n",
              "        4.77076395e+00, 4.56756583e+00, 4.32981393e+00, 4.10264968e+00,\n",
              "        4.00218906e+00, 3.77006395e+00, 3.53615453e+00, 3.30512710e+00,\n",
              "        3.07825316e+00, 2.89294536e+00, 2.66207048e+00, 2.43611504e+00,\n",
              "        2.22387424e+00, 1.99807640e+00, 1.77457663e+00, 1.55235342e+00,\n",
              "        1.32992420e+00, 1.10322748e+00, 8.67938507e-01, 6.07223039e-01,\n",
              "        3.18737015e-01, 3.90905722e-02, 3.04055399e-01, 4.04545134e-01,\n",
              "        6.61467411e-01, 1.00452068e+00],\n",
              "       [5.32661467e+00, 5.12656160e+00, 4.92313800e+00, 4.72227752e+00,\n",
              "        4.49481797e+00, 4.28767622e+00, 4.07968530e+00, 3.84496724e+00,\n",
              "        3.74794017e+00, 3.48819638e+00, 3.25624720e+00, 3.02255547e+00,\n",
              "        2.79459717e+00, 2.57209486e+00, 2.37771525e+00, 2.15506008e+00,\n",
              "        1.94545047e+00, 1.72411512e+00, 1.50553966e+00, 1.29001751e+00,\n",
              "        1.07915533e+00, 8.70633821e-01, 6.57961560e-01, 4.26687979e-01,\n",
              "        1.87252657e-01, 1.27905174e-01, 1.98530581e-01, 7.20751605e-02,\n",
              "        4.79730714e-01, 8.43535965e-01],\n",
              "       [5.07586765e+00, 4.85634320e+00, 4.65155212e+00, 4.44257743e+00,\n",
              "        4.23702521e+00, 4.03795958e+00, 3.79687294e+00, 3.58495718e+00,\n",
              "        3.35343830e+00, 3.24152496e+00, 2.98112246e+00, 2.73642962e+00,\n",
              "        2.51148410e+00, 2.28998758e+00, 2.09572703e+00, 1.87827398e+00,\n",
              "        1.66607642e+00, 1.45877435e+00, 1.24409318e+00, 1.03146876e+00,\n",
              "        8.30076774e-01, 6.44336155e-01, 4.52677147e-01, 2.87254752e-01,\n",
              "        1.20639053e-01, 1.69781808e-01, 2.52962107e-01, 3.56930286e-01,\n",
              "        5.34705244e-01, 7.89514921e-01],\n",
              "       [4.79880998e+00, 4.63935526e+00, 4.42974011e+00, 4.16633046e+00,\n",
              "        3.95389540e+00, 3.74538494e+00, 3.53836884e+00, 3.30212425e+00,\n",
              "        3.08939969e+00, 2.95500086e+00, 2.71052601e+00, 2.47396575e+00,\n",
              "        2.23336172e+00, 2.00471242e+00, 1.79654431e+00, 1.60345221e+00,\n",
              "        1.40005897e+00, 1.20109133e+00, 9.92126350e-01, 7.74093013e-01,\n",
              "        5.61881812e-01, 4.19030504e-01, 2.55689585e-01, 1.12191569e-01,\n",
              "        2.29510610e-01, 8.39798863e-02, 3.17503908e-01, 4.27026596e-01,\n",
              "        5.44584099e-01, 7.27386144e-01],\n",
              "       [4.51882764e+00, 4.31234719e+00, 4.13906692e+00, 3.92810530e+00,\n",
              "        3.67607861e+00, 3.46206484e+00, 3.25289477e+00, 3.03969017e+00,\n",
              "        2.82310751e+00, 2.58998716e+00, 2.43650921e+00, 2.19356356e+00,\n",
              "        1.95023613e+00, 1.72361929e+00, 1.51751540e+00, 1.32778585e+00,\n",
              "        1.13737113e+00, 9.49214809e-01, 7.57951384e-01, 5.50915090e-01,\n",
              "        2.82163504e-01, 1.70837032e-01, 2.26221767e-01, 2.66625069e-01,\n",
              "        3.22286673e-01, 2.99688559e-01, 3.33044501e-01, 2.93182736e-01,\n",
              "        3.96194178e-01, 5.83008464e-01],\n",
              "       [4.26137297e+00, 4.05156050e+00, 3.84838657e+00, 3.63580764e+00,\n",
              "        3.42573243e+00, 3.21422308e+00, 2.97187970e+00, 2.75859537e+00,\n",
              "        2.54382123e+00, 2.32359250e+00, 2.15138280e+00, 1.90280396e+00,\n",
              "        1.66303491e+00, 1.43372404e+00, 1.23039395e+00, 1.04583225e+00,\n",
              "        8.72918686e-01, 7.01266350e-01, 5.25333598e-01, 3.90141582e-01,\n",
              "        3.01070565e-01, 2.47130115e-01, 1.09285506e-01, 2.41519463e-01,\n",
              "        3.68215316e-01, 4.07910995e-01, 3.45226644e-01, 1.39200425e-01,\n",
              "        2.53533666e-01, 3.67916708e-01],\n",
              "       [3.98003963e+00, 3.75653987e+00, 3.54833806e+00, 3.36554032e+00,\n",
              "        3.13574885e+00, 2.92866367e+00, 2.71859376e+00, 2.49029398e+00,\n",
              "        2.27368427e+00, 2.05467496e+00, 1.82942462e+00, 1.62408274e+00,\n",
              "        1.37338499e+00, 1.13678291e+00, 9.32246922e-01, 7.60069169e-01,\n",
              "        5.97640539e-01, 4.53374869e-01, 2.84688713e-01, 1.38227554e-01,\n",
              "        3.35255684e-01, 3.57860722e-01, 2.68505847e-01, 2.22667049e-02,\n",
              "        3.24562707e-01, 3.80286409e-01, 3.09664642e-01, 3.04629637e-01,\n",
              "        2.78277481e-01, 4.68403040e-04],\n",
              "       [3.68547684e+00, 3.47213977e+00, 3.25657022e+00, 3.06926947e+00,\n",
              "        2.86202498e+00, 2.64511673e+00, 2.44204692e+00, 2.23772803e+00,\n",
              "        2.02873291e+00, 1.80033577e+00, 1.57808865e+00, 1.36180302e+00,\n",
              "        1.10595256e+00, 8.40631379e-01, 6.16785895e-01, 4.87620229e-01,\n",
              "        3.29918265e-01, 1.75721120e-01, 2.81158034e-01, 2.93846457e-01,\n",
              "        3.49286669e-01, 3.02018422e-01, 2.96545865e-01, 3.03436453e-01,\n",
              "        3.66130588e-01, 3.31727016e-01, 5.16839564e-02, 2.94945295e-01,\n",
              "        3.93350641e-01, 4.06917125e-01],\n",
              "       [3.38860524e+00, 3.17365162e+00, 2.96727083e+00, 2.75954294e+00,\n",
              "        2.57174516e+00, 2.37299434e+00, 2.16838079e+00, 1.97041235e+00,\n",
              "        1.76960451e+00, 1.56541287e+00, 1.34815000e+00, 1.13750567e+00,\n",
              "        8.83045506e-01, 5.87990461e-01, 2.67509076e-01, 2.61685689e-01,\n",
              "        2.95574521e-01, 2.53071025e-01, 3.68947705e-01, 4.10370691e-01,\n",
              "        3.55689925e-01, 1.23735417e-01, 2.24821665e-01, 2.59329361e-01,\n",
              "        3.43924388e-01, 3.81494744e-01, 3.41220276e-01, 4.06376052e-01,\n",
              "        5.22256738e-01, 6.44558975e-01],\n",
              "       [3.09619417e+00, 2.87560695e+00, 2.66901783e+00, 2.47262092e+00,\n",
              "        2.28564344e+00, 2.09284352e+00, 1.90241537e+00, 1.71073734e+00,\n",
              "        1.51521510e+00, 1.32484105e+00, 1.13427757e+00, 9.45626898e-01,\n",
              "        7.27252932e-01, 4.84150211e-01, 2.38914756e-01, 2.53803201e-01,\n",
              "        3.43130564e-01, 3.45768021e-01, 3.76665659e-01, 3.66234666e-01,\n",
              "        3.55663722e-01, 3.41726777e-01, 3.02495613e-01, 1.20618915e-01,\n",
              "        2.78467425e-01, 3.66630232e-01, 3.53107002e-01, 3.85539356e-01,\n",
              "        5.56995216e-01, 7.62694371e-01],\n",
              "       [2.79083130e+00, 2.57088613e+00, 2.36427273e+00, 2.17441099e+00,\n",
              "        1.99465721e+00, 1.82163690e+00, 1.63874880e+00, 1.44784406e+00,\n",
              "        1.25997247e+00, 1.08034782e+00, 9.10932910e-01, 7.42173418e-01,\n",
              "        5.80013985e-01, 4.24322119e-01, 2.05435696e-01, 1.94756964e-01,\n",
              "        2.81025370e-01, 1.20693978e-01, 2.69031359e-01, 1.53273164e-01,\n",
              "        2.42057579e-01, 3.88740053e-01, 3.86733524e-01, 3.25218902e-01,\n",
              "        2.22416441e-01, 2.33682511e-01, 1.95422840e-01, 1.93494102e-01,\n",
              "        5.44992900e-01, 8.30469256e-01],\n",
              "       [2.51771607e+00, 2.25907157e+00, 2.05667040e+00, 1.87338678e+00,\n",
              "        1.70803845e+00, 1.54986400e+00, 1.37817287e+00, 1.19115769e+00,\n",
              "        9.93961439e-01, 8.14812694e-01, 6.72754995e-01, 5.25071150e-01,\n",
              "        3.51944472e-01, 3.28288793e-01, 3.01700995e-01, 2.86134318e-01,\n",
              "        2.44270769e-01, 2.00271916e-01, 3.02879635e-01, 2.97729101e-01,\n",
              "        3.33013850e-01, 3.66967323e-01, 3.02050283e-01, 3.16060109e-01,\n",
              "        2.53217326e-01, 2.71044522e-01, 3.42129216e-01, 4.15610340e-01,\n",
              "        6.48988357e-01, 9.17283901e-01],\n",
              "       [2.19689325e+00, 1.96326646e+00, 1.75796710e+00, 1.56635584e+00,\n",
              "        1.42086244e+00, 1.28680627e+00, 1.13782874e+00, 9.52949996e-01,\n",
              "        7.29673571e-01, 5.11407374e-01, 4.24636810e-01, 3.69675006e-01,\n",
              "        1.35407479e-01, 2.68521908e-01, 3.97916157e-01, 3.75179962e-01,\n",
              "        2.21858898e-01, 2.15986925e-01, 3.21264916e-01, 3.25630296e-01,\n",
              "        3.78588944e-01, 3.37668331e-01, 9.20174864e-02, 2.60366673e-01,\n",
              "        3.66117159e-01, 4.14416104e-01, 4.74836333e-01, 5.86662034e-01,\n",
              "        7.73202679e-01, 1.00790831e+00],\n",
              "       [1.89054796e+00, 1.63995030e+00, 1.42309050e+00, 1.25562843e+00,\n",
              "        1.13607608e+00, 1.04442030e+00, 9.28461023e-01, 7.65454424e-01,\n",
              "        5.31293095e-01, 2.11170012e-01, 2.02441052e-01, 3.69644802e-01,\n",
              "        3.74926744e-01, 4.03078939e-01, 4.25586733e-01, 3.59504053e-01,\n",
              "        3.13277273e-01, 3.42322995e-01, 2.69192842e-01, 7.97016469e-02,\n",
              "        3.30981583e-01, 3.67473470e-01, 2.67888012e-01, 1.40493759e-01,\n",
              "        3.18133241e-01, 3.48789461e-01, 4.08238813e-01, 5.97485124e-01,\n",
              "        8.20844759e-01, 1.06080660e+00],\n",
              "       [1.58792713e+00, 1.31460936e+00, 1.07063996e+00, 8.94183510e-01,\n",
              "        8.19359756e-01, 7.98209340e-01, 7.50365701e-01, 6.32529578e-01,\n",
              "        4.38097183e-01, 2.55428983e-01, 2.90157016e-01, 3.86870878e-01,\n",
              "        4.11219197e-01, 3.98420501e-01, 3.76112274e-01, 2.11798278e-01,\n",
              "        1.76915166e-01, 3.67617763e-01, 3.61812353e-01, 2.96398262e-01,\n",
              "        2.80767542e-01, 3.18013867e-01, 3.26522083e-01, 2.60042020e-01,\n",
              "        3.15240561e-01, 1.74424465e-01, 2.28735574e-01, 5.48079091e-01,\n",
              "        8.14154993e-01, 1.07183599e+00],\n",
              "       [1.31803776e+00, 1.02469867e+00, 7.34711567e-01, 4.97303892e-01,\n",
              "        4.79352750e-01, 5.67462010e-01, 5.82554138e-01, 5.22095013e-01,\n",
              "        3.61486318e-01, 4.10763667e-02, 2.57754151e-01, 2.61986541e-01,\n",
              "        2.81931080e-01, 1.69544593e-01, 3.00877853e-01, 3.28299971e-01,\n",
              "        3.20269288e-01, 3.74029798e-01, 3.85386478e-01, 3.21609342e-01,\n",
              "        1.55698597e-01, 2.29936776e-01, 3.81355880e-01, 4.01466466e-01,\n",
              "        3.68939437e-01, 3.14594558e-01, 3.49855623e-01, 5.38685629e-01,\n",
              "        7.82996757e-01, 1.04896126e+00],\n",
              "       [1.09136552e+00, 8.04584069e-01, 5.12041628e-01, 1.64902375e-01,\n",
              "        2.32532172e-01, 3.93585106e-01, 3.87639205e-01, 3.98299095e-01,\n",
              "        3.87536252e-01, 3.16677236e-01, 2.72024267e-01, 1.29764996e-01,\n",
              "        2.53428211e-01, 2.45073952e-01, 3.51394436e-01, 4.07743880e-01,\n",
              "        3.26084120e-01, 2.14569677e-01, 2.81888162e-01, 1.43256400e-01,\n",
              "        2.39694878e-01, 2.73919134e-01, 3.49026769e-01, 3.68313071e-01,\n",
              "        2.36477974e-01, 2.52778927e-01, 2.65279579e-01, 4.47786745e-01,\n",
              "        7.17915187e-01, 9.98290301e-01],\n",
              "       [8.92171952e-01, 6.29728801e-01, 4.18410163e-01, 3.11234442e-01,\n",
              "        2.97203531e-01, 2.83056337e-01, 1.17323929e-01, 2.53989394e-01,\n",
              "        3.63474893e-01, 3.00464100e-01, 1.63417417e-01, 2.28493604e-01,\n",
              "        3.63218646e-01, 4.10790187e-01, 4.24225454e-01, 4.15597442e-01,\n",
              "        3.17603637e-01, 1.95991632e-01, 2.95809958e-01, 2.47641188e-01,\n",
              "        2.56062334e-01, 9.92892326e-02, 2.61710193e-01, 3.48443905e-01,\n",
              "        2.19630933e-01, 2.27995914e-01, 1.27105508e-01, 3.47773036e-01,\n",
              "        6.23182358e-01, 9.40547354e-01],\n",
              "       [7.06786885e-01, 4.49015954e-01, 1.79821975e-01, 2.76195211e-01,\n",
              "        2.51294851e-01, 8.43113958e-02, 2.43240420e-01, 3.23854957e-01,\n",
              "        3.22700401e-01, 9.52765206e-02, 1.68039878e-01, 1.91861902e-01,\n",
              "        3.65148810e-01, 3.92017543e-01, 3.05960055e-01, 3.13769592e-01,\n",
              "        2.86998210e-01, 3.26015626e-01, 3.77057000e-01, 3.30182677e-01,\n",
              "        1.73416530e-01, 2.41793410e-01, 3.37981093e-01, 3.81350156e-01,\n",
              "        3.40715404e-01, 3.24989009e-01, 2.79892340e-01, 2.37086066e-01,\n",
              "        5.10325468e-01, 8.83257323e-01],\n",
              "       [5.26078152e-01, 3.83491598e-01, 2.48658289e-01, 3.01271059e-01,\n",
              "        2.69743872e-01, 1.60765684e-01, 1.71253660e-01, 3.38668318e-01,\n",
              "        2.75496059e-01, 2.17985958e-01, 2.43653571e-01, 2.16787968e-01,\n",
              "        3.60549734e-01, 3.52878107e-01, 1.31930034e-01, 2.17913804e-01,\n",
              "        7.29689437e-02, 2.69349752e-01, 3.25344984e-01, 3.17221032e-01,\n",
              "        2.31108746e-01, 2.54099543e-01, 2.64803473e-01, 3.19442644e-01,\n",
              "        1.78674931e-01, 2.40359600e-01, 2.91418808e-01, 1.94930818e-01,\n",
              "        5.21467912e-01, 9.15354143e-01],\n",
              "       [2.52884330e-01, 3.43163655e-01, 3.89844844e-01, 3.35546454e-01,\n",
              "        2.04396928e-01, 1.53844543e-01, 3.09099304e-01, 3.69401494e-01,\n",
              "        2.46879421e-01, 2.09049310e-01, 3.08889305e-01, 2.72615435e-01,\n",
              "        3.39407233e-01, 3.74605083e-01, 3.45590573e-01, 3.14780620e-01,\n",
              "        2.75107074e-01, 2.80599701e-01, 8.73354166e-02, 2.75762471e-01,\n",
              "        3.73059465e-01, 2.88341167e-01, 1.34412756e-01, 3.03985566e-01,\n",
              "        2.72654203e-01, 3.30376806e-01, 4.47724068e-01, 5.39378203e-01,\n",
              "        7.49395580e-01, 1.06377890e+00],\n",
              "       [2.01487685e-01, 3.56204550e-01, 4.16577807e-01, 2.79906210e-01,\n",
              "        8.68491796e-02, 3.14795815e-01, 3.89817090e-01, 3.97855737e-01,\n",
              "        3.92015939e-01, 3.89794623e-01, 3.30403700e-01, 8.76463698e-02,\n",
              "        2.39686414e-01, 2.51817236e-01, 3.33367610e-01, 2.75587578e-01,\n",
              "        8.53405123e-02, 3.07397530e-01, 3.27788669e-01, 3.96821795e-01,\n",
              "        4.56246348e-01, 4.23209662e-01, 3.75254123e-01, 3.44895610e-01,\n",
              "        3.03314433e-01, 4.14665802e-01, 5.89028831e-01, 7.65578029e-01,\n",
              "        9.81226974e-01, 1.25642919e+00],\n",
              "       [5.59437289e-01, 5.04972324e-01, 4.48421310e-01, 3.49046275e-01,\n",
              "        3.22988794e-01, 3.80300536e-01, 3.29437786e-01, 2.30619929e-01,\n",
              "        3.72755085e-01, 4.36175002e-01, 3.77333343e-01, 2.92875675e-01,\n",
              "        2.64091752e-01, 1.40500120e-01, 2.97128726e-01, 3.30610636e-01,\n",
              "        3.18197352e-01, 4.08595524e-01, 4.63511460e-01, 4.85466782e-01,\n",
              "        4.65690919e-01, 4.13444106e-01, 3.95642860e-01, 3.05445079e-01,\n",
              "        3.94764572e-02, 4.08398573e-01, 6.88249829e-01, 9.28076556e-01,\n",
              "        1.17312888e+00, 1.44747551e+00],\n",
              "       [8.08121573e-01, 6.28493192e-01, 4.20073576e-01, 2.14463135e-01,\n",
              "        3.17432545e-01, 3.72465692e-01, 2.83743116e-01, 1.86619147e-01,\n",
              "        3.57305808e-01, 4.04698554e-01, 3.01660423e-01, 1.11148640e-01,\n",
              "        2.91080128e-01, 2.94270032e-01, 2.06340338e-01, 3.25698451e-01,\n",
              "        4.25308300e-01, 4.38721165e-01, 4.24781117e-01, 4.37194782e-01,\n",
              "        3.69156952e-01, 1.70881382e-01, 3.07355134e-01, 3.87614729e-01,\n",
              "        4.02347223e-01, 5.69067198e-01, 8.16508863e-01, 1.07234165e+00,\n",
              "        1.33588713e+00, 1.61708357e+00],\n",
              "       [1.02166125e+00, 7.73178327e-01, 4.90429803e-01, 2.28210774e-01,\n",
              "        3.11871961e-01, 3.00606916e-01, 1.44487915e-01, 3.10885698e-01,\n",
              "        3.95712926e-01, 3.17575022e-01, 2.04119382e-01, 2.37021780e-01,\n",
              "        2.94707458e-01, 2.88066593e-01, 1.94491704e-01, 3.33196583e-01,\n",
              "        4.21943317e-01, 3.45663366e-01, 1.67025718e-01, 3.13840756e-01,\n",
              "        3.30635863e-01, 2.31092405e-01, 3.30357842e-01, 4.54424062e-01,\n",
              "        5.56694146e-01, 7.19890574e-01, 9.47447888e-01, 1.20757143e+00,\n",
              "        1.48453357e+00, 1.77605461e+00],\n",
              "       [1.25459707e+00, 9.94278350e-01, 7.43705267e-01, 5.48255301e-01,\n",
              "        4.22006480e-01, 2.49096557e-01, 1.87043581e-01, 3.62206013e-01,\n",
              "        4.24695821e-01, 2.92912301e-01, 1.64452434e-01, 2.76181313e-01,\n",
              "        1.73284488e-01, 2.11748624e-01, 3.71446561e-01, 4.15654781e-01,\n",
              "        3.81854518e-01, 3.08036298e-01, 2.11890608e-01, 2.18036237e-01,\n",
              "        2.67625189e-01, 2.02016359e-01, 3.05638647e-01, 3.84614439e-01,\n",
              "        5.37025723e-01, 7.73435599e-01, 1.04417598e+00, 1.33063800e+00,\n",
              "        1.62689838e+00, 1.93199234e+00],\n",
              "       [1.51418836e+00, 1.25764124e+00, 1.01704674e+00, 7.96626673e-01,\n",
              "        5.70648230e-01, 2.92701547e-01, 2.75031115e-01, 4.61195574e-01,\n",
              "        4.93194621e-01, 3.54424268e-01, 3.82347273e-02, 2.74755756e-01,\n",
              "        3.14099949e-01, 3.60682190e-01, 4.53470395e-01, 4.22300662e-01,\n",
              "        2.23857361e-01, 1.99287665e-01, 2.91097665e-01, 1.50658350e-01,\n",
              "        2.52728841e-01, 1.96861384e-01, 2.41487064e-01, 8.74220229e-02,\n",
              "        4.48706182e-01, 8.06472316e-01, 1.13890765e+00, 1.46020884e+00,\n",
              "        1.77652757e+00, 2.09416955e+00],\n",
              "       [1.79387336e+00, 1.54124100e+00, 1.30159987e+00, 1.07294069e+00,\n",
              "        8.52252313e-01, 6.69702473e-01, 6.14384988e-01, 6.44040455e-01,\n",
              "        6.15986317e-01, 4.87507188e-01, 3.43593601e-01, 3.40343537e-01,\n",
              "        4.09842234e-01, 4.81513678e-01, 5.05035582e-01, 4.40833239e-01,\n",
              "        3.11985643e-01, 3.01482005e-01, 3.67817709e-01, 3.79411163e-01,\n",
              "        4.23235995e-01, 4.47914160e-01, 4.18288686e-01, 3.85426983e-01,\n",
              "        6.11118127e-01, 9.49011529e-01, 1.29053070e+00, 1.62393422e+00,\n",
              "        1.94987318e+00, 2.27441813e+00],\n",
              "       [2.08985899e+00, 1.84270819e+00, 1.60864798e+00, 1.38928052e+00,\n",
              "        1.19029140e+00, 1.03558722e+00, 9.39931837e-01, 8.75501863e-01,\n",
              "        7.81866925e-01, 6.24787143e-01, 4.11178426e-01, 1.89390342e-01,\n",
              "        3.31025839e-01, 4.83553116e-01, 4.85342193e-01, 3.79844410e-01,\n",
              "        3.34324361e-01, 3.60028589e-01, 3.12472540e-01, 3.49034760e-01,\n",
              "        5.03792490e-01, 6.20342981e-01, 6.85440851e-01, 7.63265639e-01,\n",
              "        9.40065484e-01, 1.20809995e+00, 1.51615437e+00, 1.83631775e+00,\n",
              "        2.15936837e+00, 2.47940585e+00],\n",
              "       [2.39978872e+00, 2.16013024e+00, 1.92826450e+00, 1.71987452e+00,\n",
              "        1.53402087e+00, 1.37685395e+00, 1.24886209e+00, 1.12854238e+00,\n",
              "        9.86728495e-01, 7.93323618e-01, 5.39426754e-01, 2.92992421e-01,\n",
              "        3.93278256e-01, 5.22332716e-01, 4.74269223e-01, 2.27326716e-01,\n",
              "        1.75574564e-01, 3.35192379e-01, 1.83100121e-01, 2.63134523e-01,\n",
              "        5.77176553e-01, 7.91677038e-01, 9.44640799e-01, 1.09046093e+00,\n",
              "        1.27577804e+00, 1.51509686e+00, 1.79235558e+00, 2.09110046e+00,\n",
              "        2.40046655e+00, 2.71074019e+00]])"
            ]
          },
          "metadata": {},
          "execution_count": 28
        }
      ],
      "source": [
        "kriging_error"
      ]
    },
    {
      "cell_type": "code",
      "source": [
        "pip install rasterio"
      ],
      "metadata": {
        "colab": {
          "base_uri": "https://localhost:8080/"
        },
        "id": "Bge_WBh5izFt",
        "outputId": "ee599c45-3670-4c45-b3cb-71ea16f7e6c1"
      },
      "id": "Bge_WBh5izFt",
      "execution_count": null,
      "outputs": [
        {
          "output_type": "stream",
          "name": "stdout",
          "text": [
            "Looking in indexes: https://pypi.org/simple, https://us-python.pkg.dev/colab-wheels/public/simple/\n",
            "Collecting rasterio\n",
            "  Downloading rasterio-1.3.4-cp38-cp38-manylinux_2_17_x86_64.manylinux2014_x86_64.whl (20.9 MB)\n",
            "\u001b[K     |████████████████████████████████| 20.9 MB 1.1 MB/s \n",
            "\u001b[?25hRequirement already satisfied: click>=4.0 in /usr/local/lib/python3.8/dist-packages (from rasterio) (7.1.2)\n",
            "Requirement already satisfied: certifi in /usr/local/lib/python3.8/dist-packages (from rasterio) (2022.12.7)\n",
            "Requirement already satisfied: cligj>=0.5 in /usr/local/lib/python3.8/dist-packages (from rasterio) (0.7.2)\n",
            "Collecting snuggs>=1.4.1\n",
            "  Downloading snuggs-1.4.7-py3-none-any.whl (5.4 kB)\n",
            "Requirement already satisfied: numpy>=1.18 in /usr/local/lib/python3.8/dist-packages (from rasterio) (1.21.6)\n",
            "Requirement already satisfied: attrs in /usr/local/lib/python3.8/dist-packages (from rasterio) (22.1.0)\n",
            "Collecting affine\n",
            "  Downloading affine-2.3.1-py2.py3-none-any.whl (16 kB)\n",
            "Requirement already satisfied: click-plugins in /usr/local/lib/python3.8/dist-packages (from rasterio) (1.1.1)\n",
            "Requirement already satisfied: setuptools in /usr/local/lib/python3.8/dist-packages (from rasterio) (57.4.0)\n",
            "Requirement already satisfied: pyparsing>=2.1.6 in /usr/local/lib/python3.8/dist-packages (from snuggs>=1.4.1->rasterio) (3.0.9)\n",
            "Installing collected packages: snuggs, affine, rasterio\n",
            "Successfully installed affine-2.3.1 rasterio-1.3.4 snuggs-1.4.7\n"
          ]
        }
      ]
    },
    {
      "cell_type": "code",
      "execution_count": null,
      "id": "af76f0f3",
      "metadata": {
        "id": "af76f0f3"
      },
      "outputs": [],
      "source": [
        "import rasterio\n",
        "from rasterio.plot import show"
      ]
    },
    {
      "cell_type": "code",
      "execution_count": null,
      "id": "969f1111",
      "metadata": {
        "colab": {
          "base_uri": "https://localhost:8080/",
          "height": 283
        },
        "id": "969f1111",
        "outputId": "ece916f2-b138-4957-81c1-1266573a3df6"
      },
      "outputs": [
        {
          "output_type": "display_data",
          "data": {
            "text/plain": [
              "<Figure size 432x288 with 1 Axes>"
            ],
            "image/png": "[encoded data removed]"
          },
          "metadata": {
            "needs_background": "light"
          }
        },
        {
          "output_type": "execute_result",
          "data": {
            "text/plain": [
              "<matplotlib.axes._subplots.AxesSubplot at 0x7ff486d13880>"
            ]
          },
          "metadata": {},
          "execution_count": 33
        }
      ],
      "source": [
        "show(kriging_error)"
      ]
    },
    {
      "cell_type": "code",
      "execution_count": null,
      "id": "b4032f87",
      "metadata": {
        "colab": {
          "base_uri": "https://localhost:8080/",
          "height": 283
        },
        "id": "b4032f87",
        "outputId": "2f55c2be-7ec5-4eea-daab-e7bdcf0a3aa2"
      },
      "outputs": [
        {
          "output_type": "display_data",
          "data": {
            "text/plain": [
              "<Figure size 432x288 with 1 Axes>"
            ],
            "image/png": "[encoded data removed]"
          },
          "metadata": {
            "needs_background": "light"
          }
        },
        {
          "output_type": "execute_result",
          "data": {
            "text/plain": [
              "<matplotlib.axes._subplots.AxesSubplot at 0x7ff486bbf100>"
            ]
          },
          "metadata": {},
          "execution_count": 34
        }
      ],
      "source": [
        "show(kriging_result)"
      ]
    },
    {
      "cell_type": "code",
      "execution_count": null,
      "id": "6593d9e6",
      "metadata": {
        "id": "6593d9e6"
      },
      "outputs": [],
      "source": []
    }
  ],
  "metadata": {
    "kernelspec": {
      "display_name": "Python 3 (ipykernel)",
      "language": "python",
      "name": "python3"
    },
    "language_info": {
      "codemirror_mode": {
        "name": "ipython",
        "version": 3
      },
      "file_extension": ".py",
      "mimetype": "text/x-python",
      "name": "python",
      "nbconvert_exporter": "python",
      "pygments_lexer": "ipython3",
      "version": "3.9.7"
    },
    "colab": {
      "provenance": [],
      "include_colab_link": true
    }
  },
  "nbformat": 4,
  "nbformat_minor": 5
}