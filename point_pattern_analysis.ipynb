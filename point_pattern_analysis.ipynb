{
  "cells": [
    {
      "cell_type": "markdown",
      "metadata": {
        "id": "view-in-github",
        "colab_type": "text"
      },
      "source": [
        "<a href=\"https://colab.research.google.com/github/Sahilshajahan/spatial_data_analysis/blob/main/point_pattern_analysis.ipynb\" target=\"_parent\"><img src=\"https://colab.research.google.com/assets/colab-badge.svg\" alt=\"Open In Colab\"/></a>"
      ]
    },
    {
      "cell_type": "code",
      "source": [],
      "metadata": {
        "id": "A3KGIMBYFKM3"
      },
      "id": "A3KGIMBYFKM3",
      "execution_count": null,
      "outputs": []
    },
    {
      "cell_type": "code",
      "source": [
        "pip install geopandas"
      ],
      "metadata": {
        "colab": {
          "base_uri": "https://localhost:8080/"
        },
        "id": "oGPlTY1AFI-4",
        "outputId": "0d15ab0a-b713-4e34-d570-d8aec4b11218"
      },
      "id": "oGPlTY1AFI-4",
      "execution_count": null,
      "outputs": [
        {
          "output_type": "stream",
          "name": "stdout",
          "text": [
            "Looking in indexes: https://pypi.org/simple, https://us-python.pkg.dev/colab-wheels/public/simple/\n",
            "Collecting geopandas\n",
            "  Downloading geopandas-0.12.2-py3-none-any.whl (1.1 MB)\n",
            "\u001b[K     |████████████████████████████████| 1.1 MB 6.0 MB/s \n",
            "\u001b[?25hCollecting fiona>=1.8\n",
            "  Downloading Fiona-1.8.22-cp38-cp38-manylinux_2_17_x86_64.manylinux2014_x86_64.whl (16.6 MB)\n",
            "\u001b[K     |████████████████████████████████| 16.6 MB 154 kB/s \n",
            "\u001b[?25hCollecting pyproj>=2.6.1.post1\n",
            "  Downloading pyproj-3.4.1-cp38-cp38-manylinux_2_17_x86_64.manylinux2014_x86_64.whl (7.8 MB)\n",
            "\u001b[K     |████████████████████████████████| 7.8 MB 52.6 MB/s \n",
            "\u001b[?25hRequirement already satisfied: pandas>=1.0.0 in /usr/local/lib/python3.8/dist-packages (from geopandas) (1.3.5)\n",
            "Requirement already satisfied: packaging in /usr/local/lib/python3.8/dist-packages (from geopandas) (21.3)\n",
            "Requirement already satisfied: shapely>=1.7 in /usr/local/lib/python3.8/dist-packages (from geopandas) (2.0.0)\n",
            "Collecting cligj>=0.5\n",
            "  Downloading cligj-0.7.2-py3-none-any.whl (7.1 kB)\n",
            "Requirement already satisfied: certifi in /usr/local/lib/python3.8/dist-packages (from fiona>=1.8->geopandas) (2022.12.7)\n",
            "Collecting munch\n",
            "  Downloading munch-2.5.0-py2.py3-none-any.whl (10 kB)\n",
            "Requirement already satisfied: setuptools in /usr/local/lib/python3.8/dist-packages (from fiona>=1.8->geopandas) (57.4.0)\n",
            "Requirement already satisfied: click>=4.0 in /usr/local/lib/python3.8/dist-packages (from fiona>=1.8->geopandas) (7.1.2)\n",
            "Requirement already satisfied: attrs>=17 in /usr/local/lib/python3.8/dist-packages (from fiona>=1.8->geopandas) (22.1.0)\n",
            "Requirement already satisfied: six>=1.7 in /usr/local/lib/python3.8/dist-packages (from fiona>=1.8->geopandas) (1.15.0)\n",
            "Collecting click-plugins>=1.0\n",
            "  Downloading click_plugins-1.1.1-py2.py3-none-any.whl (7.5 kB)\n",
            "Requirement already satisfied: python-dateutil>=2.7.3 in /usr/local/lib/python3.8/dist-packages (from pandas>=1.0.0->geopandas) (2.8.2)\n",
            "Requirement already satisfied: pytz>=2017.3 in /usr/local/lib/python3.8/dist-packages (from pandas>=1.0.0->geopandas) (2022.6)\n",
            "Requirement already satisfied: numpy>=1.17.3 in /usr/local/lib/python3.8/dist-packages (from pandas>=1.0.0->geopandas) (1.21.6)\n",
            "Requirement already satisfied: pyparsing!=3.0.5,>=2.0.2 in /usr/local/lib/python3.8/dist-packages (from packaging->geopandas) (3.0.9)\n",
            "Installing collected packages: munch, cligj, click-plugins, pyproj, fiona, geopandas\n",
            "Successfully installed click-plugins-1.1.1 cligj-0.7.2 fiona-1.8.22 geopandas-0.12.2 munch-2.5.0 pyproj-3.4.1\n"
          ]
        }
      ]
    },
    {
      "cell_type": "code",
      "execution_count": null,
      "id": "0815c509",
      "metadata": {
        "id": "0815c509"
      },
      "outputs": [],
      "source": [
        "import geopandas as gpd\n",
        "import matplotlib.pyplot as plt"
      ]
    },
    {
      "cell_type": "code",
      "execution_count": null,
      "id": "af78712e",
      "metadata": {
        "colab": {
          "base_uri": "https://localhost:8080/"
        },
        "id": "af78712e",
        "outputId": "dc93de0c-9b57-41dc-8748-f1654fdac7fa"
      },
      "outputs": [
        {
          "output_type": "stream",
          "name": "stdout",
          "text": [
            "Looking in indexes: https://pypi.org/simple, https://us-python.pkg.dev/colab-wheels/public/simple/\n",
            "Requirement already satisfied: PointPats in /usr/local/lib/python3.8/dist-packages (2.2.0)\n",
            "Requirement already satisfied: opencv-contrib-python>=4.2.0 in /usr/local/lib/python3.8/dist-packages (from PointPats) (4.6.0.66)\n",
            "Requirement already satisfied: numpy>=1.3 in /usr/local/lib/python3.8/dist-packages (from PointPats) (1.21.6)\n",
            "Requirement already satisfied: libpysal>=4.0.0 in /usr/local/lib/python3.8/dist-packages (from PointPats) (4.7.0)\n",
            "Requirement already satisfied: matplotlib in /usr/local/lib/python3.8/dist-packages (from PointPats) (3.2.2)\n",
            "Requirement already satisfied: pandas in /usr/local/lib/python3.8/dist-packages (from PointPats) (1.3.5)\n",
            "Requirement already satisfied: scipy>=0.11 in /usr/local/lib/python3.8/dist-packages (from PointPats) (1.7.3)\n",
            "Requirement already satisfied: jinja2 in /usr/local/lib/python3.8/dist-packages (from libpysal>=4.0.0->PointPats) (2.11.3)\n",
            "Requirement already satisfied: beautifulsoup4 in /usr/local/lib/python3.8/dist-packages (from libpysal>=4.0.0->PointPats) (4.6.3)\n",
            "Requirement already satisfied: platformdirs in /usr/local/lib/python3.8/dist-packages (from libpysal>=4.0.0->PointPats) (2.6.0)\n",
            "Requirement already satisfied: packaging in /usr/local/lib/python3.8/dist-packages (from libpysal>=4.0.0->PointPats) (21.3)\n",
            "Requirement already satisfied: requests in /usr/local/lib/python3.8/dist-packages (from libpysal>=4.0.0->PointPats) (2.23.0)\n",
            "Requirement already satisfied: MarkupSafe>=0.23 in /usr/local/lib/python3.8/dist-packages (from jinja2->libpysal>=4.0.0->PointPats) (2.0.1)\n",
            "Requirement already satisfied: cycler>=0.10 in /usr/local/lib/python3.8/dist-packages (from matplotlib->PointPats) (0.11.0)\n",
            "Requirement already satisfied: kiwisolver>=1.0.1 in /usr/local/lib/python3.8/dist-packages (from matplotlib->PointPats) (1.4.4)\n",
            "Requirement already satisfied: pyparsing!=2.0.4,!=2.1.2,!=2.1.6,>=2.0.1 in /usr/local/lib/python3.8/dist-packages (from matplotlib->PointPats) (3.0.9)\n",
            "Requirement already satisfied: python-dateutil>=2.1 in /usr/local/lib/python3.8/dist-packages (from matplotlib->PointPats) (2.8.2)\n",
            "Requirement already satisfied: six>=1.5 in /usr/local/lib/python3.8/dist-packages (from python-dateutil>=2.1->matplotlib->PointPats) (1.15.0)\n",
            "Requirement already satisfied: pytz>=2017.3 in /usr/local/lib/python3.8/dist-packages (from pandas->PointPats) (2022.6)\n",
            "Requirement already satisfied: idna<3,>=2.5 in /usr/local/lib/python3.8/dist-packages (from requests->libpysal>=4.0.0->PointPats) (2.10)\n",
            "Requirement already satisfied: chardet<4,>=3.0.2 in /usr/local/lib/python3.8/dist-packages (from requests->libpysal>=4.0.0->PointPats) (3.0.4)\n",
            "Requirement already satisfied: certifi>=2017.4.17 in /usr/local/lib/python3.8/dist-packages (from requests->libpysal>=4.0.0->PointPats) (2022.12.7)\n",
            "Requirement already satisfied: urllib3!=1.25.0,!=1.25.1,<1.26,>=1.21.1 in /usr/local/lib/python3.8/dist-packages (from requests->libpysal>=4.0.0->PointPats) (1.24.3)\n"
          ]
        }
      ],
      "source": [
        "pip install PointPats"
      ]
    },
    {
      "cell_type": "code",
      "execution_count": null,
      "id": "d7a9c9f7",
      "metadata": {
        "id": "d7a9c9f7"
      },
      "outputs": [],
      "source": [
        "import geopandas as gpd\n",
        "import matplotlib.pyplot as plt\n",
        "import numpy as np\n",
        "import libpysal as ps\n",
        "\n",
        "from pointpats import PointPattern\n"
      ]
    },
    {
      "cell_type": "code",
      "execution_count": null,
      "id": "2cb71deb",
      "metadata": {
        "id": "2cb71deb"
      },
      "outputs": [],
      "source": [
        "points = gpd.read_file(r\"/content/gr.shp\")"
      ]
    },
    {
      "cell_type": "code",
      "source": [
        "from google.colab import drive\n",
        "drive.mount('/content/drive')"
      ],
      "metadata": {
        "id": "1UIK155lFcks"
      },
      "id": "1UIK155lFcks",
      "execution_count": null,
      "outputs": []
    },
    {
      "cell_type": "code",
      "execution_count": null,
      "id": "0616cd53",
      "metadata": {
        "colab": {
          "base_uri": "https://localhost:8080/",
          "height": 424
        },
        "id": "0616cd53",
        "outputId": "1dafa3c8-b3f4-4f42-9f12-ae2b65b79267"
      },
      "outputs": [
        {
          "output_type": "execute_result",
          "data": {
            "text/plain": [
              "        id         left          top        right       bottom  \\\n",
              "0      1.0  684117.4461  979424.3488  689117.4461  984424.3488   \n",
              "1      2.0  684117.4461  974424.3488  689117.4461  979424.3488   \n",
              "2      3.0  684117.4461  969424.3488  689117.4461  974424.3488   \n",
              "3      4.0  684117.4461  964424.3488  689117.4461  969424.3488   \n",
              "4      5.0  684117.4461  959424.3488  689117.4461  964424.3488   \n",
              "..     ...          ...          ...          ...          ...   \n",
              "177  178.0  749117.4461  939424.3488  754117.4461  944424.3488   \n",
              "178  179.0  749117.4461  934424.3488  754117.4461  939424.3488   \n",
              "179  180.0  749117.4461  929424.3488  754117.4461  934424.3488   \n",
              "180  181.0  749117.4461  924424.3488  754117.4461  929424.3488   \n",
              "181  182.0  749117.4461  919424.3488  754117.4461  924424.3488   \n",
              "\n",
              "                          geometry  \n",
              "0    POINT (684117.446 979424.349)  \n",
              "1    POINT (684117.446 974424.349)  \n",
              "2    POINT (684117.446 969424.349)  \n",
              "3    POINT (684117.446 964424.349)  \n",
              "4    POINT (684117.446 959424.349)  \n",
              "..                             ...  \n",
              "177  POINT (749117.446 939424.349)  \n",
              "178  POINT (749117.446 934424.349)  \n",
              "179  POINT (749117.446 929424.349)  \n",
              "180  POINT (749117.446 924424.349)  \n",
              "181  POINT (749117.446 919424.349)  \n",
              "\n",
              "[182 rows x 6 columns]"
            ],
            "text/html": [
              "\n",
              "  <div id=\"df-31ac6623-7c78-4b9a-bae8-46e76457348f\">\n",
              "    <div class=\"colab-df-container\">\n",
              "      <div>\n",
              "<style scoped>\n",
              "    .dataframe tbody tr th:only-of-type {\n",
              "        vertical-align: middle;\n",
              "    }\n",
              "\n",
              "    .dataframe tbody tr th {\n",
              "        vertical-align: top;\n",
              "    }\n",
              "\n",
              "    .dataframe thead th {\n",
              "        text-align: right;\n",
              "    }\n",
              "</style>\n",
              "<table border=\"1\" class=\"dataframe\">\n",
              "  <thead>\n",
              "    <tr style=\"text-align: right;\">\n",
              "      <th></th>\n",
              "      <th>id</th>\n",
              "      <th>left</th>\n",
              "      <th>top</th>\n",
              "      <th>right</th>\n",
              "      <th>bottom</th>\n",
              "      <th>geometry</th>\n",
              "    </tr>\n",
              "  </thead>\n",
              "  <tbody>\n",
              "    <tr>\n",
              "      <th>0</th>\n",
              "      <td>1.0</td>\n",
              "      <td>684117.4461</td>\n",
              "      <td>979424.3488</td>\n",
              "      <td>689117.4461</td>\n",
              "      <td>984424.3488</td>\n",
              "      <td>POINT (684117.446 979424.349)</td>\n",
              "    </tr>\n",
              "    <tr>\n",
              "      <th>1</th>\n",
              "      <td>2.0</td>\n",
              "      <td>684117.4461</td>\n",
              "      <td>974424.3488</td>\n",
              "      <td>689117.4461</td>\n",
              "      <td>979424.3488</td>\n",
              "      <td>POINT (684117.446 974424.349)</td>\n",
              "    </tr>\n",
              "    <tr>\n",
              "      <th>2</th>\n",
              "      <td>3.0</td>\n",
              "      <td>684117.4461</td>\n",
              "      <td>969424.3488</td>\n",
              "      <td>689117.4461</td>\n",
              "      <td>974424.3488</td>\n",
              "      <td>POINT (684117.446 969424.349)</td>\n",
              "    </tr>\n",
              "    <tr>\n",
              "      <th>3</th>\n",
              "      <td>4.0</td>\n",
              "      <td>684117.4461</td>\n",
              "      <td>964424.3488</td>\n",
              "      <td>689117.4461</td>\n",
              "      <td>969424.3488</td>\n",
              "      <td>POINT (684117.446 964424.349)</td>\n",
              "    </tr>\n",
              "    <tr>\n",
              "      <th>4</th>\n",
              "      <td>5.0</td>\n",
              "      <td>684117.4461</td>\n",
              "      <td>959424.3488</td>\n",
              "      <td>689117.4461</td>\n",
              "      <td>964424.3488</td>\n",
              "      <td>POINT (684117.446 959424.349)</td>\n",
              "    </tr>\n",
              "    <tr>\n",
              "      <th>...</th>\n",
              "      <td>...</td>\n",
              "      <td>...</td>\n",
              "      <td>...</td>\n",
              "      <td>...</td>\n",
              "      <td>...</td>\n",
              "      <td>...</td>\n",
              "    </tr>\n",
              "    <tr>\n",
              "      <th>177</th>\n",
              "      <td>178.0</td>\n",
              "      <td>749117.4461</td>\n",
              "      <td>939424.3488</td>\n",
              "      <td>754117.4461</td>\n",
              "      <td>944424.3488</td>\n",
              "      <td>POINT (749117.446 939424.349)</td>\n",
              "    </tr>\n",
              "    <tr>\n",
              "      <th>178</th>\n",
              "      <td>179.0</td>\n",
              "      <td>749117.4461</td>\n",
              "      <td>934424.3488</td>\n",
              "      <td>754117.4461</td>\n",
              "      <td>939424.3488</td>\n",
              "      <td>POINT (749117.446 934424.349)</td>\n",
              "    </tr>\n",
              "    <tr>\n",
              "      <th>179</th>\n",
              "      <td>180.0</td>\n",
              "      <td>749117.4461</td>\n",
              "      <td>929424.3488</td>\n",
              "      <td>754117.4461</td>\n",
              "      <td>934424.3488</td>\n",
              "      <td>POINT (749117.446 929424.349)</td>\n",
              "    </tr>\n",
              "    <tr>\n",
              "      <th>180</th>\n",
              "      <td>181.0</td>\n",
              "      <td>749117.4461</td>\n",
              "      <td>924424.3488</td>\n",
              "      <td>754117.4461</td>\n",
              "      <td>929424.3488</td>\n",
              "      <td>POINT (749117.446 924424.349)</td>\n",
              "    </tr>\n",
              "    <tr>\n",
              "      <th>181</th>\n",
              "      <td>182.0</td>\n",
              "      <td>749117.4461</td>\n",
              "      <td>919424.3488</td>\n",
              "      <td>754117.4461</td>\n",
              "      <td>924424.3488</td>\n",
              "      <td>POINT (749117.446 919424.349)</td>\n",
              "    </tr>\n",
              "  </tbody>\n",
              "</table>\n",
              "<p>182 rows × 6 columns</p>\n",
              "</div>\n",
              "      <button class=\"colab-df-convert\" onclick=\"convertToInteractive('df-31ac6623-7c78-4b9a-bae8-46e76457348f')\"\n",
              "              title=\"Convert this dataframe to an interactive table.\"\n",
              "              style=\"display:none;\">\n",
              "        \n",
              "  <svg xmlns=\"http://www.w3.org/2000/svg\" height=\"24px\"viewBox=\"0 0 24 24\"\n",
              "       width=\"24px\">\n",
              "    <path d=\"M0 0h24v24H0V0z\" fill=\"none\"/>\n",
              "    <path d=\"M18.56 5.44l.94 2.06.94-2.06 2.06-.94-2.06-.94-.94-2.06-.94 2.06-2.06.94zm-11 1L8.5 8.5l.94-2.06 2.06-.94-2.06-.94L8.5 2.5l-.94 2.06-2.06.94zm10 10l.94 2.06.94-2.06 2.06-.94-2.06-.94-.94-2.06-.94 2.06-2.06.94z\"/><path d=\"M17.41 7.96l-1.37-1.37c-.4-.4-.92-.59-1.43-.59-.52 0-1.04.2-1.43.59L10.3 9.45l-7.72 7.72c-.78.78-.78 2.05 0 2.83L4 21.41c.39.39.9.59 1.41.59.51 0 1.02-.2 1.41-.59l7.78-7.78 2.81-2.81c.8-.78.8-2.07 0-2.86zM5.41 20L4 18.59l7.72-7.72 1.47 1.35L5.41 20z\"/>\n",
              "  </svg>\n",
              "      </button>\n",
              "      \n",
              "  <style>\n",
              "    .colab-df-container {\n",
              "      display:flex;\n",
              "      flex-wrap:wrap;\n",
              "      gap: 12px;\n",
              "    }\n",
              "\n",
              "    .colab-df-convert {\n",
              "      background-color: #E8F0FE;\n",
              "      border: none;\n",
              "      border-radius: 50%;\n",
              "      cursor: pointer;\n",
              "      display: none;\n",
              "      fill: #1967D2;\n",
              "      height: 32px;\n",
              "      padding: 0 0 0 0;\n",
              "      width: 32px;\n",
              "    }\n",
              "\n",
              "    .colab-df-convert:hover {\n",
              "      background-color: #E2EBFA;\n",
              "      box-shadow: 0px 1px 2px rgba(60, 64, 67, 0.3), 0px 1px 3px 1px rgba(60, 64, 67, 0.15);\n",
              "      fill: #174EA6;\n",
              "    }\n",
              "\n",
              "    [theme=dark] .colab-df-convert {\n",
              "      background-color: #3B4455;\n",
              "      fill: #D2E3FC;\n",
              "    }\n",
              "\n",
              "    [theme=dark] .colab-df-convert:hover {\n",
              "      background-color: #434B5C;\n",
              "      box-shadow: 0px 1px 3px 1px rgba(0, 0, 0, 0.15);\n",
              "      filter: drop-shadow(0px 1px 2px rgba(0, 0, 0, 0.3));\n",
              "      fill: #FFFFFF;\n",
              "    }\n",
              "  </style>\n",
              "\n",
              "      <script>\n",
              "        const buttonEl =\n",
              "          document.querySelector('#df-31ac6623-7c78-4b9a-bae8-46e76457348f button.colab-df-convert');\n",
              "        buttonEl.style.display =\n",
              "          google.colab.kernel.accessAllowed ? 'block' : 'none';\n",
              "\n",
              "        async function convertToInteractive(key) {\n",
              "          const element = document.querySelector('#df-31ac6623-7c78-4b9a-bae8-46e76457348f');\n",
              "          const dataTable =\n",
              "            await google.colab.kernel.invokeFunction('convertToInteractive',\n",
              "                                                     [key], {});\n",
              "          if (!dataTable) return;\n",
              "\n",
              "          const docLinkHtml = 'Like what you see? Visit the ' +\n",
              "            '<a target=\"_blank\" href=https://colab.research.google.com/notebooks/data_table.ipynb>data table notebook</a>'\n",
              "            + ' to learn more about interactive tables.';\n",
              "          element.innerHTML = '';\n",
              "          dataTable['output_type'] = 'display_data';\n",
              "          await google.colab.output.renderOutput(dataTable, element);\n",
              "          const docLink = document.createElement('div');\n",
              "          docLink.innerHTML = docLinkHtml;\n",
              "          element.appendChild(docLink);\n",
              "        }\n",
              "      </script>\n",
              "    </div>\n",
              "  </div>\n",
              "  "
            ]
          },
          "metadata": {},
          "execution_count": 16
        }
      ],
      "source": [
        "points"
      ]
    },
    {
      "cell_type": "code",
      "execution_count": null,
      "id": "ea723445",
      "metadata": {
        "colab": {
          "base_uri": "https://localhost:8080/"
        },
        "id": "ea723445",
        "outputId": "d0a135e3-6d71-48de-d08e-a4524afa9ea4"
      },
      "outputs": [
        {
          "output_type": "stream",
          "name": "stderr",
          "text": [
            "/usr/local/lib/python3.8/dist-packages/geopandas/geodataframe.py:202: UserWarning: Pandas doesn't allow columns to be created via a new attribute name - see https://pandas.pydata.org/pandas-docs/stable/indexing.html#attribute-access\n",
            "  super().__setattr__(attr, val)\n"
          ]
        }
      ],
      "source": [
        "points.coordinates=points['geometry']"
      ]
    },
    {
      "cell_type": "code",
      "execution_count": null,
      "id": "a716db33",
      "metadata": {
        "colab": {
          "base_uri": "https://localhost:8080/"
        },
        "id": "a716db33",
        "outputId": "c7571b4e-0796-46f9-9be4-937a1b930cb0"
      },
      "outputs": [
        {
          "output_type": "execute_result",
          "data": {
            "text/plain": [
              "0      POINT (684117.446 979424.349)\n",
              "1      POINT (684117.446 974424.349)\n",
              "2      POINT (684117.446 969424.349)\n",
              "3      POINT (684117.446 964424.349)\n",
              "4      POINT (684117.446 959424.349)\n",
              "                   ...              \n",
              "177    POINT (749117.446 939424.349)\n",
              "178    POINT (749117.446 934424.349)\n",
              "179    POINT (749117.446 929424.349)\n",
              "180    POINT (749117.446 924424.349)\n",
              "181    POINT (749117.446 919424.349)\n",
              "Name: geometry, Length: 182, dtype: geometry"
            ]
          },
          "metadata": {},
          "execution_count": 18
        }
      ],
      "source": [
        "points.coordinates"
      ]
    },
    {
      "cell_type": "code",
      "execution_count": null,
      "id": "1f6dc51b",
      "metadata": {
        "colab": {
          "base_uri": "https://localhost:8080/"
        },
        "id": "1f6dc51b",
        "outputId": "f479afc2-1c1a-4a8b-a10e-5746eaa321ba"
      },
      "outputs": [
        {
          "output_type": "stream",
          "name": "stdout",
          "text": [
            "0      POINT (684117.446 979424.349)\n",
            "1      POINT (684117.446 974424.349)\n",
            "2      POINT (684117.446 969424.349)\n",
            "3      POINT (684117.446 964424.349)\n",
            "4      POINT (684117.446 959424.349)\n",
            "                   ...              \n",
            "177    POINT (749117.446 939424.349)\n",
            "178    POINT (749117.446 934424.349)\n",
            "179    POINT (749117.446 929424.349)\n",
            "180    POINT (749117.446 924424.349)\n",
            "181    POINT (749117.446 919424.349)\n",
            "Name: geometry, Length: 182, dtype: geometry\n",
            "[[684117.4461 979424.3488]\n",
            " [684117.4461 974424.3488]\n",
            " [684117.4461 969424.3488]\n",
            " [684117.4461 964424.3488]\n",
            " [684117.4461 959424.3488]\n",
            " [684117.4461 954424.3488]\n",
            " [684117.4461 949424.3488]\n",
            " [684117.4461 944424.3488]\n",
            " [684117.4461 939424.3488]\n",
            " [684117.4461 934424.3488]\n",
            " [684117.4461 929424.3488]\n",
            " [684117.4461 924424.3488]\n",
            " [684117.4461 919424.3488]\n",
            " [689117.4461 979424.3488]\n",
            " [689117.4461 974424.3488]\n",
            " [689117.4461 969424.3488]\n",
            " [689117.4461 964424.3488]\n",
            " [689117.4461 959424.3488]\n",
            " [689117.4461 954424.3488]\n",
            " [689117.4461 949424.3488]\n",
            " [689117.4461 944424.3488]\n",
            " [689117.4461 939424.3488]\n",
            " [689117.4461 934424.3488]\n",
            " [689117.4461 929424.3488]\n",
            " [689117.4461 924424.3488]\n",
            " [689117.4461 919424.3488]\n",
            " [694117.4461 979424.3488]\n",
            " [694117.4461 974424.3488]\n",
            " [694117.4461 969424.3488]\n",
            " [694117.4461 964424.3488]\n",
            " [694117.4461 959424.3488]\n",
            " [694117.4461 954424.3488]\n",
            " [694117.4461 949424.3488]\n",
            " [694117.4461 944424.3488]\n",
            " [694117.4461 939424.3488]\n",
            " [694117.4461 934424.3488]\n",
            " [694117.4461 929424.3488]\n",
            " [694117.4461 924424.3488]\n",
            " [694117.4461 919424.3488]\n",
            " [699117.4461 979424.3488]\n",
            " [699117.4461 974424.3488]\n",
            " [699117.4461 969424.3488]\n",
            " [699117.4461 964424.3488]\n",
            " [699117.4461 959424.3488]\n",
            " [699117.4461 954424.3488]\n",
            " [699117.4461 949424.3488]\n",
            " [699117.4461 944424.3488]\n",
            " [699117.4461 939424.3488]\n",
            " [699117.4461 934424.3488]\n",
            " [699117.4461 929424.3488]\n",
            " [699117.4461 924424.3488]\n",
            " [699117.4461 919424.3488]\n",
            " [704117.4461 979424.3488]\n",
            " [704117.4461 974424.3488]\n",
            " [704117.4461 969424.3488]\n",
            " [704117.4461 964424.3488]\n",
            " [704117.4461 959424.3488]\n",
            " [704117.4461 954424.3488]\n",
            " [704117.4461 949424.3488]\n",
            " [704117.4461 944424.3488]\n",
            " [704117.4461 939424.3488]\n",
            " [704117.4461 934424.3488]\n",
            " [704117.4461 929424.3488]\n",
            " [704117.4461 924424.3488]\n",
            " [704117.4461 919424.3488]\n",
            " [709117.4461 979424.3488]\n",
            " [709117.4461 974424.3488]\n",
            " [709117.4461 969424.3488]\n",
            " [709117.4461 964424.3488]\n",
            " [709117.4461 959424.3488]\n",
            " [709117.4461 954424.3488]\n",
            " [709117.4461 949424.3488]\n",
            " [709117.4461 944424.3488]\n",
            " [709117.4461 939424.3488]\n",
            " [709117.4461 934424.3488]\n",
            " [709117.4461 929424.3488]\n",
            " [709117.4461 924424.3488]\n",
            " [709117.4461 919424.3488]\n",
            " [714117.4461 979424.3488]\n",
            " [714117.4461 974424.3488]\n",
            " [714117.4461 969424.3488]\n",
            " [714117.4461 964424.3488]\n",
            " [714117.4461 959424.3488]\n",
            " [714117.4461 954424.3488]\n",
            " [714117.4461 949424.3488]\n",
            " [714117.4461 944424.3488]\n",
            " [714117.4461 939424.3488]\n",
            " [714117.4461 934424.3488]\n",
            " [714117.4461 929424.3488]\n",
            " [714117.4461 924424.3488]\n",
            " [714117.4461 919424.3488]\n",
            " [719117.4461 979424.3488]\n",
            " [719117.4461 974424.3488]\n",
            " [719117.4461 969424.3488]\n",
            " [719117.4461 964424.3488]\n",
            " [719117.4461 959424.3488]\n",
            " [719117.4461 954424.3488]\n",
            " [719117.4461 949424.3488]\n",
            " [719117.4461 944424.3488]\n",
            " [719117.4461 939424.3488]\n",
            " [719117.4461 934424.3488]\n",
            " [719117.4461 929424.3488]\n",
            " [719117.4461 924424.3488]\n",
            " [719117.4461 919424.3488]\n",
            " [724117.4461 979424.3488]\n",
            " [724117.4461 974424.3488]\n",
            " [724117.4461 969424.3488]\n",
            " [724117.4461 964424.3488]\n",
            " [724117.4461 959424.3488]\n",
            " [724117.4461 954424.3488]\n",
            " [724117.4461 949424.3488]\n",
            " [724117.4461 944424.3488]\n",
            " [724117.4461 939424.3488]\n",
            " [724117.4461 934424.3488]\n",
            " [724117.4461 929424.3488]\n",
            " [724117.4461 924424.3488]\n",
            " [724117.4461 919424.3488]\n",
            " [729117.4461 979424.3488]\n",
            " [729117.4461 974424.3488]\n",
            " [729117.4461 969424.3488]\n",
            " [729117.4461 964424.3488]\n",
            " [729117.4461 959424.3488]\n",
            " [729117.4461 954424.3488]\n",
            " [729117.4461 949424.3488]\n",
            " [729117.4461 944424.3488]\n",
            " [729117.4461 939424.3488]\n",
            " [729117.4461 934424.3488]\n",
            " [729117.4461 929424.3488]\n",
            " [729117.4461 924424.3488]\n",
            " [729117.4461 919424.3488]\n",
            " [734117.4461 979424.3488]\n",
            " [734117.4461 974424.3488]\n",
            " [734117.4461 969424.3488]\n",
            " [734117.4461 964424.3488]\n",
            " [734117.4461 959424.3488]\n",
            " [734117.4461 954424.3488]\n",
            " [734117.4461 949424.3488]\n",
            " [734117.4461 944424.3488]\n",
            " [734117.4461 939424.3488]\n",
            " [734117.4461 934424.3488]\n",
            " [734117.4461 929424.3488]\n",
            " [734117.4461 924424.3488]\n",
            " [734117.4461 919424.3488]\n",
            " [739117.4461 979424.3488]\n",
            " [739117.4461 974424.3488]\n",
            " [739117.4461 969424.3488]\n",
            " [739117.4461 964424.3488]\n",
            " [739117.4461 959424.3488]\n",
            " [739117.4461 954424.3488]\n",
            " [739117.4461 949424.3488]\n",
            " [739117.4461 944424.3488]\n",
            " [739117.4461 939424.3488]\n",
            " [739117.4461 934424.3488]\n",
            " [739117.4461 929424.3488]\n",
            " [739117.4461 924424.3488]\n",
            " [739117.4461 919424.3488]\n",
            " [744117.4461 979424.3488]\n",
            " [744117.4461 974424.3488]\n",
            " [744117.4461 969424.3488]\n",
            " [744117.4461 964424.3488]\n",
            " [744117.4461 959424.3488]\n",
            " [744117.4461 954424.3488]\n",
            " [744117.4461 949424.3488]\n",
            " [744117.4461 944424.3488]\n",
            " [744117.4461 939424.3488]\n",
            " [744117.4461 934424.3488]\n",
            " [744117.4461 929424.3488]\n",
            " [744117.4461 924424.3488]\n",
            " [744117.4461 919424.3488]\n",
            " [749117.4461 979424.3488]\n",
            " [749117.4461 974424.3488]\n",
            " [749117.4461 969424.3488]\n",
            " [749117.4461 964424.3488]\n",
            " [749117.4461 959424.3488]\n",
            " [749117.4461 954424.3488]\n",
            " [749117.4461 949424.3488]\n",
            " [749117.4461 944424.3488]\n",
            " [749117.4461 939424.3488]\n",
            " [749117.4461 934424.3488]\n",
            " [749117.4461 929424.3488]\n",
            " [749117.4461 924424.3488]\n",
            " [749117.4461 919424.3488]]\n"
          ]
        }
      ],
      "source": [
        "listarray = []             #converting lat and long to ARRAY\n",
        "for i in points.coordinates:\n",
        "    listarray.append([i.x,i.y])\n",
        "nparray = np.array(listarray)\n",
        "\n",
        "print(points.coordinates)\n",
        "print(nparray)"
      ]
    },
    {
      "cell_type": "code",
      "execution_count": null,
      "id": "6df7344e",
      "metadata": {
        "colab": {
          "base_uri": "https://localhost:8080/",
          "height": 513
        },
        "id": "6df7344e",
        "outputId": "2b64df7a-8faf-4eeb-aba6-be4d0bd5109b"
      },
      "outputs": [
        {
          "output_type": "stream",
          "name": "stderr",
          "text": [
            "/usr/local/lib/python3.8/dist-packages/libpysal/cg/shapes.py:1492: FutureWarning: Objects based on the `Geometry` class will deprecated and removed in a future version of libpysal.\n",
            "  warnings.warn(dep_msg, FutureWarning)\n",
            "/usr/local/lib/python3.8/dist-packages/libpysal/cg/shapes.py:1208: FutureWarning: Objects based on the `Geometry` class will deprecated and removed in a future version of libpysal.\n",
            "  warnings.warn(dep_msg, FutureWarning)\n"
          ]
        },
        {
          "output_type": "execute_result",
          "data": {
            "text/plain": [
              "               x            y\n",
              "0    684117.4461  979424.3488\n",
              "1    684117.4461  974424.3488\n",
              "2    684117.4461  969424.3488\n",
              "3    684117.4461  964424.3488\n",
              "4    684117.4461  959424.3488\n",
              "..           ...          ...\n",
              "177  749117.4461  939424.3488\n",
              "178  749117.4461  934424.3488\n",
              "179  749117.4461  929424.3488\n",
              "180  749117.4461  924424.3488\n",
              "181  749117.4461  919424.3488\n",
              "\n",
              "[182 rows x 2 columns]"
            ],
            "text/html": [
              "\n",
              "  <div id=\"df-b93f247a-6007-413f-8867-c7eddbe5a111\">\n",
              "    <div class=\"colab-df-container\">\n",
              "      <div>\n",
              "<style scoped>\n",
              "    .dataframe tbody tr th:only-of-type {\n",
              "        vertical-align: middle;\n",
              "    }\n",
              "\n",
              "    .dataframe tbody tr th {\n",
              "        vertical-align: top;\n",
              "    }\n",
              "\n",
              "    .dataframe thead th {\n",
              "        text-align: right;\n",
              "    }\n",
              "</style>\n",
              "<table border=\"1\" class=\"dataframe\">\n",
              "  <thead>\n",
              "    <tr style=\"text-align: right;\">\n",
              "      <th></th>\n",
              "      <th>x</th>\n",
              "      <th>y</th>\n",
              "    </tr>\n",
              "  </thead>\n",
              "  <tbody>\n",
              "    <tr>\n",
              "      <th>0</th>\n",
              "      <td>684117.4461</td>\n",
              "      <td>979424.3488</td>\n",
              "    </tr>\n",
              "    <tr>\n",
              "      <th>1</th>\n",
              "      <td>684117.4461</td>\n",
              "      <td>974424.3488</td>\n",
              "    </tr>\n",
              "    <tr>\n",
              "      <th>2</th>\n",
              "      <td>684117.4461</td>\n",
              "      <td>969424.3488</td>\n",
              "    </tr>\n",
              "    <tr>\n",
              "      <th>3</th>\n",
              "      <td>684117.4461</td>\n",
              "      <td>964424.3488</td>\n",
              "    </tr>\n",
              "    <tr>\n",
              "      <th>4</th>\n",
              "      <td>684117.4461</td>\n",
              "      <td>959424.3488</td>\n",
              "    </tr>\n",
              "    <tr>\n",
              "      <th>...</th>\n",
              "      <td>...</td>\n",
              "      <td>...</td>\n",
              "    </tr>\n",
              "    <tr>\n",
              "      <th>177</th>\n",
              "      <td>749117.4461</td>\n",
              "      <td>939424.3488</td>\n",
              "    </tr>\n",
              "    <tr>\n",
              "      <th>178</th>\n",
              "      <td>749117.4461</td>\n",
              "      <td>934424.3488</td>\n",
              "    </tr>\n",
              "    <tr>\n",
              "      <th>179</th>\n",
              "      <td>749117.4461</td>\n",
              "      <td>929424.3488</td>\n",
              "    </tr>\n",
              "    <tr>\n",
              "      <th>180</th>\n",
              "      <td>749117.4461</td>\n",
              "      <td>924424.3488</td>\n",
              "    </tr>\n",
              "    <tr>\n",
              "      <th>181</th>\n",
              "      <td>749117.4461</td>\n",
              "      <td>919424.3488</td>\n",
              "    </tr>\n",
              "  </tbody>\n",
              "</table>\n",
              "<p>182 rows × 2 columns</p>\n",
              "</div>\n",
              "      <button class=\"colab-df-convert\" onclick=\"convertToInteractive('df-b93f247a-6007-413f-8867-c7eddbe5a111')\"\n",
              "              title=\"Convert this dataframe to an interactive table.\"\n",
              "              style=\"display:none;\">\n",
              "        \n",
              "  <svg xmlns=\"http://www.w3.org/2000/svg\" height=\"24px\"viewBox=\"0 0 24 24\"\n",
              "       width=\"24px\">\n",
              "    <path d=\"M0 0h24v24H0V0z\" fill=\"none\"/>\n",
              "    <path d=\"M18.56 5.44l.94 2.06.94-2.06 2.06-.94-2.06-.94-.94-2.06-.94 2.06-2.06.94zm-11 1L8.5 8.5l.94-2.06 2.06-.94-2.06-.94L8.5 2.5l-.94 2.06-2.06.94zm10 10l.94 2.06.94-2.06 2.06-.94-2.06-.94-.94-2.06-.94 2.06-2.06.94z\"/><path d=\"M17.41 7.96l-1.37-1.37c-.4-.4-.92-.59-1.43-.59-.52 0-1.04.2-1.43.59L10.3 9.45l-7.72 7.72c-.78.78-.78 2.05 0 2.83L4 21.41c.39.39.9.59 1.41.59.51 0 1.02-.2 1.41-.59l7.78-7.78 2.81-2.81c.8-.78.8-2.07 0-2.86zM5.41 20L4 18.59l7.72-7.72 1.47 1.35L5.41 20z\"/>\n",
              "  </svg>\n",
              "      </button>\n",
              "      \n",
              "  <style>\n",
              "    .colab-df-container {\n",
              "      display:flex;\n",
              "      flex-wrap:wrap;\n",
              "      gap: 12px;\n",
              "    }\n",
              "\n",
              "    .colab-df-convert {\n",
              "      background-color: #E8F0FE;\n",
              "      border: none;\n",
              "      border-radius: 50%;\n",
              "      cursor: pointer;\n",
              "      display: none;\n",
              "      fill: #1967D2;\n",
              "      height: 32px;\n",
              "      padding: 0 0 0 0;\n",
              "      width: 32px;\n",
              "    }\n",
              "\n",
              "    .colab-df-convert:hover {\n",
              "      background-color: #E2EBFA;\n",
              "      box-shadow: 0px 1px 2px rgba(60, 64, 67, 0.3), 0px 1px 3px 1px rgba(60, 64, 67, 0.15);\n",
              "      fill: #174EA6;\n",
              "    }\n",
              "\n",
              "    [theme=dark] .colab-df-convert {\n",
              "      background-color: #3B4455;\n",
              "      fill: #D2E3FC;\n",
              "    }\n",
              "\n",
              "    [theme=dark] .colab-df-convert:hover {\n",
              "      background-color: #434B5C;\n",
              "      box-shadow: 0px 1px 3px 1px rgba(0, 0, 0, 0.15);\n",
              "      filter: drop-shadow(0px 1px 2px rgba(0, 0, 0, 0.3));\n",
              "      fill: #FFFFFF;\n",
              "    }\n",
              "  </style>\n",
              "\n",
              "      <script>\n",
              "        const buttonEl =\n",
              "          document.querySelector('#df-b93f247a-6007-413f-8867-c7eddbe5a111 button.colab-df-convert');\n",
              "        buttonEl.style.display =\n",
              "          google.colab.kernel.accessAllowed ? 'block' : 'none';\n",
              "\n",
              "        async function convertToInteractive(key) {\n",
              "          const element = document.querySelector('#df-b93f247a-6007-413f-8867-c7eddbe5a111');\n",
              "          const dataTable =\n",
              "            await google.colab.kernel.invokeFunction('convertToInteractive',\n",
              "                                                     [key], {});\n",
              "          if (!dataTable) return;\n",
              "\n",
              "          const docLinkHtml = 'Like what you see? Visit the ' +\n",
              "            '<a target=\"_blank\" href=https://colab.research.google.com/notebooks/data_table.ipynb>data table notebook</a>'\n",
              "            + ' to learn more about interactive tables.';\n",
              "          element.innerHTML = '';\n",
              "          dataTable['output_type'] = 'display_data';\n",
              "          await google.colab.output.renderOutput(dataTable, element);\n",
              "          const docLink = document.createElement('div');\n",
              "          docLink.innerHTML = docLinkHtml;\n",
              "          element.appendChild(docLink);\n",
              "        }\n",
              "      </script>\n",
              "    </div>\n",
              "  </div>\n",
              "  "
            ]
          },
          "metadata": {},
          "execution_count": 20
        }
      ],
      "source": [
        "#cretaing the events pattern by using the numpy array which is created from the lat long values\n",
        "pp=PointPattern(nparray)\n",
        "pp\n",
        "pp.points   #WE CAN SEE THAT IT IS DISTRIBUTED UNIFORMLY"
      ]
    },
    {
      "cell_type": "code",
      "execution_count": null,
      "id": "c486a7ab",
      "metadata": {
        "colab": {
          "base_uri": "https://localhost:8080/",
          "height": 281
        },
        "id": "c486a7ab",
        "outputId": "4e90e30b-c73c-420a-8195-d33cdafc1e39"
      },
      "outputs": [
        {
          "output_type": "display_data",
          "data": {
            "text/plain": [
              "<Figure size 432x288 with 1 Axes>"
            ],
            "image/png": "[encoded data removed]"
          },
          "metadata": {
            "needs_background": "light"
          }
        }
      ],
      "source": [
        "\n",
        "pp.plot()"
      ]
    },
    {
      "cell_type": "code",
      "execution_count": null,
      "id": "f673fda8",
      "metadata": {
        "colab": {
          "base_uri": "https://localhost:8080/"
        },
        "id": "f673fda8",
        "outputId": "80247ff9-c5ac-4196-e658-d5e93f6053c6"
      },
      "outputs": [
        {
          "output_type": "stream",
          "name": "stdout",
          "text": [
            "Point Pattern\n",
            "182 points\n",
            "Bounding rectangle [(684117.4461,919424.3488), (749117.4461,979424.3488)]\n",
            "Area of window: 3900000000.0\n",
            "Intensity estimate for window: 4.666666666666667e-08\n",
            "             x            y\n",
            "0  684117.4461  979424.3488\n",
            "1  684117.4461  974424.3488\n",
            "2  684117.4461  969424.3488\n",
            "3  684117.4461  964424.3488\n",
            "4  684117.4461  959424.3488\n"
          ]
        }
      ],
      "source": [
        "pp.summary()"
      ]
    },
    {
      "cell_type": "code",
      "execution_count": null,
      "id": "a9e3c8aa",
      "metadata": {
        "id": "a9e3c8aa"
      },
      "outputs": [],
      "source": [
        "from pointpats.centrography import mean_center, weighted_mean_center,manhattan_median,std_distance,ellipse"
      ]
    },
    {
      "cell_type": "markdown",
      "id": "04e7a393",
      "metadata": {
        "id": "04e7a393"
      },
      "source": [
        "# calculate mean center"
      ]
    },
    {
      "cell_type": "code",
      "execution_count": null,
      "id": "ab1529cc",
      "metadata": {
        "colab": {
          "base_uri": "https://localhost:8080/"
        },
        "id": "ab1529cc",
        "outputId": "d5a0278c-1853-4934-c020-ad16d787982a"
      },
      "outputs": [
        {
          "output_type": "execute_result",
          "data": {
            "text/plain": [
              "array([716617.4461, 949424.3488])"
            ]
          },
          "metadata": {},
          "execution_count": 24
        }
      ],
      "source": [
        "\n",
        "mc = mean_center(pp.points)\n",
        "mc"
      ]
    },
    {
      "cell_type": "code",
      "execution_count": null,
      "id": "5cb0f887",
      "metadata": {
        "colab": {
          "base_uri": "https://localhost:8080/"
        },
        "id": "5cb0f887",
        "outputId": "8e5bf3d5-fda8-40ed-c834-cc9e7a8dda69"
      },
      "outputs": [
        {
          "output_type": "execute_result",
          "data": {
            "text/plain": [
              "(716617.4460999975, 949424.3488000027)"
            ]
          },
          "metadata": {},
          "execution_count": 25
        }
      ],
      "source": [
        "mc[0],mc[1]"
      ]
    },
    {
      "cell_type": "code",
      "execution_count": null,
      "id": "c46dd8d5",
      "metadata": {
        "colab": {
          "base_uri": "https://localhost:8080/",
          "height": 281
        },
        "id": "c46dd8d5",
        "outputId": "9897bbac-250a-42c0-c115-6ae6d3b843c4"
      },
      "outputs": [
        {
          "output_type": "display_data",
          "data": {
            "text/plain": [
              "<Figure size 432x288 with 1 Axes>"
            ],
            "image/png": "[encoded data removed]"
          },
          "metadata": {
            "needs_background": "light"
          }
        }
      ],
      "source": [
        "pp.plot()"
      ]
    },
    {
      "cell_type": "code",
      "execution_count": null,
      "id": "7889a664",
      "metadata": {
        "colab": {
          "base_uri": "https://localhost:8080/",
          "height": 293
        },
        "id": "7889a664",
        "outputId": "d7fd4b95-119e-4cd8-c71c-73fd35b7d809"
      },
      "outputs": [
        {
          "output_type": "execute_result",
          "data": {
            "text/plain": [
              "<matplotlib.legend.Legend at 0x7f6dcf8bc430>"
            ]
          },
          "metadata": {},
          "execution_count": 27
        },
        {
          "output_type": "display_data",
          "data": {
            "text/plain": [
              "<Figure size 432x288 with 1 Axes>"
            ],
            "image/png": "[encoded data removed]"
          },
          "metadata": {
            "needs_background": "light"
          }
        }
      ],
      "source": [
        "plt.plot(mc[0],mc[1],'rd',label='Mean Center')\n",
        "plt.legend(numpoints=1)"
      ]
    },
    {
      "cell_type": "code",
      "execution_count": null,
      "id": "28277abb",
      "metadata": {
        "colab": {
          "base_uri": "https://localhost:8080/",
          "height": 298
        },
        "id": "28277abb",
        "outputId": "0f19f2a6-fbb0-4b95-838b-6d79a11bf01f"
      },
      "outputs": [
        {
          "output_type": "execute_result",
          "data": {
            "text/plain": [
              "<matplotlib.legend.Legend at 0x7f6dcf838f40>"
            ]
          },
          "metadata": {},
          "execution_count": 28
        },
        {
          "output_type": "display_data",
          "data": {
            "text/plain": [
              "<Figure size 432x288 with 1 Axes>"
            ],
            "image/png": "[encoded data removed]"
          },
          "metadata": {
            "needs_background": "light"
          }
        }
      ],
      "source": [
        "pp.plot()\n",
        "plt.plot(mc[0],mc[1],'rd',label='Mean Center')\n",
        "plt.legend()    #sidel lu label kanan vendi...numpoints=1/2 oke koduthal...ah symbol 1/2 kanikum"
      ]
    },
    {
      "cell_type": "markdown",
      "id": "3c2baa2f",
      "metadata": {
        "id": "3c2baa2f"
      },
      "source": [
        "## calculate weighted mean center\n"
      ]
    },
    {
      "cell_type": "code",
      "execution_count": null,
      "id": "1f18c7c2",
      "metadata": {
        "colab": {
          "base_uri": "https://localhost:8080/"
        },
        "id": "1f18c7c2",
        "outputId": "731fe470-e58c-4322-bab0-9a245f5c19c8"
      },
      "outputs": [
        {
          "output_type": "execute_result",
          "data": {
            "text/plain": [
              "array([  0,   1,   2,   3,   4,   5,   6,   7,   8,   9,  10,  11,  12,\n",
              "        13,  14,  15,  16,  17,  18,  19,  20,  21,  22,  23,  24,  25,\n",
              "        26,  27,  28,  29,  30,  31,  32,  33,  34,  35,  36,  37,  38,\n",
              "        39,  40,  41,  42,  43,  44,  45,  46,  47,  48,  49,  50,  51,\n",
              "        52,  53,  54,  55,  56,  57,  58,  59,  60,  61,  62,  63,  64,\n",
              "        65,  66,  67,  68,  69,  70,  71,  72,  73,  74,  75,  76,  77,\n",
              "        78,  79,  80,  81,  82,  83,  84,  85,  86,  87,  88,  89,  90,\n",
              "        91,  92,  93,  94,  95,  96,  97,  98,  99, 100, 101, 102, 103,\n",
              "       104, 105, 106, 107, 108, 109, 110, 111, 112, 113, 114, 115, 116,\n",
              "       117, 118, 119, 120, 121, 122, 123, 124, 125, 126, 127, 128, 129,\n",
              "       130, 131, 132, 133, 134, 135, 136, 137, 138, 139, 140, 141, 142,\n",
              "       143, 144, 145, 146, 147, 148, 149, 150, 151, 152, 153, 154, 155,\n",
              "       156, 157, 158, 159, 160, 161, 162, 163, 164, 165, 166, 167, 168,\n",
              "       169, 170, 171, 172, 173, 174, 175, 176, 177, 178, 179, 180, 181])"
            ]
          },
          "metadata": {},
          "execution_count": 29
        }
      ],
      "source": [
        "\n",
        "weight= np.arange(182)\n",
        "weight"
      ]
    },
    {
      "cell_type": "code",
      "execution_count": null,
      "id": "0e8c7621",
      "metadata": {
        "colab": {
          "base_uri": "https://localhost:8080/"
        },
        "id": "0e8c7621",
        "outputId": "d2f67527-884c-44e3-acbd-931706f137d8"
      },
      "outputs": [
        {
          "output_type": "execute_result",
          "data": {
            "text/plain": [
              "array([728288.71681823, 948650.86813702])"
            ]
          },
          "metadata": {},
          "execution_count": 30
        }
      ],
      "source": [
        "wmc=weighted_mean_center(pp.points,weight)\n",
        "wmc"
      ]
    },
    {
      "cell_type": "code",
      "execution_count": null,
      "id": "c1a1092c",
      "metadata": {
        "colab": {
          "base_uri": "https://localhost:8080/",
          "height": 281
        },
        "id": "c1a1092c",
        "outputId": "5394fa34-7a7e-49b1-a471-c58d391aa777"
      },
      "outputs": [
        {
          "output_type": "display_data",
          "data": {
            "text/plain": [
              "<Figure size 432x288 with 1 Axes>"
            ],
            "image/png": "[encoded data removed]"
          },
          "metadata": {
            "needs_background": "light"
          }
        }
      ],
      "source": [
        "pp.plot()"
      ]
    },
    {
      "cell_type": "code",
      "execution_count": null,
      "id": "67f5366d",
      "metadata": {
        "colab": {
          "base_uri": "https://localhost:8080/",
          "height": 293
        },
        "id": "67f5366d",
        "outputId": "b7c8b247-ef12-4ad3-e53a-92694cc9ec15"
      },
      "outputs": [
        {
          "output_type": "execute_result",
          "data": {
            "text/plain": [
              "[<matplotlib.lines.Line2D at 0x7f6dcf723880>]"
            ]
          },
          "metadata": {},
          "execution_count": 32
        },
        {
          "output_type": "display_data",
          "data": {
            "text/plain": [
              "<Figure size 432x288 with 1 Axes>"
            ],
            "image/png": "[encoded data removed]"
          },
          "metadata": {
            "needs_background": "light"
          }
        }
      ],
      "source": [
        "plt.plot(mc[0],mc[1],'g*',label='Mean Center')"
      ]
    },
    {
      "cell_type": "code",
      "execution_count": null,
      "id": "c6a82f60",
      "metadata": {
        "colab": {
          "base_uri": "https://localhost:8080/",
          "height": 293
        },
        "id": "c6a82f60",
        "outputId": "7e573888-41fb-41a3-9944-1d805adcfa19"
      },
      "outputs": [
        {
          "output_type": "execute_result",
          "data": {
            "text/plain": [
              "[<matplotlib.lines.Line2D at 0x7f6dcf702340>]"
            ]
          },
          "metadata": {},
          "execution_count": 33
        },
        {
          "output_type": "display_data",
          "data": {
            "text/plain": [
              "<Figure size 432x288 with 1 Axes>"
            ],
            "image/png": "[encoded data removed]"
          },
          "metadata": {
            "needs_background": "light"
          }
        }
      ],
      "source": [
        "plt.plot(wmc[0],wmc[1],'r^',label='weighted mean center')"
      ]
    },
    {
      "cell_type": "code",
      "execution_count": null,
      "id": "4060abbf",
      "metadata": {
        "colab": {
          "base_uri": "https://localhost:8080/",
          "height": 298
        },
        "id": "4060abbf",
        "outputId": "e6350136-a2fb-4776-b4a0-9f33cc1a08ca"
      },
      "outputs": [
        {
          "output_type": "execute_result",
          "data": {
            "text/plain": [
              "<matplotlib.legend.Legend at 0x7f6dcf6a7970>"
            ]
          },
          "metadata": {},
          "execution_count": 34
        },
        {
          "output_type": "display_data",
          "data": {
            "text/plain": [
              "<Figure size 432x288 with 1 Axes>"
            ],
            "image/png": "[encoded data removed]"
          },
          "metadata": {
            "needs_background": "light"
          }
        }
      ],
      "source": [
        "pp.plot()\n",
        "plt.plot(mc[0],mc[1],'g*',label='Mean Center')\n",
        "plt.plot(wmc[0],wmc[1],'r^',label='weighted mean center')\n",
        "plt.legend()"
      ]
    },
    {
      "cell_type": "code",
      "execution_count": null,
      "id": "fa84e696",
      "metadata": {
        "colab": {
          "base_uri": "https://localhost:8080/"
        },
        "id": "fa84e696",
        "outputId": "c3efbbf6-a382-423b-dd1c-604b0cec1453"
      },
      "outputs": [
        {
          "output_type": "execute_result",
          "data": {
            "text/plain": [
              "182"
            ]
          },
          "metadata": {},
          "execution_count": 35
        }
      ],
      "source": [
        "#get the number of points in the point pattern\n",
        "pp.n"
      ]
    },
    {
      "cell_type": "markdown",
      "id": "fb8118f3",
      "metadata": {
        "id": "fb8118f3"
      },
      "source": [
        "# calculate the median"
      ]
    },
    {
      "cell_type": "code",
      "execution_count": null,
      "id": "8b998c68",
      "metadata": {
        "colab": {
          "base_uri": "https://localhost:8080/"
        },
        "id": "8b998c68",
        "outputId": "365052d3-d16c-47c6-b23c-4951af86349d"
      },
      "outputs": [
        {
          "output_type": "stream",
          "name": "stderr",
          "text": [
            "/usr/local/lib/python3.8/dist-packages/pointpats/centrography.py:208: UserWarning: Manhattan Median is not unique for even point patterns.\n",
            "  warnings.warn(s)\n"
          ]
        },
        {
          "output_type": "execute_result",
          "data": {
            "text/plain": [
              "array([716617.4461, 949424.3488])"
            ]
          },
          "metadata": {},
          "execution_count": 36
        }
      ],
      "source": [
        "mm=manhattan_median(pp.points)\n",
        "mm"
      ]
    },
    {
      "cell_type": "code",
      "execution_count": null,
      "id": "73fb5816",
      "metadata": {
        "scrolled": true,
        "colab": {
          "base_uri": "https://localhost:8080/",
          "height": 298
        },
        "id": "73fb5816",
        "outputId": "89bf23d1-b02b-4b53-e341-ba6e57d3fd24"
      },
      "outputs": [
        {
          "output_type": "execute_result",
          "data": {
            "text/plain": [
              "<matplotlib.legend.Legend at 0x7f6dcf61eee0>"
            ]
          },
          "metadata": {},
          "execution_count": 37
        },
        {
          "output_type": "display_data",
          "data": {
            "text/plain": [
              "<Figure size 432x288 with 1 Axes>"
            ],
            "image/png": "[encoded data removed]"
          },
          "metadata": {
            "needs_background": "light"
          }
        }
      ],
      "source": [
        "#plottiongg the results\n",
        "pp.plot()\n",
        "plt.plot(mc[0],mc[1],'r*',label='Mean Center')\n",
        "plt.plot(wmc[0],wmc[1],'g^',label='weighted mean center')\n",
        "plt.plot(mm[0],mm[1],'b^',label='Manhartan Median')\n",
        "plt.legend()"
      ]
    },
    {
      "cell_type": "markdown",
      "id": "fcc94890",
      "metadata": {
        "id": "fcc94890"
      },
      "source": [
        "\n",
        "# calculating the ploting standard distance"
      ]
    },
    {
      "cell_type": "code",
      "execution_count": null,
      "id": "9684f634",
      "metadata": {
        "colab": {
          "base_uri": "https://localhost:8080/"
        },
        "id": "9684f634",
        "outputId": "0c0e9704-b977-4729-d31d-79cdcf387147"
      },
      "outputs": [
        {
          "output_type": "execute_result",
          "data": {
            "text/plain": [
              "27499.999999936746"
            ]
          },
          "metadata": {},
          "execution_count": 38
        }
      ],
      "source": [
        "std= std_distance(pp.points)\n",
        "std"
      ]
    },
    {
      "cell_type": "code",
      "execution_count": null,
      "id": "542aae63",
      "metadata": {
        "id": "542aae63"
      },
      "outputs": [],
      "source": [
        "circle=plt.Circle((mc[0],mc[1]),std,color='r')"
      ]
    },
    {
      "cell_type": "code",
      "execution_count": null,
      "id": "c7933912",
      "metadata": {
        "colab": {
          "base_uri": "https://localhost:8080/",
          "height": 281
        },
        "id": "c7933912",
        "outputId": "cced5340-734f-4caf-9bee-6b98a9b8bcf2"
      },
      "outputs": [
        {
          "output_type": "display_data",
          "data": {
            "text/plain": [
              "<Figure size 432x288 with 1 Axes>"
            ],
            "image/png": "[encoded data removed]"
          },
          "metadata": {
            "needs_background": "light"
          }
        }
      ],
      "source": [
        "ax=pp.plot(get_ax=True,title=\"satandard distance circle\")\n"
      ]
    },
    {
      "cell_type": "code",
      "execution_count": null,
      "id": "59a34080",
      "metadata": {
        "colab": {
          "base_uri": "https://localhost:8080/"
        },
        "id": "59a34080",
        "outputId": "59ff5fe5-7f59-47b1-be6a-3fa1046f95db"
      },
      "outputs": [
        {
          "output_type": "execute_result",
          "data": {
            "text/plain": [
              "<matplotlib.patches.Circle at 0x7f6dcf616f40>"
            ]
          },
          "metadata": {},
          "execution_count": 41
        }
      ],
      "source": [
        "ax.add_artist(circle)"
      ]
    },
    {
      "cell_type": "code",
      "execution_count": null,
      "id": "257b263c",
      "metadata": {
        "colab": {
          "base_uri": "https://localhost:8080/",
          "height": 293
        },
        "id": "257b263c",
        "outputId": "403d0716-aef7-456b-d8a6-b95edb366d70"
      },
      "outputs": [
        {
          "output_type": "execute_result",
          "data": {
            "text/plain": [
              "[<matplotlib.lines.Line2D at 0x7f6dcf516820>]"
            ]
          },
          "metadata": {},
          "execution_count": 42
        },
        {
          "output_type": "display_data",
          "data": {
            "text/plain": [
              "<Figure size 432x288 with 1 Axes>"
            ],
            "image/png": "[encoded data removed]"
          },
          "metadata": {
            "needs_background": "light"
          }
        }
      ],
      "source": [
        "plt.plot(mc[0],mc[1],'b^',label='mean center')\n"
      ]
    },
    {
      "cell_type": "code",
      "execution_count": null,
      "id": "67d3fd60",
      "metadata": {
        "colab": {
          "base_uri": "https://localhost:8080/",
          "height": 304
        },
        "id": "67d3fd60",
        "outputId": "e8d18f0d-348b-4bc9-ddf6-f269e0624e44"
      },
      "outputs": [
        {
          "output_type": "stream",
          "name": "stderr",
          "text": [
            "WARNING:matplotlib.legend:No handles with labels found to put in legend.\n"
          ]
        },
        {
          "output_type": "execute_result",
          "data": {
            "text/plain": [
              "<matplotlib.legend.Legend at 0x7f6dcf4e5100>"
            ]
          },
          "metadata": {},
          "execution_count": 43
        },
        {
          "output_type": "display_data",
          "data": {
            "text/plain": [
              "<Figure size 432x288 with 1 Axes>"
            ],
            "image/png": "[encoded data removed]"
          },
          "metadata": {
            "needs_background": "light"
          }
        }
      ],
      "source": [
        "ax.set_aspect('equal')\n",
        "plt.legend()"
      ]
    },
    {
      "cell_type": "code",
      "execution_count": null,
      "id": "d573d41e",
      "metadata": {
        "colab": {
          "base_uri": "https://localhost:8080/",
          "height": 316
        },
        "id": "d573d41e",
        "outputId": "21c64ea8-0f22-4f46-95fa-e6f899413c1b"
      },
      "outputs": [
        {
          "output_type": "stream",
          "name": "stderr",
          "text": [
            "WARNING:matplotlib.legend:No handles with labels found to put in legend.\n"
          ]
        },
        {
          "output_type": "execute_result",
          "data": {
            "text/plain": [
              "<matplotlib.legend.Legend at 0x7f6dcf4e50d0>"
            ]
          },
          "metadata": {},
          "execution_count": 44
        },
        {
          "output_type": "display_data",
          "data": {
            "text/plain": [
              "<Figure size 432x288 with 1 Axes>"
            ],
            "image/png": "[encoded data removed]"
          },
          "metadata": {
            "needs_background": "light"
          }
        }
      ],
      "source": [
        "std= std_distance(pp.points)\n",
        "std\n",
        "circle=plt.Circle((mc[0],mc[1]),std,color='r')\n",
        "ax=pp.plot(get_ax=True,title=\"satandard distance circle\")\n",
        "ax.add_artist(circle)\n",
        "ax.set_aspect('equal')\n",
        "plt.legend()"
      ]
    },
    {
      "cell_type": "markdown",
      "id": "1457b264",
      "metadata": {
        "id": "1457b264"
      },
      "source": [
        "# Quadrant analysis"
      ]
    },
    {
      "cell_type": "code",
      "execution_count": null,
      "id": "18132173",
      "metadata": {
        "colab": {
          "base_uri": "https://localhost:8080/",
          "height": 545
        },
        "id": "18132173",
        "outputId": "66e0c628-e56f-47eb-d5bc-0e79d13d7cf9"
      },
      "outputs": [
        {
          "output_type": "display_data",
          "data": {
            "text/plain": [
              "<Figure size 432x288 with 1 Axes>"
            ],
            "image/png": "[encoded data removed]"
          },
          "metadata": {
            "needs_background": "light"
          }
        },
        {
          "output_type": "display_data",
          "data": {
            "text/plain": [
              "<Figure size 432x288 with 1 Axes>"
            ],
            "image/png": "[encoded data removed]"
          },
          "metadata": {
            "needs_background": "light"
          }
        }
      ],
      "source": [
        "import pointpats.quadrat_statistics as qs\n",
        "pp.plot(title='point pattern')\n",
        "q_r = qs.QStatistic(pp,shape= \"rectangle\",nx = 3,ny = 3) \n",
        "q_r.plot()"
      ]
    },
    {
      "cell_type": "code",
      "execution_count": null,
      "id": "1e98248f",
      "metadata": {
        "colab": {
          "base_uri": "https://localhost:8080/"
        },
        "id": "1e98248f",
        "outputId": "d53512e4-4329-494c-932f-cb865590396a"
      },
      "outputs": [
        {
          "output_type": "execute_result",
          "data": {
            "text/plain": [
              "4.032967032967033"
            ]
          },
          "metadata": {},
          "execution_count": 46
        }
      ],
      "source": [
        "q_r.chi2 #chi-squared test statistic for the observed point pattern"
      ]
    },
    {
      "cell_type": "code",
      "execution_count": null,
      "id": "5f015d5e",
      "metadata": {
        "colab": {
          "base_uri": "https://localhost:8080/"
        },
        "id": "5f015d5e",
        "outputId": "80f7bcbc-ca75-428c-b1e7-88cfc30bf222"
      },
      "outputs": [
        {
          "output_type": "execute_result",
          "data": {
            "text/plain": [
              "8"
            ]
          },
          "metadata": {},
          "execution_count": 47
        }
      ],
      "source": [
        "q_r.df #degree of freedom"
      ]
    },
    {
      "cell_type": "code",
      "execution_count": null,
      "id": "b9dbc213",
      "metadata": {
        "id": "b9dbc213"
      },
      "outputs": [],
      "source": [
        "p=q_r.chi2_pvalue # analytical pvalue"
      ]
    },
    {
      "cell_type": "code",
      "execution_count": null,
      "id": "410b8ec4",
      "metadata": {
        "colab": {
          "base_uri": "https://localhost:8080/"
        },
        "id": "410b8ec4",
        "outputId": "bdb80fa1-5a42-4472-8165-009f5654f9a6"
      },
      "outputs": [
        {
          "output_type": "execute_result",
          "data": {
            "text/plain": [
              "0.8541368690026949"
            ]
          },
          "metadata": {},
          "execution_count": 49
        }
      ],
      "source": [
        "p    #.8 so rejecting the CSR   .05<less than points are random //// greater than-.05 points are clustering or dispereded(uniform) "
      ]
    }
  ],
  "metadata": {
    "kernelspec": {
      "display_name": "Python 3 (ipykernel)",
      "language": "python",
      "name": "python3"
    },
    "language_info": {
      "codemirror_mode": {
        "name": "ipython",
        "version": 3
      },
      "file_extension": ".py",
      "mimetype": "text/x-python",
      "name": "python",
      "nbconvert_exporter": "python",
      "pygments_lexer": "ipython3",
      "version": "3.9.7"
    },
    "colab": {
      "provenance": [],
      "include_colab_link": true
    }
  },
  "nbformat": 4,
  "nbformat_minor": 5
}